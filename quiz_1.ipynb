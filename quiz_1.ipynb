{
 "cells": [
  {
   "cell_type": "markdown",
   "metadata": {},
   "source": [
    "## Quiz 1"
   ]
  },
  {
   "cell_type": "code",
   "execution_count": null,
   "metadata": {},
   "outputs": [
    {
     "name": "stdout",
     "output_type": "stream",
     "text": [
      "   #Numbers  #Killed\n",
      "0        59        6\n",
      "1        60       13\n",
      "2        62       18\n",
      "3        56       28\n",
      "4        63       52\n",
      "5        59       53\n",
      "6        62       61\n",
      "7        60       60\n"
     ]
    }
   ],
   "source": [
    "import numpy as np\n",
    "import pandas as pd\n",
    "from scipy.optimize import minimize\n",
    "import matplotlib.pyplot as plt\n",
    "from scipy.special import comb\n",
    "import statsmodels.api as sm\n",
    "\n",
    "#bring in the data into python dataframe\n",
    "df = pd.read_excel('C:/Users/MarvinEspinoza-Leiva/github-repo-folder/adv_bus_analytics/Quiz1_data-1.xlsx')\n",
    "df.head()"
   ]
  },
  {
   "cell_type": "code",
   "execution_count": null,
   "metadata": {},
   "outputs": [],
   "source": [
    "#estimate p in this model\n",
    "\n",
    "#define the binomial function\n",
    "def binom(params):\n",
    "    p = params\n",
    "    prob_k_heads = comb(df['#Numbers'], df['#Killed']) * p**df['#Killed'] * (1 -p)**(df['#Numbers'] - df['#Killed'])\n",
    "    return prob_k_heads"
   ]
  },
  {
   "cell_type": "code",
   "execution_count": null,
   "metadata": {},
   "outputs": [],
   "source": [
    "#define the MLE binomial function\n",
    "def MLE_binom(params):\n",
    "    return -np.sum(np.log(binom(params)))"
   ]
  },
  {
   "cell_type": "code",
   "execution_count": null,
   "metadata": {},
   "outputs": [],
   "source": [
    "#setup the values for estimating p\n",
    "starting_val = [0.5]\n",
    "bounds = [(0, 1)]\n",
    "mle_model = minimize(MLE_binom, starting_val, method='Nelder-mead', bounds=bounds)\n",
    "mle_model"
   ]
  }
 ],
 "metadata": {
  "kernelspec": {
   "display_name": "env_311",
   "language": "python",
   "name": "python3"
  },
  "language_info": {
   "codemirror_mode": {
    "name": "ipython",
    "version": 3
   },
   "file_extension": ".py",
   "mimetype": "text/x-python",
   "name": "python",
   "nbconvert_exporter": "python",
   "pygments_lexer": "ipython3",
   "version": "3.11.9"
  }
 },
 "nbformat": 4,
 "nbformat_minor": 2
}
