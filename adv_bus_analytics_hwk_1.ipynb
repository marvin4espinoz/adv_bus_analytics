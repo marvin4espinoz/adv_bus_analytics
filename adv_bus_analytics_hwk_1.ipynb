{
 "cells": [
  {
   "cell_type": "markdown",
   "metadata": {},
   "source": [
    "Make sure to install and then import all the required python packages before beginning"
   ]
  },
  {
   "cell_type": "code",
   "execution_count": 17,
   "metadata": {},
   "outputs": [],
   "source": [
    "import numpy as np\n",
    "import pandas as pd\n",
    "from scipy.optimize import minimize\n",
    "import matplotlib.pyplot as plt\n",
    "from scipy.special import comb\n",
    "import statsmodels.api as sm"
   ]
  },
  {
   "cell_type": "markdown",
   "metadata": {},
   "source": [
    "# Problem #1:\n",
    "[30 in Total] Practice Goal: OLS estimation/Cross validation/ MLE estimation for linear model"
   ]
  },
  {
   "cell_type": "markdown",
   "metadata": {},
   "source": [
    "### Problem #1 - (1)\t\n",
    "Use observation ID 1-400 (you will use the last 100 data points as holdout sample for cross-validation) to estimate this model using Ordinary Least Square (OLS) method and report the coefficients and standard errors of the coefficients.  [8]"
   ]
  },
  {
   "cell_type": "code",
   "execution_count": 14,
   "metadata": {},
   "outputs": [
    {
     "data": {
      "text/html": [
       "<div>\n",
       "<style scoped>\n",
       "    .dataframe tbody tr th:only-of-type {\n",
       "        vertical-align: middle;\n",
       "    }\n",
       "\n",
       "    .dataframe tbody tr th {\n",
       "        vertical-align: top;\n",
       "    }\n",
       "\n",
       "    .dataframe thead th {\n",
       "        text-align: right;\n",
       "    }\n",
       "</style>\n",
       "<table border=\"1\" class=\"dataframe\">\n",
       "  <thead>\n",
       "    <tr style=\"text-align: right;\">\n",
       "      <th></th>\n",
       "      <th>ID</th>\n",
       "      <th>CRIM</th>\n",
       "      <th>CHAS</th>\n",
       "      <th>NOX</th>\n",
       "      <th>RM</th>\n",
       "      <th>AGE</th>\n",
       "      <th>DIS</th>\n",
       "      <th>PTRATIO</th>\n",
       "      <th>MEDV</th>\n",
       "    </tr>\n",
       "  </thead>\n",
       "  <tbody>\n",
       "    <tr>\n",
       "      <th>0</th>\n",
       "      <td>1</td>\n",
       "      <td>7.52601</td>\n",
       "      <td>0</td>\n",
       "      <td>0.713</td>\n",
       "      <td>6.417</td>\n",
       "      <td>98.3</td>\n",
       "      <td>2.1850</td>\n",
       "      <td>20.2</td>\n",
       "      <td>13.00</td>\n",
       "    </tr>\n",
       "    <tr>\n",
       "      <th>1</th>\n",
       "      <td>2</td>\n",
       "      <td>1.51902</td>\n",
       "      <td>1</td>\n",
       "      <td>0.605</td>\n",
       "      <td>8.375</td>\n",
       "      <td>93.9</td>\n",
       "      <td>2.1620</td>\n",
       "      <td>14.7</td>\n",
       "      <td>50.00</td>\n",
       "    </tr>\n",
       "    <tr>\n",
       "      <th>2</th>\n",
       "      <td>3</td>\n",
       "      <td>0.28392</td>\n",
       "      <td>0</td>\n",
       "      <td>0.493</td>\n",
       "      <td>5.708</td>\n",
       "      <td>74.3</td>\n",
       "      <td>4.7211</td>\n",
       "      <td>19.6</td>\n",
       "      <td>18.50</td>\n",
       "    </tr>\n",
       "    <tr>\n",
       "      <th>3</th>\n",
       "      <td>4</td>\n",
       "      <td>0.11460</td>\n",
       "      <td>0</td>\n",
       "      <td>0.464</td>\n",
       "      <td>6.538</td>\n",
       "      <td>58.7</td>\n",
       "      <td>3.9175</td>\n",
       "      <td>18.6</td>\n",
       "      <td>24.40</td>\n",
       "    </tr>\n",
       "    <tr>\n",
       "      <th>4</th>\n",
       "      <td>5</td>\n",
       "      <td>8.79212</td>\n",
       "      <td>0</td>\n",
       "      <td>0.584</td>\n",
       "      <td>5.565</td>\n",
       "      <td>70.6</td>\n",
       "      <td>2.0635</td>\n",
       "      <td>20.2</td>\n",
       "      <td>17.16</td>\n",
       "    </tr>\n",
       "  </tbody>\n",
       "</table>\n",
       "</div>"
      ],
      "text/plain": [
       "   ID     CRIM  CHAS    NOX     RM   AGE     DIS  PTRATIO   MEDV\n",
       "0   1  7.52601     0  0.713  6.417  98.3  2.1850     20.2  13.00\n",
       "1   2  1.51902     1  0.605  8.375  93.9  2.1620     14.7  50.00\n",
       "2   3  0.28392     0  0.493  5.708  74.3  4.7211     19.6  18.50\n",
       "3   4  0.11460     0  0.464  6.538  58.7  3.9175     18.6  24.40\n",
       "4   5  8.79212     0  0.584  5.565  70.6  2.0635     20.2  17.16"
      ]
     },
     "execution_count": 14,
     "metadata": {},
     "output_type": "execute_result"
    }
   ],
   "source": [
    "#bring in the data into python dataframe\n",
    "df = pd.read_excel('C:/Users/MarvinEspinoza-Leiva/github-repo-folder/adv_bus_analytics/homework_1/hw1_housing_data-1.xlsx')\n",
    "df.head()"
   ]
  },
  {
   "cell_type": "code",
   "execution_count": 19,
   "metadata": {},
   "outputs": [
    {
     "data": {
      "text/html": [
       "<table class=\"simpletable\">\n",
       "<caption>OLS Regression Results</caption>\n",
       "<tr>\n",
       "  <th>Dep. Variable:</th>          <td>MEDV</td>       <th>  R-squared:         </th> <td>   0.675</td>\n",
       "</tr>\n",
       "<tr>\n",
       "  <th>Model:</th>                   <td>OLS</td>       <th>  Adj. R-squared:    </th> <td>   0.669</td>\n",
       "</tr>\n",
       "<tr>\n",
       "  <th>Method:</th>             <td>Least Squares</td>  <th>  F-statistic:       </th> <td>   116.4</td>\n",
       "</tr>\n",
       "<tr>\n",
       "  <th>Date:</th>             <td>Sat, 02 Nov 2024</td> <th>  Prob (F-statistic):</th> <td>1.26e-91</td>\n",
       "</tr>\n",
       "<tr>\n",
       "  <th>Time:</th>                 <td>13:39:00</td>     <th>  Log-Likelihood:    </th> <td> -1226.6</td>\n",
       "</tr>\n",
       "<tr>\n",
       "  <th>No. Observations:</th>      <td>   400</td>      <th>  AIC:               </th> <td>   2469.</td>\n",
       "</tr>\n",
       "<tr>\n",
       "  <th>Df Residuals:</th>          <td>   392</td>      <th>  BIC:               </th> <td>   2501.</td>\n",
       "</tr>\n",
       "<tr>\n",
       "  <th>Df Model:</th>              <td>     7</td>      <th>                     </th>     <td> </td>   \n",
       "</tr>\n",
       "<tr>\n",
       "  <th>Covariance Type:</th>      <td>nonrobust</td>    <th>                     </th>     <td> </td>   \n",
       "</tr>\n",
       "</table>\n",
       "<table class=\"simpletable\">\n",
       "<tr>\n",
       "     <td></td>        <th>coef</th>     <th>std err</th>      <th>t</th>      <th>P>|t|</th>  <th>[0.025</th>    <th>0.975]</th>  \n",
       "</tr>\n",
       "<tr>\n",
       "  <th>const</th>   <td>   21.3583</td> <td>    5.265</td> <td>    4.057</td> <td> 0.000</td> <td>   11.008</td> <td>   31.709</td>\n",
       "</tr>\n",
       "<tr>\n",
       "  <th>CRIM</th>    <td>   -0.1214</td> <td>    0.037</td> <td>   -3.259</td> <td> 0.001</td> <td>   -0.195</td> <td>   -0.048</td>\n",
       "</tr>\n",
       "<tr>\n",
       "  <th>CHAS</th>    <td>    3.0206</td> <td>    1.074</td> <td>    2.811</td> <td> 0.005</td> <td>    0.908</td> <td>    5.133</td>\n",
       "</tr>\n",
       "<tr>\n",
       "  <th>NOX</th>     <td>  -23.2308</td> <td>    3.956</td> <td>   -5.872</td> <td> 0.000</td> <td>  -31.009</td> <td>  -15.453</td>\n",
       "</tr>\n",
       "<tr>\n",
       "  <th>RM</th>      <td>    6.8058</td> <td>    0.411</td> <td>   16.540</td> <td> 0.000</td> <td>    5.997</td> <td>    7.615</td>\n",
       "</tr>\n",
       "<tr>\n",
       "  <th>AGE</th>     <td>   -0.0501</td> <td>    0.015</td> <td>   -3.321</td> <td> 0.001</td> <td>   -0.080</td> <td>   -0.020</td>\n",
       "</tr>\n",
       "<tr>\n",
       "  <th>DIS</th>     <td>   -1.2356</td> <td>    0.215</td> <td>   -5.739</td> <td> 0.000</td> <td>   -1.659</td> <td>   -0.812</td>\n",
       "</tr>\n",
       "<tr>\n",
       "  <th>PTRATIO</th> <td>   -1.1073</td> <td>    0.138</td> <td>   -8.013</td> <td> 0.000</td> <td>   -1.379</td> <td>   -0.836</td>\n",
       "</tr>\n",
       "</table>\n",
       "<table class=\"simpletable\">\n",
       "<tr>\n",
       "  <th>Omnibus:</th>       <td>157.355</td> <th>  Durbin-Watson:     </th> <td>   1.868</td> \n",
       "</tr>\n",
       "<tr>\n",
       "  <th>Prob(Omnibus):</th> <td> 0.000</td>  <th>  Jarque-Bera (JB):  </th> <td> 943.192</td> \n",
       "</tr>\n",
       "<tr>\n",
       "  <th>Skew:</th>          <td> 1.559</td>  <th>  Prob(JB):          </th> <td>1.54e-205</td>\n",
       "</tr>\n",
       "<tr>\n",
       "  <th>Kurtosis:</th>      <td> 9.846</td>  <th>  Cond. No.          </th> <td>1.72e+03</td> \n",
       "</tr>\n",
       "</table><br/><br/>Notes:<br/>[1] Standard Errors assume that the covariance matrix of the errors is correctly specified.<br/>[2] The condition number is large, 1.72e+03. This might indicate that there are<br/>strong multicollinearity or other numerical problems."
      ],
      "text/latex": [
       "\\begin{center}\n",
       "\\begin{tabular}{lclc}\n",
       "\\toprule\n",
       "\\textbf{Dep. Variable:}    &       MEDV       & \\textbf{  R-squared:         } &     0.675   \\\\\n",
       "\\textbf{Model:}            &       OLS        & \\textbf{  Adj. R-squared:    } &     0.669   \\\\\n",
       "\\textbf{Method:}           &  Least Squares   & \\textbf{  F-statistic:       } &     116.4   \\\\\n",
       "\\textbf{Date:}             & Sat, 02 Nov 2024 & \\textbf{  Prob (F-statistic):} &  1.26e-91   \\\\\n",
       "\\textbf{Time:}             &     13:39:00     & \\textbf{  Log-Likelihood:    } &   -1226.6   \\\\\n",
       "\\textbf{No. Observations:} &         400      & \\textbf{  AIC:               } &     2469.   \\\\\n",
       "\\textbf{Df Residuals:}     &         392      & \\textbf{  BIC:               } &     2501.   \\\\\n",
       "\\textbf{Df Model:}         &           7      & \\textbf{                     } &             \\\\\n",
       "\\textbf{Covariance Type:}  &    nonrobust     & \\textbf{                     } &             \\\\\n",
       "\\bottomrule\n",
       "\\end{tabular}\n",
       "\\begin{tabular}{lcccccc}\n",
       "                 & \\textbf{coef} & \\textbf{std err} & \\textbf{t} & \\textbf{P$> |$t$|$} & \\textbf{[0.025} & \\textbf{0.975]}  \\\\\n",
       "\\midrule\n",
       "\\textbf{const}   &      21.3583  &        5.265     &     4.057  &         0.000        &       11.008    &       31.709     \\\\\n",
       "\\textbf{CRIM}    &      -0.1214  &        0.037     &    -3.259  &         0.001        &       -0.195    &       -0.048     \\\\\n",
       "\\textbf{CHAS}    &       3.0206  &        1.074     &     2.811  &         0.005        &        0.908    &        5.133     \\\\\n",
       "\\textbf{NOX}     &     -23.2308  &        3.956     &    -5.872  &         0.000        &      -31.009    &      -15.453     \\\\\n",
       "\\textbf{RM}      &       6.8058  &        0.411     &    16.540  &         0.000        &        5.997    &        7.615     \\\\\n",
       "\\textbf{AGE}     &      -0.0501  &        0.015     &    -3.321  &         0.001        &       -0.080    &       -0.020     \\\\\n",
       "\\textbf{DIS}     &      -1.2356  &        0.215     &    -5.739  &         0.000        &       -1.659    &       -0.812     \\\\\n",
       "\\textbf{PTRATIO} &      -1.1073  &        0.138     &    -8.013  &         0.000        &       -1.379    &       -0.836     \\\\\n",
       "\\bottomrule\n",
       "\\end{tabular}\n",
       "\\begin{tabular}{lclc}\n",
       "\\textbf{Omnibus:}       & 157.355 & \\textbf{  Durbin-Watson:     } &     1.868  \\\\\n",
       "\\textbf{Prob(Omnibus):} &   0.000 & \\textbf{  Jarque-Bera (JB):  } &   943.192  \\\\\n",
       "\\textbf{Skew:}          &   1.559 & \\textbf{  Prob(JB):          } & 1.54e-205  \\\\\n",
       "\\textbf{Kurtosis:}      &   9.846 & \\textbf{  Cond. No.          } &  1.72e+03  \\\\\n",
       "\\bottomrule\n",
       "\\end{tabular}\n",
       "%\\caption{OLS Regression Results}\n",
       "\\end{center}\n",
       "\n",
       "Notes: \\newline\n",
       " [1] Standard Errors assume that the covariance matrix of the errors is correctly specified. \\newline\n",
       " [2] The condition number is large, 1.72e+03. This might indicate that there are \\newline\n",
       " strong multicollinearity or other numerical problems."
      ],
      "text/plain": [
       "<class 'statsmodels.iolib.summary.Summary'>\n",
       "\"\"\"\n",
       "                            OLS Regression Results                            \n",
       "==============================================================================\n",
       "Dep. Variable:                   MEDV   R-squared:                       0.675\n",
       "Model:                            OLS   Adj. R-squared:                  0.669\n",
       "Method:                 Least Squares   F-statistic:                     116.4\n",
       "Date:                Sat, 02 Nov 2024   Prob (F-statistic):           1.26e-91\n",
       "Time:                        13:39:00   Log-Likelihood:                -1226.6\n",
       "No. Observations:                 400   AIC:                             2469.\n",
       "Df Residuals:                     392   BIC:                             2501.\n",
       "Df Model:                           7                                         \n",
       "Covariance Type:            nonrobust                                         \n",
       "==============================================================================\n",
       "                 coef    std err          t      P>|t|      [0.025      0.975]\n",
       "------------------------------------------------------------------------------\n",
       "const         21.3583      5.265      4.057      0.000      11.008      31.709\n",
       "CRIM          -0.1214      0.037     -3.259      0.001      -0.195      -0.048\n",
       "CHAS           3.0206      1.074      2.811      0.005       0.908       5.133\n",
       "NOX          -23.2308      3.956     -5.872      0.000     -31.009     -15.453\n",
       "RM             6.8058      0.411     16.540      0.000       5.997       7.615\n",
       "AGE           -0.0501      0.015     -3.321      0.001      -0.080      -0.020\n",
       "DIS           -1.2356      0.215     -5.739      0.000      -1.659      -0.812\n",
       "PTRATIO       -1.1073      0.138     -8.013      0.000      -1.379      -0.836\n",
       "==============================================================================\n",
       "Omnibus:                      157.355   Durbin-Watson:                   1.868\n",
       "Prob(Omnibus):                  0.000   Jarque-Bera (JB):              943.192\n",
       "Skew:                           1.559   Prob(JB):                    1.54e-205\n",
       "Kurtosis:                       9.846   Cond. No.                     1.72e+03\n",
       "==============================================================================\n",
       "\n",
       "Notes:\n",
       "[1] Standard Errors assume that the covariance matrix of the errors is correctly specified.\n",
       "[2] The condition number is large, 1.72e+03. This might indicate that there are\n",
       "strong multicollinearity or other numerical problems.\n",
       "\"\"\""
      ]
     },
     "execution_count": 19,
     "metadata": {},
     "output_type": "execute_result"
    }
   ],
   "source": [
    "#filter data to only use ID 1-400\n",
    "filtered_df = df[df['ID'] <= 400]\n",
    "\n",
    "#Using OLS linear regression, estimate the following model:  MEDV = constant + CRIM + CHAS + NOX + RM + AGE + DIS + PTRATIO\n",
    "X = filtered_df[['CRIM', 'CHAS', 'NOX', 'RM','AGE','DIS','PTRATIO']]  # Independent variables\n",
    "y = filtered_df['MEDV']  # Dependent variable\n",
    "\n",
    "# Add constant (intercept)\n",
    "X = sm.add_constant(X)\n",
    "\n",
    "# Create and fit model\n",
    "model = sm.OLS(y, X).fit()\n",
    "\n",
    "#produce the coefficients\n",
    "model.summary()\n"
   ]
  },
  {
   "cell_type": "markdown",
   "metadata": {},
   "source": [
    "### Problem #1 - (2):\n",
    "\n",
    "The interpretrations of B0, B1, and B2 are the following:\n",
    "\n",
    "B0 (constant) = The expected median value of homes in Boston when all other variables in the model equal 0 is $21,358.3\n",
    "\n",
    "B1 (CRIM) = For every 1 unit increase in the per capita crime rate, there is an expected decrease in median home values by $121.40, holding all other variables constant.\n",
    "\n",
    "B2 (CHAS) = Houses in census tracts that bound the Charles River have an expected median value $3,020.60 higher than houses in tracts that do not bound the river, holding all other variables constant."
   ]
  },
  {
   "cell_type": "markdown",
   "metadata": {},
   "source": [
    "### Problem #1 - (3)\n",
    "(3)\tPredict the values for the last 100 data points using the model you estimated in the last part.  Plot the actual values versus predicted values.  Comment on how well the model does for out of sample prediction [5]"
   ]
  },
  {
   "cell_type": "code",
   "execution_count": null,
   "metadata": {},
   "outputs": [
    {
     "data": {
      "text/plain": [
       "Text(0.5, 1.0, 'Actual vs Predicted Home Values')"
      ]
     },
     "execution_count": 22,
     "metadata": {},
     "output_type": "execute_result"
    },
    {
     "data": {
      "image/png": "[encoded data removed]",
      "text/plain": [
       "<Figure size 640x480 with 1 Axes>"
      ]
     },
     "metadata": {},
     "output_type": "display_data"
    }
   ],
   "source": [
    "# Get the data points 401-500\n",
    "test_data = df[df['ID'] > 400]\n",
    "\n",
    "# Prepare test data (same variables as training)\n",
    "X_test = test_data[['CRIM', 'CHAS', 'NOX', 'RM', 'AGE', 'DIS', 'PTRATIO']]\n",
    "X_test = sm.add_constant(X_test)  # Add constant\n",
    "y_test = test_data['MEDV']  # Actual values\n",
    "\n",
    "# Make predictions\n",
    "predictions = model.predict(X_test)\n",
    "\n",
    "# Create scatter plot\n",
    "plt.scatter(y_test, predictions)\n",
    "plt.plot([y_test.min(), y_test.max()], [y_test.min(), y_test.max()], 'r--', lw=2)  # 45-degree line\n",
    "\n",
    "plt.xlabel('Actual Values')\n",
    "plt.ylabel('Predicted Values')\n",
    "plt.title('Actual vs Predicted Home Values')"
   ]
  },
  {
   "cell_type": "markdown",
   "metadata": {},
   "source": [
    "Commentary on how well the model does for out of sample prediction:\n",
    "\n",
    "The model seems to perform quite well when predicting values for an out-of-sample testing set of data, until the model attempts to predict values around 50 for the MEDV.\n",
    "But this makes sense because OLS regression models become less reliable at the tail ends of distirbutions where there may be few data points.  Also, this model performs better in the middle range: Predictions between 15-35 show tighter clustering of data points around the 45 degree line (which represents perfect prediction)."
   ]
  },
  {
   "cell_type": "markdown",
   "metadata": {},
   "source": [
    "### Problem 1 - (4):\n",
    "\n",
    "Estimate the model using Maximum Likelihood Estimation method (MLE) using observation ID 1-400 and report the coefficients. When using the minimize() function, choose method to be SLSQP. Comment on how close the coefficients are from OLS and MLE methods [11]"
   ]
  },
  {
   "cell_type": "code",
   "execution_count": null,
   "metadata": {},
   "outputs": [
    {
     "name": "stdout",
     "output_type": "stream",
     "text": [
      "MLE Coefficients:\n",
      "Constant: 21.35833499898478\n",
      "CRIM: -0.12143866178295948\n",
      "CHAS: 3.020648711184922\n",
      "NOX: -23.230775693818874\n",
      "RM: 6.805782850899507\n",
      "AGE: -0.050103863496450886\n",
      "DIS: -1.2356325499559955\n",
      "PTRATIO: -1.1072594951628139\n",
      "\n",
      "Standard Deviation: 5.1936658517297865\n",
      "\n",
      "Comparison with OLS coefficients:\n",
      "const:\n",
      "OLS: 21.3583\n",
      "MLE: 21.3583\n",
      "Difference: 0.0000\n",
      "\n",
      "CRIM:\n",
      "OLS: -0.1214\n",
      "MLE: -0.1214\n",
      "Difference: 0.0000\n",
      "\n",
      "CHAS:\n",
      "OLS: 3.0206\n",
      "MLE: 3.0206\n",
      "Difference: 0.0000\n",
      "\n",
      "NOX:\n",
      "OLS: -23.2308\n",
      "MLE: -23.2308\n",
      "Difference: 0.0000\n",
      "\n",
      "RM:\n",
      "OLS: 6.8058\n",
      "MLE: 6.8058\n",
      "Difference: 0.0000\n",
      "\n",
      "AGE:\n",
      "OLS: -0.0501\n",
      "MLE: -0.0501\n",
      "Difference: 0.0000\n",
      "\n",
      "DIS:\n",
      "OLS: -1.2356\n",
      "MLE: -1.2356\n",
      "Difference: 0.0000\n",
      "\n",
      "PTRATIO:\n",
      "OLS: -1.1073\n",
      "MLE: -1.1073\n",
      "Difference: 0.0000\n",
      "\n"
     ]
    }
   ],
   "source": [
    "from scipy.stats import norm\n",
    "from scipy.optimize import minimize\n",
    "import numpy as np\n",
    "\n",
    "# Using the same filtered data from before (ID 1-400)\n",
    "filtered_df = df[df['ID'] <= 400]\n",
    "\n",
    "# Define Log Likelihood function for multiple regression\n",
    "def MLE_Norm(parameters):\n",
    "    # Extract parameters\n",
    "    # First parameter is constant, last is std_dev, middle ones are coefficients\n",
    "    const = parameters[0]\n",
    "    betas = parameters[1:-1]  # All coefficients except constant and std_dev\n",
    "    std_dev = parameters[-1]\n",
    "\n",
    "    # Get X variables (without constant)\n",
    "    X = filtered_df[['CRIM', 'CHAS', 'NOX', 'RM', 'AGE', 'DIS', 'PTRATIO']].values\n",
    "\n",
    "    # Calculate predicted values\n",
    "    pred = const + np.sum(X * betas, axis=1)\n",
    "\n",
    "    # Calculate log likelihood\n",
    "    LL = norm.logpdf(filtered_df['MEDV'], pred, std_dev).sum()\n",
    "    return -LL  # Minimize negative log likelihood\n",
    "\n",
    "# Initial parameter guesses (using OLS results as starting point)\n",
    "initial_params = np.concatenate([\n",
    "\t\t\t\t\t\t\t\t\t[model.params['const']],  # Constant\n",
    "\t\t\t\t\t\t\t\t\t[model.params['CRIM'],\n",
    "          \t\t\t\t\t\t\t\tmodel.params['CHAS'],\n",
    "                                        model.params['NOX'],\n",
    "\t\t\t\t\t\t\t\t\t\tmodel.params['RM'],\n",
    "                                        model.params['AGE'],\n",
    "                                        model.params['DIS'],\n",
    "\t\t\t\t\t\t\t\t\t\tmodel.params['PTRATIO']],  # Coefficients\n",
    "\t\t\t\t\t\t\t\t\t[np.std(filtered_df['MEDV'])]  # Initial guess for std_dev\n",
    "\t\t\t\t\t\t\t\t])\n",
    "\n",
    "# Minimize negative log likelihood\n",
    "result = minimize(MLE_Norm, initial_params, method='SLSQP')\n",
    "\n",
    "# Print results and compare with OLS\n",
    "print(\"MLE Coefficients:\")\n",
    "print(\"Constant:\", result.x[0])\n",
    "print(\"CRIM:\", result.x[1])\n",
    "print(\"CHAS:\", result.x[2])\n",
    "print(\"NOX:\", result.x[3])\n",
    "print(\"RM:\", result.x[4])\n",
    "print(\"AGE:\", result.x[5])\n",
    "print(\"DIS:\", result.x[6])\n",
    "print(\"PTRATIO:\", result.x[7])\n",
    "print(\"\\nStandard Deviation:\", result.x[8])\n",
    "\n",
    "# Compare with OLS\n",
    "print(\"\\nComparison with OLS coefficients:\")\n",
    "variables = ['const', 'CRIM', 'CHAS', 'NOX', 'RM', 'AGE', 'DIS', 'PTRATIO']\n",
    "for i, var in enumerate(variables):\n",
    "    print(f\"{var}:\")\n",
    "    print(f\"OLS: {model.params[var]:.4f}\")\n",
    "    print(f\"MLE: {result.x[i]:.4f}\")\n",
    "    print(f\"Difference: {abs(model.params[var] - result.x[i]):.4f}\\n\")"
   ]
  },
  {
   "cell_type": "markdown",
   "metadata": {},
   "source": [
    "Commentary on how close the coefficient are from OLS and MLE methods:\n",
    "\n",
    "Well, I started the estimation using the OLS estimates because I figured they would probably be the same or if there were differences, then I'd be ablet o see them from the MLE estimation.  But in this case, they are exactly the same.  I also started with the OLS estimates because I wasn't sure what other values to try out, and I got a little confused about what values to start with because I wasn't sure what the relationships could be between the Y variable and the X variables."
   ]
  },
  {
   "cell_type": "markdown",
   "metadata": {},
   "source": [
    "# Problem 2\n",
    "[15 in Total] Practice Goal: Law of total probability/Bayes theorem/Consumer heterogeneity"
   ]
  },
  {
   "cell_type": "markdown",
   "metadata": {},
   "source": [
    "### Problem 2 - (1):\n",
    "During lunch/dinner time, is it more likely to observe t=0.5 or t=2.1 ? Show your derivation clearly. [5]"
   ]
  },
  {
   "cell_type": "markdown",
   "metadata": {},
   "source": [
    "**Derivation below:**\n",
    "\n",
    "We are looking to determine which is greater, during lunch/dinner time:\n",
    "1. P(t=0.5 | lam = 1) \n",
    "2. P(t=2.1 | lam = 1)\n",
    "\n",
    "We know that:\n",
    "- P(t | lam) = lam * e ^ -(lam * t)\n",
    "\n",
    "Therefore:\n",
    "P(t | lam = 1) = 1 * e ^ -(1 * t)\n",
    "\n",
    "Which means:\n",
    "1. P(t=0.5 | lam = 1) = 1 * e ^ -(1 * 0.5) = 0.60653\n",
    "2. P(t=2.1 | lam = 1) = 1 * e ^ -(1 * 2.1) = 0.12246\n",
    "\n",
    "So we know then that:\n",
    "P(t=0.5 | lam = 1) > P(t=2.1 | lam = 1) which makes sense because during lunch and dinner, more than likely more people will be lining up in the car line.  So, there is a higher likelihood that you have shorter amounts of time between when one driver pulls into the drive through and the next driver."
   ]
  },
  {
   "cell_type": "code",
   "execution_count": 52,
   "metadata": {},
   "outputs": [
    {
     "name": "stdout",
     "output_type": "stream",
     "text": [
      "P(t=0.5 | lam = 1) =  60.653065971263345\n",
      "P(t=2.1 | lam = 1) =  12.245642825298193\n"
     ]
    },
    {
     "data": {
      "text/plain": [
       "Text(0, 0.5, 'Probability density')"
      ]
     },
     "execution_count": 52,
     "metadata": {},
     "output_type": "execute_result"
    },
    {
     "data": {
      "image/png": "[encoded data removed]",
      "text/plain": [
       "<Figure size 640x480 with 1 Axes>"
      ]
     },
     "metadata": {},
     "output_type": "display_data"
    }
   ],
   "source": [
    "import math as m\n",
    "\n",
    "#here are the two probability functions for 1 and 2 in the derivation above.\n",
    "# x = P(t=0.5 | lam = 1)\n",
    "# y = P(t=2.1 | lam = 1)\n",
    "\n",
    "x = 1 * m.e ** -(1 * 0.5)\n",
    "y = 1 * m.e ** -(1 * 2.1)\n",
    "\n",
    "print(\"P(t=0.5 | lam = 1) = \",x*100)\n",
    "print(\"P(t=2.1 | lam = 1) = \",y*100)\n",
    "\n",
    "#plot the probabilities on the exponential distribution\n",
    "t = np.linspace(0, 5, 100)\n",
    "pdf = 1 * np.exp(-1 * t)\n",
    "\n",
    "plt.plot(t, pdf)\n",
    "plt.scatter([0.5, 2.1], [0.60653, 0.12246], color='red')\n",
    "plt.xlabel('Time between customers (minutes)')\n",
    "plt.ylabel('Probability density')\n"
   ]
  },
  {
   "cell_type": "markdown",
   "metadata": {},
   "source": [
    "### Problem 2 - (2):\n",
    "Without knowing whether it is lunch/dinner time or not, is it more likely to observe t=0.5 or t=2.1? Show your derivation clearly.  [5]"
   ]
  },
  {
   "cell_type": "markdown",
   "metadata": {},
   "source": [
    "First, I need to calculate P(t=0.5):\n",
    "\n",
    "P(t=0.5) = P(t=0.5 | lam = 1) * P(lam = 1) + P(t=0.5 | lam = 0.2) * P(lam = 0.2)\n",
    "\t\t = (0.6065) * (0.4) + (0.181) * (0.6)\n",
    "\t\t = 0.2426 + 0.1086\n",
    "\t\t = 0.3512\n",
    "\n",
    "Second, I need to calculate P(t=2.1):\n",
    "\n",
    "P(t=2.1) = P(t=2.1 | lam = 1) * P(lam = 1) + P(t=2.1 | lam = 0.2) * P(lam = 0.2)\n",
    "\t\t = (0.1225) * (0.4) + (0.1314) * (0.6)\n",
    "\t\t = 0.12784\n",
    "\n",
    "So:\n",
    " - P(t=0.5) = 0.3512\n",
    " - P(t=2.1) = 0.1278\n",
    "\n",
    "Therefore, it is more likely that we observe t=0.5, which makes sense given that:\n",
    "\n",
    "1. During lunch/dinner (λ=1), shorter times are more likely\n",
    "2. During other times (λ=0.2), the probability distribution is more spread out\n",
    "3. The weighted average of these two scenarios still favors the shorter time\n"
   ]
  },
  {
   "cell_type": "code",
   "execution_count": 78,
   "metadata": {},
   "outputs": [
    {
     "name": "stdout",
     "output_type": "stream",
     "text": [
      "0.1225\n"
     ]
    }
   ],
   "source": [
    "#I used the following function to determine my calculations:\n",
    "\n",
    "def exp_prob(lam, time):\n",
    "\n",
    "\t#declare the values\n",
    "\tlam = lam\n",
    "\tt = time\n",
    "\n",
    "\t#exponential function\n",
    "\tprob = lam * np.exp(-lam * t)\n",
    "\treturn round(prob,4)\n",
    "\n",
    "#vary these values as needed:\n",
    "l = 1\n",
    "t = 2.1\n",
    "print(exp_prob(lam = l, time = t))"
   ]
  },
  {
   "cell_type": "markdown",
   "metadata": {},
   "source": [
    "### Problem 2 - (3):\n",
    "\n",
    "The number of minutes between two drive-through customers is 2.1, what is the probability of this happened in the lunch/dinner time? Show your derivation clearly. [5]"
   ]
  },
  {
   "cell_type": "markdown",
   "metadata": {},
   "source": [
    "We need to find: P(lam = 1 | t=2.1)\n",
    "\n",
    "The expression we have to solve for is:\n",
    "P(lam = 1 | t = 2.1)  =  [P(t = 2.1 | lam = 1) * P(lam = 1)] / P(t = 2.1)\n",
    "\n",
    "\n",
    "And we know:\n",
    "- P(t = 2.1) = 0.1278\n",
    "- P(t = 2.1 | lam = 1) = 0.1225\n",
    "- P(lam = 1) = 0.4\n",
    "\n",
    "\n",
    "So we plug these values we've already calculated before:\n",
    "P(lam = 1 | t = 2.1)  =  [P(t = 2.1 | lam = 1) * P(lam = 1)] / P(t = 2.1)\n",
    "\t\t\t\t\t  = [0.1225 * 0.4] / 0.1278\n",
    "\t\t\t\t\t  = 0.3834\n",
    "\n",
    "Therefore, the probabliy of seeing 2.1 minutes between two drive through customers and that occurrence came during the lunch/dinner time is 38.34%:\n",
    "- P(lam = 1 | t = 2.1)  = 0.3834\n"
   ]
  },
  {
   "cell_type": "code",
   "execution_count": 79,
   "metadata": {},
   "outputs": [
    {
     "data": {
      "text/plain": [
       "0.3834115805946792"
      ]
     },
     "execution_count": 79,
     "metadata": {},
     "output_type": "execute_result"
    }
   ],
   "source": [
    "(0.1225 * 0.4) / 0.1278"
   ]
  }
 ],
 "metadata": {
  "kernelspec": {
   "display_name": "env_311",
   "language": "python",
   "name": "python3"
  },
  "language_info": {
   "codemirror_mode": {
    "name": "ipython",
    "version": 3
   },
   "file_extension": ".py",
   "mimetype": "text/x-python",
   "name": "python",
   "nbconvert_exporter": "python",
   "pygments_lexer": "ipython3",
   "version": "3.11.9"
  }
 },
 "nbformat": 4,
 "nbformat_minor": 2
}
