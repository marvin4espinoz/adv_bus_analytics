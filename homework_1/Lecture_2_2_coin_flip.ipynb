{
 "cells": [
  {
   "cell_type": "code",
   "execution_count": 1,
   "id": "cf8cd7f8",
   "metadata": {},
   "outputs": [],
   "source": [
    "import numpy as np\n",
    "import pandas as pd\n",
    "from scipy.optimize import minimize\n",
    "import matplotlib.pyplot as plt\n",
    "from scipy.special import comb"
   ]
  },
  {
   "cell_type": "markdown",
   "id": "8a6dc386",
   "metadata": {},
   "source": [
    "We choose 20 students, and we ask each of them to flip a coin 10 times and record the number of heads they got. The results are:"
   ]
  },
  {
   "cell_type": "code",
   "execution_count": 2,
   "id": "11944a37",
   "metadata": {},
   "outputs": [
    {
     "data": {
      "text/html": [
       "<div>\n",
       "<style scoped>\n",
       "    .dataframe tbody tr th:only-of-type {\n",
       "        vertical-align: middle;\n",
       "    }\n",
       "\n",
       "    .dataframe tbody tr th {\n",
       "        vertical-align: top;\n",
       "    }\n",
       "\n",
       "    .dataframe thead th {\n",
       "        text-align: right;\n",
       "    }\n",
       "</style>\n",
       "<table border=\"1\" class=\"dataframe\">\n",
       "  <thead>\n",
       "    <tr style=\"text-align: right;\">\n",
       "      <th></th>\n",
       "      <th>flips</th>\n",
       "      <th>heads</th>\n",
       "    </tr>\n",
       "  </thead>\n",
       "  <tbody>\n",
       "    <tr>\n",
       "      <th>0</th>\n",
       "      <td>10</td>\n",
       "      <td>4</td>\n",
       "    </tr>\n",
       "    <tr>\n",
       "      <th>1</th>\n",
       "      <td>10</td>\n",
       "      <td>4</td>\n",
       "    </tr>\n",
       "    <tr>\n",
       "      <th>2</th>\n",
       "      <td>10</td>\n",
       "      <td>3</td>\n",
       "    </tr>\n",
       "    <tr>\n",
       "      <th>3</th>\n",
       "      <td>10</td>\n",
       "      <td>1</td>\n",
       "    </tr>\n",
       "    <tr>\n",
       "      <th>4</th>\n",
       "      <td>10</td>\n",
       "      <td>6</td>\n",
       "    </tr>\n",
       "  </tbody>\n",
       "</table>\n",
       "</div>"
      ],
      "text/plain": [
       "   flips  heads\n",
       "0     10      4\n",
       "1     10      4\n",
       "2     10      3\n",
       "3     10      1\n",
       "4     10      6"
      ]
     },
     "execution_count": 2,
     "metadata": {},
     "output_type": "execute_result"
    }
   ],
   "source": [
    "data = pd.read_excel('Lecture_2_2_coin_flip.xlsx')\n",
    "data.head()"
   ]
  },
  {
   "cell_type": "markdown",
   "id": "f15cede3",
   "metadata": {},
   "source": [
    "Model this process using the binomial distribution. If n is the number of flips, k is the number of heads, and p is the probability of getting heads on a single flip, then the probability of getting k heads out of n flips is:\n",
    "\n",
    "${n \\choose k} p^k (1-p)^{(n-k)}$"
   ]
  },
  {
   "cell_type": "markdown",
   "id": "b82eab83",
   "metadata": {},
   "source": [
    "There is only one parameter in this model: $p$, the probability of getting heads on a single flip."
   ]
  },
  {
   "cell_type": "code",
   "execution_count": 3,
   "id": "b1645645",
   "metadata": {},
   "outputs": [],
   "source": [
    "def binom(params):\n",
    "    p = params\n",
    "    prob_k_heads = comb(data['flips'], data['heads']) * p**data['heads'] * (1 -p)**(data['flips'] - data['heads'])\n",
    "    return prob_k_heads"
   ]
  },
  {
   "cell_type": "markdown",
   "id": "16531a80",
   "metadata": {},
   "source": [
    "If we know the value of $p$, we can find the probability of the given number of heads for each student. For example, if we set $p = 0.5$, "
   ]
  },
  {
   "cell_type": "code",
   "execution_count": 4,
   "id": "63fd035b",
   "metadata": {},
   "outputs": [
    {
     "data": {
      "text/html": [
       "<div>\n",
       "<style scoped>\n",
       "    .dataframe tbody tr th:only-of-type {\n",
       "        vertical-align: middle;\n",
       "    }\n",
       "\n",
       "    .dataframe tbody tr th {\n",
       "        vertical-align: top;\n",
       "    }\n",
       "\n",
       "    .dataframe thead th {\n",
       "        text-align: right;\n",
       "    }\n",
       "</style>\n",
       "<table border=\"1\" class=\"dataframe\">\n",
       "  <thead>\n",
       "    <tr style=\"text-align: right;\">\n",
       "      <th></th>\n",
       "      <th>flips</th>\n",
       "      <th>heads</th>\n",
       "      <th>prob_that_many_heads</th>\n",
       "    </tr>\n",
       "  </thead>\n",
       "  <tbody>\n",
       "    <tr>\n",
       "      <th>0</th>\n",
       "      <td>10</td>\n",
       "      <td>4</td>\n",
       "      <td>0.205078</td>\n",
       "    </tr>\n",
       "    <tr>\n",
       "      <th>1</th>\n",
       "      <td>10</td>\n",
       "      <td>4</td>\n",
       "      <td>0.205078</td>\n",
       "    </tr>\n",
       "    <tr>\n",
       "      <th>2</th>\n",
       "      <td>10</td>\n",
       "      <td>3</td>\n",
       "      <td>0.117188</td>\n",
       "    </tr>\n",
       "    <tr>\n",
       "      <th>3</th>\n",
       "      <td>10</td>\n",
       "      <td>1</td>\n",
       "      <td>0.009766</td>\n",
       "    </tr>\n",
       "    <tr>\n",
       "      <th>4</th>\n",
       "      <td>10</td>\n",
       "      <td>6</td>\n",
       "      <td>0.205078</td>\n",
       "    </tr>\n",
       "  </tbody>\n",
       "</table>\n",
       "</div>"
      ],
      "text/plain": [
       "   flips  heads  prob_that_many_heads\n",
       "0     10      4              0.205078\n",
       "1     10      4              0.205078\n",
       "2     10      3              0.117188\n",
       "3     10      1              0.009766\n",
       "4     10      6              0.205078"
      ]
     },
     "execution_count": 4,
     "metadata": {},
     "output_type": "execute_result"
    }
   ],
   "source": [
    "data['prob_that_many_heads'] = binom(0.5)\n",
    "data.head()"
   ]
  },
  {
   "cell_type": "code",
   "execution_count": 5,
   "id": "e53a3dbe",
   "metadata": {},
   "outputs": [
    {
     "data": {
      "text/plain": [
       "2.1018475030026418e-19"
      ]
     },
     "execution_count": 5,
     "metadata": {},
     "output_type": "execute_result"
    }
   ],
   "source": [
    "data.prob_that_many_heads.prod()"
   ]
  },
  {
   "cell_type": "markdown",
   "id": "d60b764a",
   "metadata": {},
   "source": [
    "The probability of getting this exact configuration for all 20 students is the product of all values of prob_that_many_heads. Since this total probability is so small, we will work with its logarithm."
   ]
  },
  {
   "cell_type": "code",
   "execution_count": 6,
   "id": "10b8b298",
   "metadata": {},
   "outputs": [],
   "source": [
    "def MLE_binom(params):\n",
    "    return -np.sum(np.log(binom(params)))"
   ]
  },
  {
   "cell_type": "markdown",
   "id": "cc3f3e48",
   "metadata": {},
   "source": [
    "Let the computer try different values of $p$ and report the one with the highest probability for all 20 students (this will be the one with the lowest value of the sum of log likelihoods). Make a starting guess of $p = 0.5$, since this is what the probability would be for a fair coin."
   ]
  },
  {
   "cell_type": "code",
   "execution_count": 7,
   "id": "4f9d95d7",
   "metadata": {},
   "outputs": [
    {
     "data": {
      "text/plain": [
       " final_simplex: (array([[0.35      ],\n",
       "       [0.35009766]]), array([33.86619174, 33.86619593]))\n",
       "           fun: 33.86619174052527\n",
       "       message: 'Optimization terminated successfully.'\n",
       "          nfev: 26\n",
       "           nit: 13\n",
       "        status: 0\n",
       "       success: True\n",
       "             x: array([0.35])"
      ]
     },
     "execution_count": 7,
     "metadata": {},
     "output_type": "execute_result"
    }
   ],
   "source": [
    "starting_val = [0.5]\n",
    "bounds = [(0, 1)]\n",
    "mle_model = minimize(MLE_binom, starting_val, method='Nelder-mead', bounds=bounds)\n",
    "mle_model"
   ]
  },
  {
   "cell_type": "markdown",
   "id": "e7ba24f1",
   "metadata": {},
   "source": [
    "This value of p is lower than 0.5. The coin may not be fair."
   ]
  },
  {
   "cell_type": "markdown",
   "id": "3c06b19b",
   "metadata": {},
   "source": [
    "## Discrete heterogeneity"
   ]
  },
  {
   "cell_type": "markdown",
   "id": "e8bb25dd",
   "metadata": {},
   "source": [
    "Now consider that perhaps one coin was used in some of the experiments, and a second coin was used on the other experiments. How can this be modeled? \n",
    "\n",
    "There will be 2 binomial distributions, each with its own value of $p$. There must also be a probability that the measurement came from the first distribution and a probability that the measurement came from the second distribution - in other words, the probability that an experiment used the first coin or the second coin.\n",
    "\n",
    "$P(k) = f {n \\choose k} p_1^k (1-p_1)^{(n-k)} + (1-f) {n \\choose k} p_2^k (1-p_2)^{(n-k)}$"
   ]
  },
  {
   "cell_type": "markdown",
   "id": "03c0ca0d",
   "metadata": {},
   "source": [
    "Modify the functions used to solve this problem."
   ]
  },
  {
   "cell_type": "code",
   "execution_count": 8,
   "id": "8f5f04f1",
   "metadata": {},
   "outputs": [],
   "source": [
    "def binom_2(params):\n",
    "    p1, p2, f= params\n",
    "    prob_k_heads_1 = comb(data['flips'], data['heads']) * p1**data['heads'] * (1 -p1)**(data['flips'] - data['heads'])\n",
    "    prob_k_heads_2 = comb(data['flips'], data['heads']) * p2**data['heads'] * (1 -p2)**(data['flips'] - data['heads'])\n",
    "    prob_k_heads = f * prob_k_heads_1 + (1 - f) * prob_k_heads_2\n",
    "    return prob_k_heads"
   ]
  },
  {
   "cell_type": "code",
   "execution_count": 9,
   "id": "73246a3a",
   "metadata": {},
   "outputs": [],
   "source": [
    "def MLE_binom_2(params):\n",
    "    return -np.sum(np.log(binom_2(params)))"
   ]
  },
  {
   "cell_type": "markdown",
   "id": "e14d3774",
   "metadata": {},
   "source": [
    "Let the computer try different values of $p_1$, $p_2$, and $f$ and report the set with the highest probability for all 20 students (this will be the one with the lowest value of the sum of log likelihoods). Make a starting guess of $p_1 = 0.25$, $p_2 = 0.75$, and $f = 0.75$. Although both $p_1$ and $p_2$ could be set to the same value, it's not wise to do so because every time the solution is found, $p_1$ and $p_2$ could reverse values. $p_1$, $p_2$, and $f$ are probabilities and are bounded by 0 and 1. "
   ]
  },
  {
   "cell_type": "code",
   "execution_count": 10,
   "id": "83194bf1",
   "metadata": {},
   "outputs": [
    {
     "data": {
      "text/plain": [
       " final_simplex: (array([[0.34999977, 0.34999644, 0.77855854],\n",
       "       [0.35000254, 0.34999753, 0.77865111],\n",
       "       [0.35000265, 0.34999563, 0.77848749],\n",
       "       [0.349997  , 0.35000545, 0.77857371]]), array([33.86619174, 33.86619174, 33.86619174, 33.86619174]))\n",
       "           fun: 33.86619174116445\n",
       "       message: 'Optimization terminated successfully.'\n",
       "          nfev: 103\n",
       "           nit: 57\n",
       "        status: 0\n",
       "       success: True\n",
       "             x: array([0.34999977, 0.34999644, 0.77855854])"
      ]
     },
     "execution_count": 10,
     "metadata": {},
     "output_type": "execute_result"
    }
   ],
   "source": [
    "starting_val = [0.25, 0.75, 0.75]\n",
    "bounds = [(0, 1), (0, 1), (0, 1)]\n",
    "mle_model = minimize(MLE_binom_2, starting_val, method='Nelder-mead', bounds=bounds)\n",
    "mle_model"
   ]
  },
  {
   "cell_type": "markdown",
   "id": "34d55ec1",
   "metadata": {},
   "source": [
    "The same value is found for $p_1$ and $p_2$, meaning that it is likely that only one coin was used for all experiments."
   ]
  },
  {
   "cell_type": "markdown",
   "id": "106b0a15",
   "metadata": {},
   "source": [
    "## Continuous heterogeneity"
   ]
  },
  {
   "cell_type": "markdown",
   "id": "e1e05c6b",
   "metadata": {},
   "source": [
    "In this model, each experiment has its own coin with its own value of $p$, the probability of getting heads. It would be possible to model this by using 20 different parameters $p_1$, $p_2$, ..., $p_{20}$, but this model is so complicated that it would be nearly impossible to find a good solution. Instead, model the distribution of values of $p$ with a beta distribution. The final model is the beta-binomial distribution, which has the 2 parameters $\\alpha$ and $\\beta$:\n",
    "\n",
    "$P(k) = \\frac{\\Gamma(n+1)}{\\Gamma(k+1)\\Gamma(n-k+1)}\\frac{\\Gamma(k+\\alpha)\\Gamma(n-k+\\beta)}{\\Gamma(n+\\alpha+\\beta)}\\frac{\\Gamma(\\alpha+\\beta)}{\\Gamma(\\alpha)\\Gamma(\\beta)}$\n",
    "\n",
    "$\\alpha$ and $\\beta$ are bounded below by 0."
   ]
  },
  {
   "cell_type": "code",
   "execution_count": 11,
   "id": "ce8b74cc",
   "metadata": {},
   "outputs": [],
   "source": [
    "from scipy.special import gamma\n",
    "def binom_beta(params):\n",
    "    alpha, beta = params\n",
    "\n",
    "    term1 = gamma(data['flips'] + 1)/(gamma(data['heads'] + 1) * gamma(data['flips'] - data['heads'] + 1))\n",
    "    term2 = gamma(data['heads'] + alpha) * gamma(data['flips'] - data['heads'] + beta)/gamma(data['flips'] + alpha + beta)\n",
    "    term3 = gamma(alpha + beta)/(gamma(alpha) * gamma(beta))\n",
    "\n",
    "    prob = term1 * term2 * term3\n",
    "\n",
    "    return prob"
   ]
  },
  {
   "cell_type": "code",
   "execution_count": 12,
   "id": "f8e8e1e4",
   "metadata": {},
   "outputs": [],
   "source": [
    "def MLE_binom_beta(params):\n",
    "    return -np.sum(np.log(binom_beta(params)))"
   ]
  },
  {
   "cell_type": "code",
   "execution_count": 13,
   "id": "88175a95",
   "metadata": {},
   "outputs": [
    {
     "name": "stderr",
     "output_type": "stream",
     "text": [
      "C:\\Users\\rston\\anaconda3\\lib\\site-packages\\pandas\\core\\arraylike.py:364: RuntimeWarning: divide by zero encountered in log\n",
      "  result = getattr(ufunc, method)(*inputs, **kwargs)\n",
      "C:\\Users\\rston\\AppData\\Local\\Temp/ipykernel_4912/4083245400.py:7: RuntimeWarning: overflow encountered in double_scalars\n",
      "  term3 = gamma(alpha + beta)/(gamma(alpha) * gamma(beta))\n",
      "C:\\Users\\rston\\AppData\\Local\\Temp/ipykernel_4912/4083245400.py:7: RuntimeWarning: invalid value encountered in double_scalars\n",
      "  term3 = gamma(alpha + beta)/(gamma(alpha) * gamma(beta))\n"
     ]
    },
    {
     "data": {
      "text/plain": [
       " final_simplex: (array([[ 62.70634766, 111.38781738],\n",
       "       [ 62.70636526, 111.38785401],\n",
       "       [ 62.70637788, 111.3878718 ]]), array([-0., -0., -0.]))\n",
       "           fun: -0.0\n",
       "       message: 'Optimization terminated successfully.'\n",
       "          nfev: 124\n",
       "           nit: 47\n",
       "        status: 0\n",
       "       success: True\n",
       "             x: array([ 62.70634766, 111.38781738])"
      ]
     },
     "execution_count": 13,
     "metadata": {},
     "output_type": "execute_result"
    }
   ],
   "source": [
    "starting_vals = [1, 1]\n",
    "bounds = [(0, 500), (0, 500)]\n",
    "mle_model_binom_beta = minimize(MLE_binom_beta, starting_vals, method='Nelder-mead', bounds=bounds)\n",
    "mle_model_binom_beta"
   ]
  },
  {
   "cell_type": "code",
   "execution_count": 16,
   "id": "b8ee721a",
   "metadata": {},
   "outputs": [
    {
     "data": {
      "text/plain": [
       "0.36018638328389524"
      ]
     },
     "execution_count": 16,
     "metadata": {},
     "output_type": "execute_result"
    }
   ],
   "source": [
    "mle_model_binom_beta.x[0]/(mle_model_binom_beta.x[0] + mle_model_binom_beta.x[1])"
   ]
  },
  {
   "cell_type": "markdown",
   "id": "7d549e16",
   "metadata": {},
   "source": [
    "The fit of the solution is good, but the parameters don't have a simple interpretation.\n",
    "\n",
    "The mean is $\\alpha/(\\alpha + \\beta)$ which is approximately 0.36. This verifies that there is only one group, and it has a probability of getting heads equal to 0.35 (approximately)."
   ]
  },
  {
   "cell_type": "markdown",
   "id": "3865d525",
   "metadata": {},
   "source": [
    "## Observed heterogeneity"
   ]
  },
  {
   "cell_type": "markdown",
   "id": "4571c6aa",
   "metadata": {},
   "source": [
    "Assume a sensitive instrument has been used to measure the weight of each side of the coins. If the tails side weighs more than the heads side, the number is positive and vice versa. The measured values, in milligrams, are shown below. \n",
    "\n",
    "It is possible that when a coin is heavier on the tails side, it is more likely to land heads-up. Do the data support this hypothesis?"
   ]
  },
  {
   "cell_type": "code",
   "execution_count": 18,
   "id": "81668277",
   "metadata": {},
   "outputs": [],
   "source": [
    "data = pd.read_csv('Lecture_2_2_coin_flip.csv', index_col=None)"
   ]
  },
  {
   "cell_type": "code",
   "execution_count": 19,
   "id": "f6443d70",
   "metadata": {},
   "outputs": [
    {
     "data": {
      "text/html": [
       "<div>\n",
       "<style scoped>\n",
       "    .dataframe tbody tr th:only-of-type {\n",
       "        vertical-align: middle;\n",
       "    }\n",
       "\n",
       "    .dataframe tbody tr th {\n",
       "        vertical-align: top;\n",
       "    }\n",
       "\n",
       "    .dataframe thead th {\n",
       "        text-align: right;\n",
       "    }\n",
       "</style>\n",
       "<table border=\"1\" class=\"dataframe\">\n",
       "  <thead>\n",
       "    <tr style=\"text-align: right;\">\n",
       "      <th></th>\n",
       "      <th>flips</th>\n",
       "      <th>heads</th>\n",
       "      <th>mg_diff</th>\n",
       "    </tr>\n",
       "  </thead>\n",
       "  <tbody>\n",
       "    <tr>\n",
       "      <th>0</th>\n",
       "      <td>10</td>\n",
       "      <td>4</td>\n",
       "      <td>-0.903271</td>\n",
       "    </tr>\n",
       "    <tr>\n",
       "      <th>1</th>\n",
       "      <td>10</td>\n",
       "      <td>4</td>\n",
       "      <td>-0.955627</td>\n",
       "    </tr>\n",
       "    <tr>\n",
       "      <th>2</th>\n",
       "      <td>10</td>\n",
       "      <td>3</td>\n",
       "      <td>-1.994644</td>\n",
       "    </tr>\n",
       "    <tr>\n",
       "      <th>3</th>\n",
       "      <td>10</td>\n",
       "      <td>1</td>\n",
       "      <td>-3.932004</td>\n",
       "    </tr>\n",
       "    <tr>\n",
       "      <th>4</th>\n",
       "      <td>10</td>\n",
       "      <td>6</td>\n",
       "      <td>1.087403</td>\n",
       "    </tr>\n",
       "    <tr>\n",
       "      <th>5</th>\n",
       "      <td>10</td>\n",
       "      <td>2</td>\n",
       "      <td>-2.956383</td>\n",
       "    </tr>\n",
       "    <tr>\n",
       "      <th>6</th>\n",
       "      <td>10</td>\n",
       "      <td>3</td>\n",
       "      <td>-1.977250</td>\n",
       "    </tr>\n",
       "    <tr>\n",
       "      <th>7</th>\n",
       "      <td>10</td>\n",
       "      <td>5</td>\n",
       "      <td>0.024828</td>\n",
       "    </tr>\n",
       "    <tr>\n",
       "      <th>8</th>\n",
       "      <td>10</td>\n",
       "      <td>4</td>\n",
       "      <td>-0.938406</td>\n",
       "    </tr>\n",
       "    <tr>\n",
       "      <th>9</th>\n",
       "      <td>10</td>\n",
       "      <td>2</td>\n",
       "      <td>-2.923549</td>\n",
       "    </tr>\n",
       "    <tr>\n",
       "      <th>10</th>\n",
       "      <td>10</td>\n",
       "      <td>2</td>\n",
       "      <td>-2.936257</td>\n",
       "    </tr>\n",
       "    <tr>\n",
       "      <th>11</th>\n",
       "      <td>10</td>\n",
       "      <td>4</td>\n",
       "      <td>-0.968594</td>\n",
       "    </tr>\n",
       "    <tr>\n",
       "      <th>12</th>\n",
       "      <td>10</td>\n",
       "      <td>4</td>\n",
       "      <td>-0.996061</td>\n",
       "    </tr>\n",
       "    <tr>\n",
       "      <th>13</th>\n",
       "      <td>10</td>\n",
       "      <td>4</td>\n",
       "      <td>-0.962290</td>\n",
       "    </tr>\n",
       "    <tr>\n",
       "      <th>14</th>\n",
       "      <td>10</td>\n",
       "      <td>2</td>\n",
       "      <td>-2.960857</td>\n",
       "    </tr>\n",
       "    <tr>\n",
       "      <th>15</th>\n",
       "      <td>10</td>\n",
       "      <td>2</td>\n",
       "      <td>-2.971787</td>\n",
       "    </tr>\n",
       "    <tr>\n",
       "      <th>16</th>\n",
       "      <td>10</td>\n",
       "      <td>5</td>\n",
       "      <td>0.008080</td>\n",
       "    </tr>\n",
       "    <tr>\n",
       "      <th>17</th>\n",
       "      <td>10</td>\n",
       "      <td>5</td>\n",
       "      <td>0.097535</td>\n",
       "    </tr>\n",
       "    <tr>\n",
       "      <th>18</th>\n",
       "      <td>10</td>\n",
       "      <td>4</td>\n",
       "      <td>-0.995338</td>\n",
       "    </tr>\n",
       "    <tr>\n",
       "      <th>19</th>\n",
       "      <td>10</td>\n",
       "      <td>4</td>\n",
       "      <td>-0.902618</td>\n",
       "    </tr>\n",
       "  </tbody>\n",
       "</table>\n",
       "</div>"
      ],
      "text/plain": [
       "    flips  heads   mg_diff\n",
       "0      10      4 -0.903271\n",
       "1      10      4 -0.955627\n",
       "2      10      3 -1.994644\n",
       "3      10      1 -3.932004\n",
       "4      10      6  1.087403\n",
       "5      10      2 -2.956383\n",
       "6      10      3 -1.977250\n",
       "7      10      5  0.024828\n",
       "8      10      4 -0.938406\n",
       "9      10      2 -2.923549\n",
       "10     10      2 -2.936257\n",
       "11     10      4 -0.968594\n",
       "12     10      4 -0.996061\n",
       "13     10      4 -0.962290\n",
       "14     10      2 -2.960857\n",
       "15     10      2 -2.971787\n",
       "16     10      5  0.008080\n",
       "17     10      5  0.097535\n",
       "18     10      4 -0.995338\n",
       "19     10      4 -0.902618"
      ]
     },
     "execution_count": 19,
     "metadata": {},
     "output_type": "execute_result"
    }
   ],
   "source": [
    "data"
   ]
  },
  {
   "cell_type": "markdown",
   "id": "8895f9a2",
   "metadata": {},
   "source": [
    "Add in the effect of this information by using it to calculate $p$, the probability of getting heads. Use the logistic function to perform the calculation. \n",
    "\n",
    "$p_{calc} = \\frac{e^{(\\beta_0 + \\beta_1 x)}}{1 + e^{(\\beta_0 + \\beta_1 x)}}$"
   ]
  },
  {
   "cell_type": "code",
   "execution_count": 20,
   "id": "91cf7326",
   "metadata": {},
   "outputs": [],
   "source": [
    "def binom_obs(params):\n",
    "    beta_0, beta_1 = params\n",
    "    p_calc = np.exp(beta_0 + beta_1 * data['mg_diff'])/(1 + np.exp(beta_0 + beta_1 * data['mg_diff']))\n",
    "    prob_k_heads = comb(data['flips'], data['heads']) * p_calc**data['heads'] * (1 - p_calc)**(data['flips'] - data['heads'])\n",
    "    return prob_k_heads"
   ]
  },
  {
   "cell_type": "code",
   "execution_count": 21,
   "id": "e828ba75",
   "metadata": {},
   "outputs": [],
   "source": [
    "def MLE_binom_obs(params):\n",
    "    return -np.sum(np.log(binom_obs(params)))"
   ]
  },
  {
   "cell_type": "code",
   "execution_count": 22,
   "id": "cad49efd",
   "metadata": {},
   "outputs": [
    {
     "data": {
      "text/plain": [
       " final_simplex: (array([[0.01219842, 0.4722356 ],\n",
       "       [0.01214065, 0.47216246],\n",
       "       [0.01229047, 0.47221689]]), array([26.34011598, 26.34011606, 26.34011611]))\n",
       "           fun: 26.340115975911182\n",
       "       message: 'Optimization terminated successfully.'\n",
       "          nfev: 112\n",
       "           nit: 58\n",
       "        status: 0\n",
       "       success: True\n",
       "             x: array([0.01219842, 0.4722356 ])"
      ]
     },
     "execution_count": 22,
     "metadata": {},
     "output_type": "execute_result"
    }
   ],
   "source": [
    "starting_vals = [0, 0]\n",
    "bounds = [(-500, 500), (-500, 500)]\n",
    "mle_model_obs = minimize(MLE_binom_obs, starting_vals, method='Nelder-mead', bounds=bounds)\n",
    "mle_model_obs"
   ]
  },
  {
   "cell_type": "markdown",
   "id": "e047ce6e",
   "metadata": {},
   "source": [
    "The second coefficient, $\\beta_1$, is positive, which suggests that the heavier the tails side is relative to the other side, the higher the chance of getting heads. \n",
    "\n",
    "Show the best value of $p_{calc}$ to demonstrate this."
   ]
  },
  {
   "cell_type": "code",
   "execution_count": 23,
   "id": "fd425be0",
   "metadata": {},
   "outputs": [
    {
     "data": {
      "text/html": [
       "<div>\n",
       "<style scoped>\n",
       "    .dataframe tbody tr th:only-of-type {\n",
       "        vertical-align: middle;\n",
       "    }\n",
       "\n",
       "    .dataframe tbody tr th {\n",
       "        vertical-align: top;\n",
       "    }\n",
       "\n",
       "    .dataframe thead th {\n",
       "        text-align: right;\n",
       "    }\n",
       "</style>\n",
       "<table border=\"1\" class=\"dataframe\">\n",
       "  <thead>\n",
       "    <tr style=\"text-align: right;\">\n",
       "      <th></th>\n",
       "      <th>flips</th>\n",
       "      <th>heads</th>\n",
       "      <th>mg_diff</th>\n",
       "      <th>p_calc</th>\n",
       "    </tr>\n",
       "  </thead>\n",
       "  <tbody>\n",
       "    <tr>\n",
       "      <th>0</th>\n",
       "      <td>10</td>\n",
       "      <td>4</td>\n",
       "      <td>-0.903271</td>\n",
       "      <td>0.397867</td>\n",
       "    </tr>\n",
       "    <tr>\n",
       "      <th>1</th>\n",
       "      <td>10</td>\n",
       "      <td>4</td>\n",
       "      <td>-0.955627</td>\n",
       "      <td>0.391960</td>\n",
       "    </tr>\n",
       "    <tr>\n",
       "      <th>2</th>\n",
       "      <td>10</td>\n",
       "      <td>3</td>\n",
       "      <td>-1.994644</td>\n",
       "      <td>0.282977</td>\n",
       "    </tr>\n",
       "    <tr>\n",
       "      <th>3</th>\n",
       "      <td>10</td>\n",
       "      <td>1</td>\n",
       "      <td>-3.932004</td>\n",
       "      <td>0.136504</td>\n",
       "    </tr>\n",
       "    <tr>\n",
       "      <th>4</th>\n",
       "      <td>10</td>\n",
       "      <td>6</td>\n",
       "      <td>1.087403</td>\n",
       "      <td>0.628482</td>\n",
       "    </tr>\n",
       "    <tr>\n",
       "      <th>5</th>\n",
       "      <td>10</td>\n",
       "      <td>2</td>\n",
       "      <td>-2.956383</td>\n",
       "      <td>0.200382</td>\n",
       "    </tr>\n",
       "    <tr>\n",
       "      <th>6</th>\n",
       "      <td>10</td>\n",
       "      <td>3</td>\n",
       "      <td>-1.977250</td>\n",
       "      <td>0.284646</td>\n",
       "    </tr>\n",
       "    <tr>\n",
       "      <th>7</th>\n",
       "      <td>10</td>\n",
       "      <td>5</td>\n",
       "      <td>0.024828</td>\n",
       "      <td>0.505980</td>\n",
       "    </tr>\n",
       "    <tr>\n",
       "      <th>8</th>\n",
       "      <td>10</td>\n",
       "      <td>4</td>\n",
       "      <td>-0.938406</td>\n",
       "      <td>0.393899</td>\n",
       "    </tr>\n",
       "    <tr>\n",
       "      <th>9</th>\n",
       "      <td>10</td>\n",
       "      <td>2</td>\n",
       "      <td>-2.923549</td>\n",
       "      <td>0.202878</td>\n",
       "    </tr>\n",
       "    <tr>\n",
       "      <th>10</th>\n",
       "      <td>10</td>\n",
       "      <td>2</td>\n",
       "      <td>-2.936257</td>\n",
       "      <td>0.201909</td>\n",
       "    </tr>\n",
       "    <tr>\n",
       "      <th>11</th>\n",
       "      <td>10</td>\n",
       "      <td>4</td>\n",
       "      <td>-0.968594</td>\n",
       "      <td>0.390501</td>\n",
       "    </tr>\n",
       "    <tr>\n",
       "      <th>12</th>\n",
       "      <td>10</td>\n",
       "      <td>4</td>\n",
       "      <td>-0.996061</td>\n",
       "      <td>0.387418</td>\n",
       "    </tr>\n",
       "    <tr>\n",
       "      <th>13</th>\n",
       "      <td>10</td>\n",
       "      <td>4</td>\n",
       "      <td>-0.962290</td>\n",
       "      <td>0.391210</td>\n",
       "    </tr>\n",
       "    <tr>\n",
       "      <th>14</th>\n",
       "      <td>10</td>\n",
       "      <td>2</td>\n",
       "      <td>-2.960857</td>\n",
       "      <td>0.200043</td>\n",
       "    </tr>\n",
       "    <tr>\n",
       "      <th>15</th>\n",
       "      <td>10</td>\n",
       "      <td>2</td>\n",
       "      <td>-2.971787</td>\n",
       "      <td>0.199219</td>\n",
       "    </tr>\n",
       "    <tr>\n",
       "      <th>16</th>\n",
       "      <td>10</td>\n",
       "      <td>5</td>\n",
       "      <td>0.008080</td>\n",
       "      <td>0.504003</td>\n",
       "    </tr>\n",
       "    <tr>\n",
       "      <th>17</th>\n",
       "      <td>10</td>\n",
       "      <td>5</td>\n",
       "      <td>0.097535</td>\n",
       "      <td>0.514560</td>\n",
       "    </tr>\n",
       "    <tr>\n",
       "      <th>18</th>\n",
       "      <td>10</td>\n",
       "      <td>4</td>\n",
       "      <td>-0.995338</td>\n",
       "      <td>0.387499</td>\n",
       "    </tr>\n",
       "    <tr>\n",
       "      <th>19</th>\n",
       "      <td>10</td>\n",
       "      <td>4</td>\n",
       "      <td>-0.902618</td>\n",
       "      <td>0.397941</td>\n",
       "    </tr>\n",
       "  </tbody>\n",
       "</table>\n",
       "</div>"
      ],
      "text/plain": [
       "    flips  heads   mg_diff    p_calc\n",
       "0      10      4 -0.903271  0.397867\n",
       "1      10      4 -0.955627  0.391960\n",
       "2      10      3 -1.994644  0.282977\n",
       "3      10      1 -3.932004  0.136504\n",
       "4      10      6  1.087403  0.628482\n",
       "5      10      2 -2.956383  0.200382\n",
       "6      10      3 -1.977250  0.284646\n",
       "7      10      5  0.024828  0.505980\n",
       "8      10      4 -0.938406  0.393899\n",
       "9      10      2 -2.923549  0.202878\n",
       "10     10      2 -2.936257  0.201909\n",
       "11     10      4 -0.968594  0.390501\n",
       "12     10      4 -0.996061  0.387418\n",
       "13     10      4 -0.962290  0.391210\n",
       "14     10      2 -2.960857  0.200043\n",
       "15     10      2 -2.971787  0.199219\n",
       "16     10      5  0.008080  0.504003\n",
       "17     10      5  0.097535  0.514560\n",
       "18     10      4 -0.995338  0.387499\n",
       "19     10      4 -0.902618  0.397941"
      ]
     },
     "execution_count": 23,
     "metadata": {},
     "output_type": "execute_result"
    }
   ],
   "source": [
    "beta_0, beta_1 = mle_model_obs.x\n",
    "data['p_calc'] = np.exp(beta_0 + beta_1 * data['mg_diff'])/(1 + np.exp(beta_0 + beta_1 * data['mg_diff']))\n",
    "data"
   ]
  },
  {
   "cell_type": "markdown",
   "id": "18d07165",
   "metadata": {},
   "source": [
    "The weight difference does seem to affect the probability of getting heads as hypothesized."
   ]
  }
 ],
 "metadata": {
  "kernelspec": {
   "display_name": "Python 3 (ipykernel)",
   "language": "python",
   "name": "python3"
  },
  "language_info": {
   "codemirror_mode": {
    "name": "ipython",
    "version": 3
   },
   "file_extension": ".py",
   "mimetype": "text/x-python",
   "name": "python",
   "nbconvert_exporter": "python",
   "pygments_lexer": "ipython3",
   "version": "3.9.7"
  }
 },
 "nbformat": 4,
 "nbformat_minor": 5
}
