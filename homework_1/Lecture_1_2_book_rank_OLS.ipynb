{
 "cells": [
  {
   "cell_type": "markdown",
   "id": "fbe78230",
   "metadata": {},
   "source": [
    "Import the libraries you are going to use. In most cases, we will use these libraries."
   ]
  },
  {
   "cell_type": "code",
   "execution_count": 8,
   "id": "a02568b2",
   "metadata": {},
   "outputs": [],
   "source": [
    "import numpy as np\n",
    "import pandas as pd\n",
    "import statsmodels.api as sm\n",
    "import matplotlib.pyplot as plt\n",
    "from scipy import stats"
   ]
  },
  {
   "cell_type": "markdown",
   "id": "3827083d",
   "metadata": {},
   "source": [
    "Specify the location from where you loading your file."
   ]
  },
  {
   "cell_type": "code",
   "execution_count": 9,
   "id": "7065f688",
   "metadata": {},
   "outputs": [
    {
     "data": {
      "text/html": [
       "<div>\n",
       "<style scoped>\n",
       "    .dataframe tbody tr th:only-of-type {\n",
       "        vertical-align: middle;\n",
       "    }\n",
       "\n",
       "    .dataframe tbody tr th {\n",
       "        vertical-align: top;\n",
       "    }\n",
       "\n",
       "    .dataframe thead th {\n",
       "        text-align: right;\n",
       "    }\n",
       "</style>\n",
       "<table border=\"1\" class=\"dataframe\">\n",
       "  <thead>\n",
       "    <tr style=\"text-align: right;\">\n",
       "      <th></th>\n",
       "      <th>DATE</th>\n",
       "      <th>ISBN</th>\n",
       "      <th>Title</th>\n",
       "      <th>Weekly Sales</th>\n",
       "      <th>Weekly Average Rank</th>\n",
       "    </tr>\n",
       "  </thead>\n",
       "  <tbody>\n",
       "    <tr>\n",
       "      <th>0</th>\n",
       "      <td>37002.0</td>\n",
       "      <td>'0596000405</td>\n",
       "      <td>Java Servlet Programming (2nd Edition)</td>\n",
       "      <td>227</td>\n",
       "      <td>238.0</td>\n",
       "    </tr>\n",
       "    <tr>\n",
       "      <th>1</th>\n",
       "      <td>37002.0</td>\n",
       "      <td>'0596000278</td>\n",
       "      <td>Java Servlet Programming (2nd Edition)</td>\n",
       "      <td>269</td>\n",
       "      <td>258.0</td>\n",
       "    </tr>\n",
       "    <tr>\n",
       "      <th>2</th>\n",
       "      <td>37002.0</td>\n",
       "      <td>'1565922840</td>\n",
       "      <td>Programming Perl (3rd Edition)</td>\n",
       "      <td>135</td>\n",
       "      <td>388.0</td>\n",
       "    </tr>\n",
       "    <tr>\n",
       "      <th>3</th>\n",
       "      <td>37002.0</td>\n",
       "      <td>'1565923928</td>\n",
       "      <td>Developing Bioinformatics Computer Skills</td>\n",
       "      <td>481</td>\n",
       "      <td>401.5</td>\n",
       "    </tr>\n",
       "    <tr>\n",
       "      <th>4</th>\n",
       "      <td>37002.0</td>\n",
       "      <td>'1565924274</td>\n",
       "      <td>Programming Perl (3rd Edition)</td>\n",
       "      <td>145</td>\n",
       "      <td>408.0</td>\n",
       "    </tr>\n",
       "  </tbody>\n",
       "</table>\n",
       "</div>"
      ],
      "text/plain": [
       "      DATE         ISBN                                      Title  \\\n",
       "0  37002.0  '0596000405     Java Servlet Programming (2nd Edition)   \n",
       "1  37002.0  '0596000278     Java Servlet Programming (2nd Edition)   \n",
       "2  37002.0  '1565922840             Programming Perl (3rd Edition)   \n",
       "3  37002.0  '1565923928  Developing Bioinformatics Computer Skills   \n",
       "4  37002.0  '1565924274             Programming Perl (3rd Edition)   \n",
       "\n",
       "   Weekly Sales  Weekly Average Rank  \n",
       "0           227                238.0  \n",
       "1           269                258.0  \n",
       "2           135                388.0  \n",
       "3           481                401.5  \n",
       "4           145                408.0  "
      ]
     },
     "execution_count": 9,
     "metadata": {},
     "output_type": "execute_result"
    }
   ],
   "source": [
    "data = pd.read_excel('book_rank_data.xlsx')\n",
    "data.head()"
   ]
  },
  {
   "cell_type": "code",
   "execution_count": 10,
   "id": "8b0ca0ac",
   "metadata": {},
   "outputs": [
    {
     "data": {
      "text/plain": [
       "861"
      ]
     },
     "execution_count": 10,
     "metadata": {},
     "output_type": "execute_result"
    }
   ],
   "source": [
    "data.shape[0]"
   ]
  },
  {
   "cell_type": "markdown",
   "id": "6bf378d4",
   "metadata": {},
   "source": [
    "Convert into Log forms."
   ]
  },
  {
   "cell_type": "code",
   "execution_count": 11,
   "id": "da180476",
   "metadata": {},
   "outputs": [
    {
     "data": {
      "text/html": [
       "<div>\n",
       "<style scoped>\n",
       "    .dataframe tbody tr th:only-of-type {\n",
       "        vertical-align: middle;\n",
       "    }\n",
       "\n",
       "    .dataframe tbody tr th {\n",
       "        vertical-align: top;\n",
       "    }\n",
       "\n",
       "    .dataframe thead th {\n",
       "        text-align: right;\n",
       "    }\n",
       "</style>\n",
       "<table border=\"1\" class=\"dataframe\">\n",
       "  <thead>\n",
       "    <tr style=\"text-align: right;\">\n",
       "      <th></th>\n",
       "      <th>DATE</th>\n",
       "      <th>ISBN</th>\n",
       "      <th>Title</th>\n",
       "      <th>Weekly Sales</th>\n",
       "      <th>Weekly Average Rank</th>\n",
       "      <th>Lnrank</th>\n",
       "      <th>Lnsales</th>\n",
       "    </tr>\n",
       "  </thead>\n",
       "  <tbody>\n",
       "    <tr>\n",
       "      <th>0</th>\n",
       "      <td>37002.0</td>\n",
       "      <td>'0596000405</td>\n",
       "      <td>Java Servlet Programming (2nd Edition)</td>\n",
       "      <td>227</td>\n",
       "      <td>238.0</td>\n",
       "      <td>5.472271</td>\n",
       "      <td>5.424950</td>\n",
       "    </tr>\n",
       "    <tr>\n",
       "      <th>1</th>\n",
       "      <td>37002.0</td>\n",
       "      <td>'0596000278</td>\n",
       "      <td>Java Servlet Programming (2nd Edition)</td>\n",
       "      <td>269</td>\n",
       "      <td>258.0</td>\n",
       "      <td>5.552960</td>\n",
       "      <td>5.594711</td>\n",
       "    </tr>\n",
       "    <tr>\n",
       "      <th>2</th>\n",
       "      <td>37002.0</td>\n",
       "      <td>'1565922840</td>\n",
       "      <td>Programming Perl (3rd Edition)</td>\n",
       "      <td>135</td>\n",
       "      <td>388.0</td>\n",
       "      <td>5.961005</td>\n",
       "      <td>4.905275</td>\n",
       "    </tr>\n",
       "    <tr>\n",
       "      <th>3</th>\n",
       "      <td>37002.0</td>\n",
       "      <td>'1565923928</td>\n",
       "      <td>Developing Bioinformatics Computer Skills</td>\n",
       "      <td>481</td>\n",
       "      <td>401.5</td>\n",
       "      <td>5.995208</td>\n",
       "      <td>6.175867</td>\n",
       "    </tr>\n",
       "    <tr>\n",
       "      <th>4</th>\n",
       "      <td>37002.0</td>\n",
       "      <td>'1565924274</td>\n",
       "      <td>Programming Perl (3rd Edition)</td>\n",
       "      <td>145</td>\n",
       "      <td>408.0</td>\n",
       "      <td>6.011267</td>\n",
       "      <td>4.976734</td>\n",
       "    </tr>\n",
       "  </tbody>\n",
       "</table>\n",
       "</div>"
      ],
      "text/plain": [
       "      DATE         ISBN                                      Title  \\\n",
       "0  37002.0  '0596000405     Java Servlet Programming (2nd Edition)   \n",
       "1  37002.0  '0596000278     Java Servlet Programming (2nd Edition)   \n",
       "2  37002.0  '1565922840             Programming Perl (3rd Edition)   \n",
       "3  37002.0  '1565923928  Developing Bioinformatics Computer Skills   \n",
       "4  37002.0  '1565924274             Programming Perl (3rd Edition)   \n",
       "\n",
       "   Weekly Sales  Weekly Average Rank    Lnrank   Lnsales  \n",
       "0           227                238.0  5.472271  5.424950  \n",
       "1           269                258.0  5.552960  5.594711  \n",
       "2           135                388.0  5.961005  4.905275  \n",
       "3           481                401.5  5.995208  6.175867  \n",
       "4           145                408.0  6.011267  4.976734  "
      ]
     },
     "execution_count": 11,
     "metadata": {},
     "output_type": "execute_result"
    }
   ],
   "source": [
    "data['Lnrank'] = np.log(data['Weekly Average Rank'])\n",
    "data['Lnsales'] = np.log(data['Weekly Sales'])\n",
    "data.head()"
   ]
  },
  {
   "cell_type": "markdown",
   "id": "1d4de0d5",
   "metadata": {},
   "source": [
    "plot the log of sales and rank"
   ]
  },
  {
   "cell_type": "code",
   "execution_count": 12,
   "id": "049e93d5",
   "metadata": {},
   "outputs": [
    {
     "data": {
      "text/plain": [
       "<AxesSubplot:xlabel='Lnrank', ylabel='Lnsales'>"
      ]
     },
     "execution_count": 12,
     "metadata": {},
     "output_type": "execute_result"
    },
    {
     "data": {
      "image/png": "[encoded data removed]",
      "text/plain": [
       "<Figure size 432x288 with 1 Axes>"
      ]
     },
     "metadata": {
      "needs_background": "light"
     },
     "output_type": "display_data"
    }
   ],
   "source": [
    "data.plot('Lnrank', 'Lnsales', 'scatter')"
   ]
  },
  {
   "cell_type": "markdown",
   "id": "dea9e57c",
   "metadata": {},
   "source": [
    "plot the histogram"
   ]
  },
  {
   "cell_type": "code",
   "execution_count": 13,
   "id": "2b394936",
   "metadata": {},
   "outputs": [
    {
     "data": {
      "text/plain": [
       "array([[<AxesSubplot:title={'center':'Weekly Sales'}>]], dtype=object)"
      ]
     },
     "execution_count": 13,
     "metadata": {},
     "output_type": "execute_result"
    },
    {
     "data": {
      "image/png": "[encoded data removed]",
      "text/plain": [
       "<Figure size 432x288 with 1 Axes>"
      ]
     },
     "metadata": {
      "needs_background": "light"
     },
     "output_type": "display_data"
    }
   ],
   "source": [
    "data.hist('Weekly Sales', bins=20)"
   ]
  },
  {
   "cell_type": "markdown",
   "id": "d6e04cd7",
   "metadata": {},
   "source": [
    "Run an OLS with Lnsales (Y) as dependent variable and Lnrank (X) as independent variable. We have to make sure we specify the intercept.We do that create adding column on constant to our independent variable X."
   ]
  },
  {
   "cell_type": "code",
   "execution_count": 16,
   "id": "81e4c1ba",
   "metadata": {},
   "outputs": [
    {
     "name": "stderr",
     "output_type": "stream",
     "text": [
      "C:\\Users\\rston\\anaconda3\\lib\\site-packages\\statsmodels\\tsa\\tsatools.py:142: FutureWarning: In a future version of pandas all arguments of concat except for the argument 'objs' will be keyword-only\n",
      "  x = pd.concat(x[::order], 1)\n"
     ]
    }
   ],
   "source": [
    "X = data.Lnrank\n",
    "Y = data.Lnsales\n",
    "X = sm.add_constant(X)\n",
    "results = sm.OLS(Y,X).fit()"
   ]
  },
  {
   "cell_type": "code",
   "execution_count": 17,
   "id": "ec930419",
   "metadata": {
    "scrolled": false
   },
   "outputs": [
    {
     "data": {
      "text/html": [
       "<table class=\"simpletable\">\n",
       "<caption>OLS Regression Results</caption>\n",
       "<tr>\n",
       "  <th>Dep. Variable:</th>         <td>Lnsales</td>     <th>  R-squared:         </th> <td>   0.801</td> \n",
       "</tr>\n",
       "<tr>\n",
       "  <th>Model:</th>                   <td>OLS</td>       <th>  Adj. R-squared:    </th> <td>   0.801</td> \n",
       "</tr>\n",
       "<tr>\n",
       "  <th>Method:</th>             <td>Least Squares</td>  <th>  F-statistic:       </th> <td>   3454.</td> \n",
       "</tr>\n",
       "<tr>\n",
       "  <th>Date:</th>             <td>Thu, 17 Oct 2024</td> <th>  Prob (F-statistic):</th> <td>3.03e-303</td>\n",
       "</tr>\n",
       "<tr>\n",
       "  <th>Time:</th>                 <td>22:38:12</td>     <th>  Log-Likelihood:    </th> <td> -738.13</td> \n",
       "</tr>\n",
       "<tr>\n",
       "  <th>No. Observations:</th>      <td>   861</td>      <th>  AIC:               </th> <td>   1480.</td> \n",
       "</tr>\n",
       "<tr>\n",
       "  <th>Df Residuals:</th>          <td>   859</td>      <th>  BIC:               </th> <td>   1490.</td> \n",
       "</tr>\n",
       "<tr>\n",
       "  <th>Df Model:</th>              <td>     1</td>      <th>                     </th>     <td> </td>    \n",
       "</tr>\n",
       "<tr>\n",
       "  <th>Covariance Type:</th>      <td>nonrobust</td>    <th>                     </th>     <td> </td>    \n",
       "</tr>\n",
       "</table>\n",
       "<table class=\"simpletable\">\n",
       "<tr>\n",
       "     <td></td>       <th>coef</th>     <th>std err</th>      <th>t</th>      <th>P>|t|</th>  <th>[0.025</th>    <th>0.975]</th>  \n",
       "</tr>\n",
       "<tr>\n",
       "  <th>const</th>  <td>   10.5260</td> <td>    0.143</td> <td>   73.374</td> <td> 0.000</td> <td>   10.244</td> <td>   10.808</td>\n",
       "</tr>\n",
       "<tr>\n",
       "  <th>Lnrank</th> <td>   -0.8712</td> <td>    0.015</td> <td>  -58.774</td> <td> 0.000</td> <td>   -0.900</td> <td>   -0.842</td>\n",
       "</tr>\n",
       "</table>\n",
       "<table class=\"simpletable\">\n",
       "<tr>\n",
       "  <th>Omnibus:</th>       <td>176.859</td> <th>  Durbin-Watson:     </th> <td>   1.863</td> \n",
       "</tr>\n",
       "<tr>\n",
       "  <th>Prob(Omnibus):</th> <td> 0.000</td>  <th>  Jarque-Bera (JB):  </th> <td>1142.401</td> \n",
       "</tr>\n",
       "<tr>\n",
       "  <th>Skew:</th>          <td>-0.762</td>  <th>  Prob(JB):          </th> <td>8.53e-249</td>\n",
       "</tr>\n",
       "<tr>\n",
       "  <th>Kurtosis:</th>      <td> 8.433</td>  <th>  Cond. No.          </th> <td>    72.1</td> \n",
       "</tr>\n",
       "</table><br/><br/>Notes:<br/>[1] Standard Errors assume that the covariance matrix of the errors is correctly specified."
      ],
      "text/plain": [
       "<class 'statsmodels.iolib.summary.Summary'>\n",
       "\"\"\"\n",
       "                            OLS Regression Results                            \n",
       "==============================================================================\n",
       "Dep. Variable:                Lnsales   R-squared:                       0.801\n",
       "Model:                            OLS   Adj. R-squared:                  0.801\n",
       "Method:                 Least Squares   F-statistic:                     3454.\n",
       "Date:                Thu, 17 Oct 2024   Prob (F-statistic):          3.03e-303\n",
       "Time:                        22:38:12   Log-Likelihood:                -738.13\n",
       "No. Observations:                 861   AIC:                             1480.\n",
       "Df Residuals:                     859   BIC:                             1490.\n",
       "Df Model:                           1                                         \n",
       "Covariance Type:            nonrobust                                         \n",
       "==============================================================================\n",
       "                 coef    std err          t      P>|t|      [0.025      0.975]\n",
       "------------------------------------------------------------------------------\n",
       "const         10.5260      0.143     73.374      0.000      10.244      10.808\n",
       "Lnrank        -0.8712      0.015    -58.774      0.000      -0.900      -0.842\n",
       "==============================================================================\n",
       "Omnibus:                      176.859   Durbin-Watson:                   1.863\n",
       "Prob(Omnibus):                  0.000   Jarque-Bera (JB):             1142.401\n",
       "Skew:                          -0.762   Prob(JB):                    8.53e-249\n",
       "Kurtosis:                       8.433   Cond. No.                         72.1\n",
       "==============================================================================\n",
       "\n",
       "Notes:\n",
       "[1] Standard Errors assume that the covariance matrix of the errors is correctly specified.\n",
       "\"\"\""
      ]
     },
     "execution_count": 17,
     "metadata": {},
     "output_type": "execute_result"
    }
   ],
   "source": [
    "results.summary()"
   ]
  }
 ],
 "metadata": {
  "kernelspec": {
   "display_name": "Python 3 (ipykernel)",
   "language": "python",
   "name": "python3"
  },
  "language_info": {
   "codemirror_mode": {
    "name": "ipython",
    "version": 3
   },
   "file_extension": ".py",
   "mimetype": "text/x-python",
   "name": "python",
   "nbconvert_exporter": "python",
   "pygments_lexer": "ipython3",
   "version": "3.9.7"
  }
 },
 "nbformat": 4,
 "nbformat_minor": 5
}
