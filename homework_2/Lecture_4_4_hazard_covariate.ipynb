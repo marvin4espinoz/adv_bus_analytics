{
 "cells": [
  {
   "cell_type": "code",
   "execution_count": 1,
   "id": "3a78d267",
   "metadata": {},
   "outputs": [],
   "source": [
    "import pandas as pd\n",
    "import numpy as np\n",
    "from scipy.optimize import minimize \n",
    "import matplotlib.pyplot as plt\n",
    "from scipy import stats \n",
    "import numdifftools as ndt"
   ]
  },
  {
   "cell_type": "code",
   "execution_count": 2,
   "id": "5d12cedf",
   "metadata": {
    "scrolled": true
   },
   "outputs": [],
   "source": [
    "file= \"iPhoneData_adoption.xlsx\"\n",
    "data = pd.read_excel(file, sheet_name='iPhoneData',usecols='A:E',skiprows=3)\n"
   ]
  },
  {
   "cell_type": "code",
   "execution_count": 3,
   "id": "2e2a94a6",
   "metadata": {},
   "outputs": [
    {
     "data": {
      "text/html": [
       "<div>\n",
       "<style scoped>\n",
       "    .dataframe tbody tr th:only-of-type {\n",
       "        vertical-align: middle;\n",
       "    }\n",
       "\n",
       "    .dataframe tbody tr th {\n",
       "        vertical-align: top;\n",
       "    }\n",
       "\n",
       "    .dataframe thead th {\n",
       "        text-align: right;\n",
       "    }\n",
       "</style>\n",
       "<table border=\"1\" class=\"dataframe\">\n",
       "  <thead>\n",
       "    <tr style=\"text-align: right;\">\n",
       "      <th></th>\n",
       "      <th>subscriber_id</th>\n",
       "      <th>time</th>\n",
       "      <th>adopted</th>\n",
       "      <th>gender</th>\n",
       "      <th>income</th>\n",
       "    </tr>\n",
       "  </thead>\n",
       "  <tbody>\n",
       "    <tr>\n",
       "      <th>0</th>\n",
       "      <td>100000819</td>\n",
       "      <td>0</td>\n",
       "      <td>0</td>\n",
       "      <td>U</td>\n",
       "      <td>H</td>\n",
       "    </tr>\n",
       "    <tr>\n",
       "      <th>1</th>\n",
       "      <td>100000819</td>\n",
       "      <td>1</td>\n",
       "      <td>0</td>\n",
       "      <td>U</td>\n",
       "      <td>H</td>\n",
       "    </tr>\n",
       "    <tr>\n",
       "      <th>2</th>\n",
       "      <td>100000819</td>\n",
       "      <td>2</td>\n",
       "      <td>0</td>\n",
       "      <td>U</td>\n",
       "      <td>H</td>\n",
       "    </tr>\n",
       "    <tr>\n",
       "      <th>3</th>\n",
       "      <td>100000819</td>\n",
       "      <td>3</td>\n",
       "      <td>0</td>\n",
       "      <td>U</td>\n",
       "      <td>H</td>\n",
       "    </tr>\n",
       "    <tr>\n",
       "      <th>4</th>\n",
       "      <td>100000819</td>\n",
       "      <td>4</td>\n",
       "      <td>0</td>\n",
       "      <td>U</td>\n",
       "      <td>H</td>\n",
       "    </tr>\n",
       "    <tr>\n",
       "      <th>5</th>\n",
       "      <td>100000819</td>\n",
       "      <td>5</td>\n",
       "      <td>0</td>\n",
       "      <td>U</td>\n",
       "      <td>H</td>\n",
       "    </tr>\n",
       "    <tr>\n",
       "      <th>6</th>\n",
       "      <td>100000819</td>\n",
       "      <td>6</td>\n",
       "      <td>0</td>\n",
       "      <td>U</td>\n",
       "      <td>H</td>\n",
       "    </tr>\n",
       "    <tr>\n",
       "      <th>7</th>\n",
       "      <td>100000819</td>\n",
       "      <td>7</td>\n",
       "      <td>0</td>\n",
       "      <td>U</td>\n",
       "      <td>H</td>\n",
       "    </tr>\n",
       "    <tr>\n",
       "      <th>8</th>\n",
       "      <td>100000819</td>\n",
       "      <td>8</td>\n",
       "      <td>0</td>\n",
       "      <td>U</td>\n",
       "      <td>H</td>\n",
       "    </tr>\n",
       "    <tr>\n",
       "      <th>9</th>\n",
       "      <td>100000819</td>\n",
       "      <td>9</td>\n",
       "      <td>0</td>\n",
       "      <td>U</td>\n",
       "      <td>H</td>\n",
       "    </tr>\n",
       "    <tr>\n",
       "      <th>10</th>\n",
       "      <td>100000819</td>\n",
       "      <td>10</td>\n",
       "      <td>0</td>\n",
       "      <td>U</td>\n",
       "      <td>H</td>\n",
       "    </tr>\n",
       "    <tr>\n",
       "      <th>11</th>\n",
       "      <td>100000819</td>\n",
       "      <td>11</td>\n",
       "      <td>0</td>\n",
       "      <td>U</td>\n",
       "      <td>H</td>\n",
       "    </tr>\n",
       "    <tr>\n",
       "      <th>12</th>\n",
       "      <td>100001061</td>\n",
       "      <td>0</td>\n",
       "      <td>0</td>\n",
       "      <td>F</td>\n",
       "      <td>VH</td>\n",
       "    </tr>\n",
       "  </tbody>\n",
       "</table>\n",
       "</div>"
      ],
      "text/plain": [
       "    subscriber_id  time  adopted gender income\n",
       "0       100000819     0        0      U      H\n",
       "1       100000819     1        0      U      H\n",
       "2       100000819     2        0      U      H\n",
       "3       100000819     3        0      U      H\n",
       "4       100000819     4        0      U      H\n",
       "5       100000819     5        0      U      H\n",
       "6       100000819     6        0      U      H\n",
       "7       100000819     7        0      U      H\n",
       "8       100000819     8        0      U      H\n",
       "9       100000819     9        0      U      H\n",
       "10      100000819    10        0      U      H\n",
       "11      100000819    11        0      U      H\n",
       "12      100001061     0        0      F     VH"
      ]
     },
     "execution_count": 3,
     "metadata": {},
     "output_type": "execute_result"
    }
   ],
   "source": [
    "data.head(13)"
   ]
  },
  {
   "cell_type": "markdown",
   "id": "cb1a8372",
   "metadata": {},
   "source": [
    "Since a subscriber has multiple entries, I want to make sure that I group the data by subscriber. This ensures that all the columns are associated with one subscriber and I can calculate any statitics by subscriber. Here n_user will have one entry per user by taking the maximum of each colums (you can try any other combination)"
   ]
  },
  {
   "cell_type": "code",
   "execution_count": 4,
   "id": "5d15a325",
   "metadata": {},
   "outputs": [
    {
     "name": "stderr",
     "output_type": "stream",
     "text": [
      "C:\\Users\\rston\\AppData\\Local\\Temp/ipykernel_292/2702628621.py:1: FutureWarning: Indexing with multiple keys (implicitly converted to a tuple of keys) will be deprecated, use a list instead.\n",
      "  n_user=data.groupby('subscriber_id')['time','adopted','gender','income'].max()\n"
     ]
    }
   ],
   "source": [
    "n_user=data.groupby('subscriber_id')['time','adopted','gender','income'].max()"
   ]
  },
  {
   "cell_type": "code",
   "execution_count": 5,
   "id": "1cbd9326",
   "metadata": {},
   "outputs": [
    {
     "data": {
      "text/html": [
       "<div>\n",
       "<style scoped>\n",
       "    .dataframe tbody tr th:only-of-type {\n",
       "        vertical-align: middle;\n",
       "    }\n",
       "\n",
       "    .dataframe tbody tr th {\n",
       "        vertical-align: top;\n",
       "    }\n",
       "\n",
       "    .dataframe thead th {\n",
       "        text-align: right;\n",
       "    }\n",
       "</style>\n",
       "<table border=\"1\" class=\"dataframe\">\n",
       "  <thead>\n",
       "    <tr style=\"text-align: right;\">\n",
       "      <th></th>\n",
       "      <th>time</th>\n",
       "      <th>adopted</th>\n",
       "      <th>gender</th>\n",
       "      <th>income</th>\n",
       "    </tr>\n",
       "    <tr>\n",
       "      <th>subscriber_id</th>\n",
       "      <th></th>\n",
       "      <th></th>\n",
       "      <th></th>\n",
       "      <th></th>\n",
       "    </tr>\n",
       "  </thead>\n",
       "  <tbody>\n",
       "    <tr>\n",
       "      <th>100000819</th>\n",
       "      <td>11</td>\n",
       "      <td>0</td>\n",
       "      <td>U</td>\n",
       "      <td>H</td>\n",
       "    </tr>\n",
       "    <tr>\n",
       "      <th>100001061</th>\n",
       "      <td>11</td>\n",
       "      <td>0</td>\n",
       "      <td>F</td>\n",
       "      <td>VH</td>\n",
       "    </tr>\n",
       "    <tr>\n",
       "      <th>100002358</th>\n",
       "      <td>11</td>\n",
       "      <td>0</td>\n",
       "      <td>M</td>\n",
       "      <td>VH</td>\n",
       "    </tr>\n",
       "    <tr>\n",
       "      <th>100002569</th>\n",
       "      <td>11</td>\n",
       "      <td>0</td>\n",
       "      <td>U</td>\n",
       "      <td>H</td>\n",
       "    </tr>\n",
       "    <tr>\n",
       "      <th>100003998</th>\n",
       "      <td>11</td>\n",
       "      <td>0</td>\n",
       "      <td>F</td>\n",
       "      <td>VH</td>\n",
       "    </tr>\n",
       "  </tbody>\n",
       "</table>\n",
       "</div>"
      ],
      "text/plain": [
       "               time  adopted gender income\n",
       "subscriber_id                             \n",
       "100000819        11        0      U      H\n",
       "100001061        11        0      F     VH\n",
       "100002358        11        0      M     VH\n",
       "100002569        11        0      U      H\n",
       "100003998        11        0      F     VH"
      ]
     },
     "execution_count": 5,
     "metadata": {},
     "output_type": "execute_result"
    }
   ],
   "source": [
    "n_user.head()"
   ]
  },
  {
   "cell_type": "markdown",
   "id": "a951691e",
   "metadata": {},
   "source": [
    "We want to ensure that time runs for the whole year hence not 0 to 11 but 1 to 12, So we increase time by 1 unit"
   ]
  },
  {
   "cell_type": "code",
   "execution_count": 6,
   "id": "238ded23",
   "metadata": {},
   "outputs": [],
   "source": [
    "n_user.time = n_user.time+1"
   ]
  },
  {
   "cell_type": "markdown",
   "id": "e1b0240a",
   "metadata": {},
   "source": [
    "Explore the data"
   ]
  },
  {
   "cell_type": "code",
   "execution_count": 7,
   "id": "d056835f",
   "metadata": {},
   "outputs": [
    {
     "data": {
      "text/plain": [
       "count    10000.000000\n",
       "mean         0.075700\n",
       "std          0.264531\n",
       "min          0.000000\n",
       "25%          0.000000\n",
       "50%          0.000000\n",
       "75%          0.000000\n",
       "max          1.000000\n",
       "Name: adopted, dtype: float64"
      ]
     },
     "execution_count": 7,
     "metadata": {},
     "output_type": "execute_result"
    }
   ],
   "source": [
    "n_user.adopted.describe()"
   ]
  },
  {
   "cell_type": "markdown",
   "id": "9490b45a",
   "metadata": {},
   "source": [
    "the mean adoption rate is small. So we do not expect lot of adoption and should see lot of survival"
   ]
  },
  {
   "cell_type": "code",
   "execution_count": 8,
   "id": "736f4bd7",
   "metadata": {
    "scrolled": true
   },
   "outputs": [
    {
     "data": {
      "text/plain": [
       "gender\n",
       "F    1774\n",
       "M    2154\n",
       "U    6072\n",
       "Name: time, dtype: int64"
      ]
     },
     "execution_count": 8,
     "metadata": {},
     "output_type": "execute_result"
    }
   ],
   "source": [
    "n_user.groupby('gender')['time'].count()"
   ]
  },
  {
   "cell_type": "markdown",
   "id": "04855238",
   "metadata": {},
   "source": [
    "There are more unknowns than either M or F entries. When using one-hot encoding, assign these randomly or by something similar like position in the dataframe."
   ]
  },
  {
   "cell_type": "code",
   "execution_count": 10,
   "id": "f7c9ea75",
   "metadata": {
    "scrolled": true
   },
   "outputs": [
    {
     "data": {
      "text/plain": [
       "income\n",
       "A     2430\n",
       "H     3806\n",
       "L       14\n",
       "VH    3674\n",
       "Name: time, dtype: int64"
      ]
     },
     "execution_count": 10,
     "metadata": {},
     "output_type": "execute_result"
    }
   ],
   "source": [
    "n_user.groupby('income')['time'].count()"
   ]
  },
  {
   "cell_type": "markdown",
   "id": "98f04bd2",
   "metadata": {},
   "source": [
    "There are very few values of L. To break the income into High and Not High, put everything with value A in one group and everything else in another group."
   ]
  },
  {
   "cell_type": "markdown",
   "id": "7d1a24a7",
   "metadata": {},
   "source": [
    "convert the gender and income into dummy variables\n"
   ]
  },
  {
   "cell_type": "code",
   "execution_count": 11,
   "id": "c42b7bfa",
   "metadata": {},
   "outputs": [],
   "source": [
    "np.random.seed(20241109) # This ensures that we get the same results every time the notebook is run.\n",
    "n_user['genderM'] = 1\n",
    "n_user.loc[n_user.gender=='F', 'genderM'] = 0\n",
    "\n",
    "num_U = sum(n_user.gender=='U')\n",
    "n_user.loc[n_user.gender=='U', 'genderM'] = np.round(np.random.rand(num_U))"
   ]
  },
  {
   "cell_type": "code",
   "execution_count": 12,
   "id": "ff3ee071",
   "metadata": {},
   "outputs": [],
   "source": [
    "n_user['IncomeHL']=np.where((n_user.income==\"A\"),0,1)"
   ]
  },
  {
   "cell_type": "markdown",
   "id": "7cf8233d",
   "metadata": {},
   "source": [
    "See below what the data frame will look like"
   ]
  },
  {
   "cell_type": "code",
   "execution_count": 13,
   "id": "0d81512e",
   "metadata": {},
   "outputs": [
    {
     "data": {
      "text/html": [
       "<div>\n",
       "<style scoped>\n",
       "    .dataframe tbody tr th:only-of-type {\n",
       "        vertical-align: middle;\n",
       "    }\n",
       "\n",
       "    .dataframe tbody tr th {\n",
       "        vertical-align: top;\n",
       "    }\n",
       "\n",
       "    .dataframe thead th {\n",
       "        text-align: right;\n",
       "    }\n",
       "</style>\n",
       "<table border=\"1\" class=\"dataframe\">\n",
       "  <thead>\n",
       "    <tr style=\"text-align: right;\">\n",
       "      <th></th>\n",
       "      <th>time</th>\n",
       "      <th>adopted</th>\n",
       "      <th>gender</th>\n",
       "      <th>income</th>\n",
       "      <th>genderM</th>\n",
       "      <th>IncomeHL</th>\n",
       "    </tr>\n",
       "    <tr>\n",
       "      <th>subscriber_id</th>\n",
       "      <th></th>\n",
       "      <th></th>\n",
       "      <th></th>\n",
       "      <th></th>\n",
       "      <th></th>\n",
       "      <th></th>\n",
       "    </tr>\n",
       "  </thead>\n",
       "  <tbody>\n",
       "    <tr>\n",
       "      <th>100000819</th>\n",
       "      <td>12</td>\n",
       "      <td>0</td>\n",
       "      <td>U</td>\n",
       "      <td>H</td>\n",
       "      <td>0.0</td>\n",
       "      <td>1</td>\n",
       "    </tr>\n",
       "    <tr>\n",
       "      <th>100001061</th>\n",
       "      <td>12</td>\n",
       "      <td>0</td>\n",
       "      <td>F</td>\n",
       "      <td>VH</td>\n",
       "      <td>0.0</td>\n",
       "      <td>1</td>\n",
       "    </tr>\n",
       "    <tr>\n",
       "      <th>100002358</th>\n",
       "      <td>12</td>\n",
       "      <td>0</td>\n",
       "      <td>M</td>\n",
       "      <td>VH</td>\n",
       "      <td>1.0</td>\n",
       "      <td>1</td>\n",
       "    </tr>\n",
       "    <tr>\n",
       "      <th>100002569</th>\n",
       "      <td>12</td>\n",
       "      <td>0</td>\n",
       "      <td>U</td>\n",
       "      <td>H</td>\n",
       "      <td>1.0</td>\n",
       "      <td>1</td>\n",
       "    </tr>\n",
       "    <tr>\n",
       "      <th>100003998</th>\n",
       "      <td>12</td>\n",
       "      <td>0</td>\n",
       "      <td>F</td>\n",
       "      <td>VH</td>\n",
       "      <td>0.0</td>\n",
       "      <td>1</td>\n",
       "    </tr>\n",
       "    <tr>\n",
       "      <th>100006004</th>\n",
       "      <td>12</td>\n",
       "      <td>0</td>\n",
       "      <td>F</td>\n",
       "      <td>VH</td>\n",
       "      <td>0.0</td>\n",
       "      <td>1</td>\n",
       "    </tr>\n",
       "    <tr>\n",
       "      <th>100006157</th>\n",
       "      <td>12</td>\n",
       "      <td>0</td>\n",
       "      <td>F</td>\n",
       "      <td>A</td>\n",
       "      <td>0.0</td>\n",
       "      <td>0</td>\n",
       "    </tr>\n",
       "    <tr>\n",
       "      <th>100006255</th>\n",
       "      <td>12</td>\n",
       "      <td>0</td>\n",
       "      <td>M</td>\n",
       "      <td>VH</td>\n",
       "      <td>1.0</td>\n",
       "      <td>1</td>\n",
       "    </tr>\n",
       "    <tr>\n",
       "      <th>100006424</th>\n",
       "      <td>12</td>\n",
       "      <td>0</td>\n",
       "      <td>F</td>\n",
       "      <td>A</td>\n",
       "      <td>0.0</td>\n",
       "      <td>0</td>\n",
       "    </tr>\n",
       "    <tr>\n",
       "      <th>100009205</th>\n",
       "      <td>12</td>\n",
       "      <td>0</td>\n",
       "      <td>U</td>\n",
       "      <td>VH</td>\n",
       "      <td>0.0</td>\n",
       "      <td>1</td>\n",
       "    </tr>\n",
       "  </tbody>\n",
       "</table>\n",
       "</div>"
      ],
      "text/plain": [
       "               time  adopted gender income  genderM  IncomeHL\n",
       "subscriber_id                                                \n",
       "100000819        12        0      U      H      0.0         1\n",
       "100001061        12        0      F     VH      0.0         1\n",
       "100002358        12        0      M     VH      1.0         1\n",
       "100002569        12        0      U      H      1.0         1\n",
       "100003998        12        0      F     VH      0.0         1\n",
       "100006004        12        0      F     VH      0.0         1\n",
       "100006157        12        0      F      A      0.0         0\n",
       "100006255        12        0      M     VH      1.0         1\n",
       "100006424        12        0      F      A      0.0         0\n",
       "100009205        12        0      U     VH      0.0         1"
      ]
     },
     "execution_count": 13,
     "metadata": {},
     "output_type": "execute_result"
    }
   ],
   "source": [
    "n_user.head(10)"
   ]
  },
  {
   "cell_type": "markdown",
   "id": "6bcf3e64",
   "metadata": {},
   "source": [
    "To introduce the covariates, we shift the hazard appropriately. Since we take exponential, it is easy to calculate F(t) which is simply $ 1-e^{-\\lambda t e^{\\beta X)}}$\n",
    "\n",
    "Again we are doing f(t) = F(t)-F(t-1) to get the probabilty. \n",
    "As before we have to account for censored data. Some user may never adopt. For those who adopt, we have F(t)-F(t-1); for those who have not adopted till t =12, we take their survival (1-F(t)) in likelihood function"
   ]
  },
  {
   "cell_type": "code",
   "execution_count": 14,
   "id": "77196d6b",
   "metadata": {},
   "outputs": [],
   "source": [
    "def exp_cov(param):\n",
    "    \n",
    "    lamda=param[0]\n",
    "    b_gender = param[1]\n",
    "    b_income = param[2]\n",
    "    #create covariate\n",
    "    Cov = np.exp(b_gender*n_user.genderM + b_income*n_user.IncomeHL)\n",
    "    new_lambda = Cov * lamda\n",
    "    Ft = 1-np.exp(-new_lambda*n_user.time)\n",
    "    Ft1  = 1-np.exp(-new_lambda*(n_user.time-1))\n",
    "\n",
    "    #For people who adopt we take (Ft-Ft1)\n",
    "    prob_churn = Ft - Ft1\n",
    "    L = np.sum(np.log(prob_churn[n_user.adopted==1]))\n",
    "\n",
    "    #For those who survive we take (1-Ft)\n",
    "    prob_not_churn = 1 - Ft\n",
    "    L += np.sum(np.log(prob_not_churn[n_user.adopted==0]))\n",
    "\n",
    "    # This is a trickier way to do the same calculation.\n",
    "    #L = -np.log(((Ft-Ft1)**n_user.adopted)*((1-Ft)**(1-n_user.adopted))).sum()\n",
    "\n",
    "    return -L"
   ]
  },
  {
   "cell_type": "code",
   "execution_count": 15,
   "id": "cc55f1c3",
   "metadata": {
    "scrolled": true
   },
   "outputs": [
    {
     "name": "stderr",
     "output_type": "stream",
     "text": [
      "C:\\Users\\rston\\anaconda3\\lib\\site-packages\\pandas\\core\\arraylike.py:364: RuntimeWarning: divide by zero encountered in log\n",
      "  result = getattr(ufunc, method)(*inputs, **kwargs)\n"
     ]
    },
    {
     "data": {
      "text/plain": [
       " final_simplex: (array([[0.00414867, 0.09138913, 0.52588916],\n",
       "       [0.00414885, 0.09132332, 0.52585802],\n",
       "       [0.00414841, 0.09136813, 0.52592792],\n",
       "       [0.00414832, 0.09135077, 0.52598565]]), array([4538.43019403, 4538.43019425, 4538.43019431, 4538.43019442]))\n",
       "           fun: 4538.430194034126\n",
       "       message: 'Optimization terminated successfully.'\n",
       "          nfev: 336\n",
       "           nit: 185\n",
       "        status: 0\n",
       "       success: True\n",
       "             x: array([0.00414867, 0.09138913, 0.52588916])"
      ]
     },
     "execution_count": 15,
     "metadata": {},
     "output_type": "execute_result"
    }
   ],
   "source": [
    "\n",
    "#mle_out=minimize(exp_cov,np.array([0.2,0.2,0.2]), method='SLSQP', bounds=[{0,None},{None,5},{None,5}])\n",
    "\n",
    "mle_out=minimize(exp_cov,np.array([0.2,0.2,0.1]), method='Nelder-mead', bounds=[{0,10000},{-10000,5},{-10000,5}])\n",
    "\n",
    "mle_out"
   ]
  },
  {
   "cell_type": "markdown",
   "id": "438ea650",
   "metadata": {},
   "source": [
    "Calculate the BIC to compare this model with others."
   ]
  },
  {
   "cell_type": "code",
   "execution_count": 16,
   "id": "83c7c9a2",
   "metadata": {},
   "outputs": [
    {
     "data": {
      "text/plain": [
       "9104.49140918418"
      ]
     },
     "execution_count": 16,
     "metadata": {},
     "output_type": "execute_result"
    }
   ],
   "source": [
    "num_params = 3\n",
    "pop_size = n_user.shape[0]\n",
    "BIC = num_params * np.log(pop_size) - 2 * (-mle_out.fun)\n",
    "BIC"
   ]
  },
  {
   "cell_type": "markdown",
   "id": "f067935f",
   "metadata": {},
   "source": [
    "As expected, the baseline hazard $\\lambda$ is small. The actual hazard is now affected by the covariates. We can calculate it for each observation."
   ]
  },
  {
   "cell_type": "code",
   "execution_count": 17,
   "id": "1c53da59",
   "metadata": {},
   "outputs": [
    {
     "data": {
      "text/plain": [
       "subscriber_id\n",
       "100000819    0.007019\n",
       "100001061    0.007019\n",
       "100002358    0.007691\n",
       "100002569    0.007691\n",
       "100003998    0.007019\n",
       "               ...   \n",
       "812301972    0.004149\n",
       "812310995    0.007691\n",
       "812310996    0.007019\n",
       "812321677    0.007691\n",
       "812336212    0.007691\n",
       "Length: 10000, dtype: float64"
      ]
     },
     "execution_count": 17,
     "metadata": {},
     "output_type": "execute_result"
    }
   ],
   "source": [
    "lamda=mle_out.x[0]\n",
    "b_gender = mle_out.x[1]\n",
    "b_income = mle_out.x[2]\n",
    "Cov = np.exp(b_gender*n_user.genderM + b_income*n_user.IncomeHL)\n",
    "hazard = lamda*Cov\n",
    "hazard"
   ]
  },
  {
   "cell_type": "markdown",
   "id": "23d8a341",
   "metadata": {},
   "source": [
    "The probability of surviving whole 12 periods is $1 - F(t)$ or \\$e^{(-\\lambda e^{Xb} T)}$, where $T = 12$."
   ]
  },
  {
   "cell_type": "code",
   "execution_count": 18,
   "id": "494f3197",
   "metadata": {},
   "outputs": [
    {
     "data": {
      "text/plain": [
       "subscriber_id\n",
       "100000819    0.919217\n",
       "100001061    0.919217\n",
       "100002358    0.911837\n",
       "100002569    0.911837\n",
       "100003998    0.919217\n",
       "               ...   \n",
       "812301972    0.951435\n",
       "812310995    0.911837\n",
       "812310996    0.919217\n",
       "812321677    0.911837\n",
       "812336212    0.911837\n",
       "Length: 10000, dtype: float64"
      ]
     },
     "execution_count": 18,
     "metadata": {},
     "output_type": "execute_result"
    }
   ],
   "source": [
    "T = 12\n",
    "prob_survive_12 = np.exp(-lamda*Cov * T)\n",
    "prob_survive_12"
   ]
  },
  {
   "cell_type": "markdown",
   "id": "7116e9a1",
   "metadata": {},
   "source": [
    "Running a quick simulation shows that the number of people predicted to survive is close to the number who actually do survive."
   ]
  },
  {
   "cell_type": "code",
   "execution_count": 19,
   "id": "06d7d2a9",
   "metadata": {},
   "outputs": [
    {
     "name": "stdout",
     "output_type": "stream",
     "text": [
      " The number predicted to survive to T = 12 is: 9286\n"
     ]
    }
   ],
   "source": [
    "print(f' The number predicted to survive to T = 12 is: {sum(np.random.rand(n_user.shape[0]) <= prob_survive_12)}')"
   ]
  },
  {
   "cell_type": "markdown",
   "id": "1a1e5100",
   "metadata": {},
   "source": [
    "The number who do survive is the entry in the last row of the following dataframe."
   ]
  },
  {
   "cell_type": "code",
   "execution_count": 20,
   "id": "94a26583",
   "metadata": {},
   "outputs": [
    {
     "data": {
      "text/html": [
       "<div>\n",
       "<style scoped>\n",
       "    .dataframe tbody tr th:only-of-type {\n",
       "        vertical-align: middle;\n",
       "    }\n",
       "\n",
       "    .dataframe tbody tr th {\n",
       "        vertical-align: top;\n",
       "    }\n",
       "\n",
       "    .dataframe thead th {\n",
       "        text-align: right;\n",
       "    }\n",
       "</style>\n",
       "<table border=\"1\" class=\"dataframe\">\n",
       "  <thead>\n",
       "    <tr style=\"text-align: right;\">\n",
       "      <th></th>\n",
       "      <th>time</th>\n",
       "      <th>num_adopted</th>\n",
       "    </tr>\n",
       "  </thead>\n",
       "  <tbody>\n",
       "    <tr>\n",
       "      <th>0</th>\n",
       "      <td>1</td>\n",
       "      <td>0</td>\n",
       "    </tr>\n",
       "    <tr>\n",
       "      <th>1</th>\n",
       "      <td>2</td>\n",
       "      <td>0</td>\n",
       "    </tr>\n",
       "    <tr>\n",
       "      <th>2</th>\n",
       "      <td>3</td>\n",
       "      <td>0</td>\n",
       "    </tr>\n",
       "    <tr>\n",
       "      <th>3</th>\n",
       "      <td>4</td>\n",
       "      <td>6</td>\n",
       "    </tr>\n",
       "    <tr>\n",
       "      <th>4</th>\n",
       "      <td>5</td>\n",
       "      <td>10</td>\n",
       "    </tr>\n",
       "    <tr>\n",
       "      <th>5</th>\n",
       "      <td>6</td>\n",
       "      <td>27</td>\n",
       "    </tr>\n",
       "    <tr>\n",
       "      <th>6</th>\n",
       "      <td>7</td>\n",
       "      <td>7</td>\n",
       "    </tr>\n",
       "    <tr>\n",
       "      <th>7</th>\n",
       "      <td>8</td>\n",
       "      <td>0</td>\n",
       "    </tr>\n",
       "    <tr>\n",
       "      <th>8</th>\n",
       "      <td>9</td>\n",
       "      <td>0</td>\n",
       "    </tr>\n",
       "    <tr>\n",
       "      <th>9</th>\n",
       "      <td>10</td>\n",
       "      <td>0</td>\n",
       "    </tr>\n",
       "    <tr>\n",
       "      <th>10</th>\n",
       "      <td>11</td>\n",
       "      <td>0</td>\n",
       "    </tr>\n",
       "    <tr>\n",
       "      <th>11</th>\n",
       "      <td>12</td>\n",
       "      <td>9193</td>\n",
       "    </tr>\n",
       "  </tbody>\n",
       "</table>\n",
       "</div>"
      ],
      "text/plain": [
       "    time  num_adopted\n",
       "0      1            0\n",
       "1      2            0\n",
       "2      3            0\n",
       "3      4            6\n",
       "4      5           10\n",
       "5      6           27\n",
       "6      7            7\n",
       "7      8            0\n",
       "8      9            0\n",
       "9     10            0\n",
       "10    11            0\n",
       "11    12         9193"
      ]
     },
     "execution_count": 20,
     "metadata": {},
     "output_type": "execute_result"
    }
   ],
   "source": [
    "n_user.groupby('time').agg(num_adopted = ('adopted', lambda x: sum(x == 0))).reset_index()"
   ]
  },
  {
   "cell_type": "markdown",
   "id": "6f82c99d",
   "metadata": {},
   "source": [
    "We follow the same logic for Weibull"
   ]
  },
  {
   "cell_type": "code",
   "execution_count": 21,
   "id": "2550b407",
   "metadata": {},
   "outputs": [],
   "source": [
    "def weib_cov(param):\n",
    "    c=param[0]\n",
    "    lamda=param[1]\n",
    "    b1_gender = param[2]\n",
    "    b2_income = param[3]\n",
    "    #create covariate\n",
    "    Cov = np.exp(b1_gender*n_user.genderM + b2_income*n_user.IncomeHL)\n",
    "    new_lambda = Cov*lamda\n",
    "    Ft = 1-np.exp(-new_lambda*(n_user.time)**c)\n",
    "    Ft1  = 1-np.exp(-new_lambda*(n_user.time-1)**c)\n",
    "\n",
    "    #For people who adopt we take (Ft-Ft1)\n",
    "    prob_churn = Ft - Ft1\n",
    "    L = np.sum(np.log(prob_churn[n_user.adopted==1]))\n",
    "\n",
    "    #For those who survive we take (1-Ft)\n",
    "    prob_not_churn = 1 - Ft\n",
    "    L += np.sum(np.log(prob_not_churn[n_user.adopted==0]))\n",
    "\n",
    "    # This is a trickier way to do the same calculation.\n",
    "    #L = -np.log(((Ft-Ft1)**n_user.adopted)*((1-Ft)**(1-n_user.adopted))).sum()\n",
    "\n",
    "    return -L"
   ]
  },
  {
   "cell_type": "code",
   "execution_count": 23,
   "id": "7c05ee9d",
   "metadata": {},
   "outputs": [
    {
     "name": "stderr",
     "output_type": "stream",
     "text": [
      "C:\\Users\\rston\\anaconda3\\lib\\site-packages\\pandas\\core\\arraylike.py:364: RuntimeWarning: divide by zero encountered in log\n",
      "  result = getattr(ufunc, method)(*inputs, **kwargs)\n"
     ]
    },
    {
     "data": {
      "text/plain": [
       "     fun: 4477.19497244464\n",
       "     jac: array([-0.03942871, -0.71331787, -0.0065918 , -0.00543213])\n",
       " message: 'Optimization terminated successfully'\n",
       "    nfev: 157\n",
       "     nit: 27\n",
       "    njev: 27\n",
       "  status: 0\n",
       " success: True\n",
       "       x: array([0.65911867, 0.00962915, 0.09068985, 0.52227227])"
      ]
     },
     "execution_count": 23,
     "metadata": {},
     "output_type": "execute_result"
    }
   ],
   "source": [
    "\n",
    "#mle_out=minimize(weib_cov,np.array([0.1,0.1,0.1,0.1]), method='Nelder-mead', bounds=[{0,None},{0,None},{0,1},{0,1}])\n",
    "mle_out=minimize(weib_cov,np.array([0.1,0.1,0.1,0.1]), method='SLSQP', bounds=[{0,None},{0,None},{0,1},{0,1}])\n",
    "\n",
    "mle_out"
   ]
  },
  {
   "cell_type": "markdown",
   "id": "190fb321",
   "metadata": {},
   "source": [
    "Calculate the BIC to compare this model with others."
   ]
  },
  {
   "cell_type": "code",
   "execution_count": 24,
   "id": "98703830",
   "metadata": {},
   "outputs": [
    {
     "data": {
      "text/plain": [
       "8991.231306377185"
      ]
     },
     "execution_count": 24,
     "metadata": {},
     "output_type": "execute_result"
    }
   ],
   "source": [
    "num_params = 4\n",
    "pop_size = n_user.shape[0]\n",
    "BIC = num_params * np.log(pop_size) - 2 * (-mle_out.fun)\n",
    "BIC"
   ]
  },
  {
   "cell_type": "markdown",
   "id": "fbc8c1c7",
   "metadata": {},
   "source": [
    "As expected, the baseline hazard $\\lambda$ is small. The actual hazard is now affected by the covariates. We can calculate it for each observation."
   ]
  },
  {
   "cell_type": "code",
   "execution_count": 25,
   "id": "2c923c8b",
   "metadata": {},
   "outputs": [
    {
     "data": {
      "text/plain": [
       "subscriber_id\n",
       "100000819    0.016233\n",
       "100001061    0.016233\n",
       "100002358    0.017774\n",
       "100002569    0.017774\n",
       "100003998    0.016233\n",
       "               ...   \n",
       "812301972    0.009629\n",
       "812310995    0.017774\n",
       "812310996    0.016233\n",
       "812321677    0.017774\n",
       "812336212    0.017774\n",
       "Length: 10000, dtype: float64"
      ]
     },
     "execution_count": 25,
     "metadata": {},
     "output_type": "execute_result"
    }
   ],
   "source": [
    "c = mle_out.x[0]\n",
    "lamda=mle_out.x[1]\n",
    "b_gender = mle_out.x[2]\n",
    "b_income = mle_out.x[3]\n",
    "Cov = np.exp(b_gender*n_user.genderM + b_income*n_user.IncomeHL)\n",
    "hazard = lamda*Cov\n",
    "hazard"
   ]
  },
  {
   "cell_type": "markdown",
   "id": "bcfcab54",
   "metadata": {},
   "source": [
    "The probability of surviving whole 12 periods is $1 - F(t)$ or \\$e^{(-\\lambda e^{Xb} T^c)}$, where $T = 12$."
   ]
  },
  {
   "cell_type": "code",
   "execution_count": 26,
   "id": "7fdc85e2",
   "metadata": {},
   "outputs": [
    {
     "data": {
      "text/plain": [
       "subscriber_id\n",
       "100000819    0.919886\n",
       "100001061    0.919886\n",
       "100002358    0.912623\n",
       "100002569    0.912623\n",
       "100003998    0.919886\n",
       "               ...   \n",
       "812301972    0.951674\n",
       "812310995    0.912623\n",
       "812310996    0.919886\n",
       "812321677    0.912623\n",
       "812336212    0.912623\n",
       "Length: 10000, dtype: float64"
      ]
     },
     "execution_count": 26,
     "metadata": {},
     "output_type": "execute_result"
    }
   ],
   "source": [
    "T = 12\n",
    "prob_survive_12 = np.exp(-lamda*Cov * (T**c))\n",
    "prob_survive_12"
   ]
  },
  {
   "cell_type": "markdown",
   "id": "5d10246c",
   "metadata": {},
   "source": [
    "Running a quick simulation shows that the number of people predicted to survive is close to the number who actually do survive."
   ]
  },
  {
   "cell_type": "code",
   "execution_count": 27,
   "id": "d86fe82e",
   "metadata": {},
   "outputs": [
    {
     "name": "stdout",
     "output_type": "stream",
     "text": [
      " The number predicted to survive to T = 12 is: 9185\n"
     ]
    }
   ],
   "source": [
    "print(f' The number predicted to survive to T = 12 is: {sum(np.random.rand(n_user.shape[0]) <= prob_survive_12)}')"
   ]
  },
  {
   "cell_type": "markdown",
   "id": "9909ef8b",
   "metadata": {},
   "source": [
    "The number who do survive is the entry in the last row of the following dataframe."
   ]
  },
  {
   "cell_type": "code",
   "execution_count": 28,
   "id": "2eb32aaa",
   "metadata": {},
   "outputs": [
    {
     "data": {
      "text/html": [
       "<div>\n",
       "<style scoped>\n",
       "    .dataframe tbody tr th:only-of-type {\n",
       "        vertical-align: middle;\n",
       "    }\n",
       "\n",
       "    .dataframe tbody tr th {\n",
       "        vertical-align: top;\n",
       "    }\n",
       "\n",
       "    .dataframe thead th {\n",
       "        text-align: right;\n",
       "    }\n",
       "</style>\n",
       "<table border=\"1\" class=\"dataframe\">\n",
       "  <thead>\n",
       "    <tr style=\"text-align: right;\">\n",
       "      <th></th>\n",
       "      <th>time</th>\n",
       "      <th>num_adopted</th>\n",
       "    </tr>\n",
       "  </thead>\n",
       "  <tbody>\n",
       "    <tr>\n",
       "      <th>0</th>\n",
       "      <td>1</td>\n",
       "      <td>0</td>\n",
       "    </tr>\n",
       "    <tr>\n",
       "      <th>1</th>\n",
       "      <td>2</td>\n",
       "      <td>0</td>\n",
       "    </tr>\n",
       "    <tr>\n",
       "      <th>2</th>\n",
       "      <td>3</td>\n",
       "      <td>0</td>\n",
       "    </tr>\n",
       "    <tr>\n",
       "      <th>3</th>\n",
       "      <td>4</td>\n",
       "      <td>6</td>\n",
       "    </tr>\n",
       "    <tr>\n",
       "      <th>4</th>\n",
       "      <td>5</td>\n",
       "      <td>10</td>\n",
       "    </tr>\n",
       "    <tr>\n",
       "      <th>5</th>\n",
       "      <td>6</td>\n",
       "      <td>27</td>\n",
       "    </tr>\n",
       "    <tr>\n",
       "      <th>6</th>\n",
       "      <td>7</td>\n",
       "      <td>7</td>\n",
       "    </tr>\n",
       "    <tr>\n",
       "      <th>7</th>\n",
       "      <td>8</td>\n",
       "      <td>0</td>\n",
       "    </tr>\n",
       "    <tr>\n",
       "      <th>8</th>\n",
       "      <td>9</td>\n",
       "      <td>0</td>\n",
       "    </tr>\n",
       "    <tr>\n",
       "      <th>9</th>\n",
       "      <td>10</td>\n",
       "      <td>0</td>\n",
       "    </tr>\n",
       "    <tr>\n",
       "      <th>10</th>\n",
       "      <td>11</td>\n",
       "      <td>0</td>\n",
       "    </tr>\n",
       "    <tr>\n",
       "      <th>11</th>\n",
       "      <td>12</td>\n",
       "      <td>9193</td>\n",
       "    </tr>\n",
       "  </tbody>\n",
       "</table>\n",
       "</div>"
      ],
      "text/plain": [
       "    time  num_adopted\n",
       "0      1            0\n",
       "1      2            0\n",
       "2      3            0\n",
       "3      4            6\n",
       "4      5           10\n",
       "5      6           27\n",
       "6      7            7\n",
       "7      8            0\n",
       "8      9            0\n",
       "9     10            0\n",
       "10    11            0\n",
       "11    12         9193"
      ]
     },
     "execution_count": 28,
     "metadata": {},
     "output_type": "execute_result"
    }
   ],
   "source": [
    "n_user.groupby('time').agg(num_adopted = ('adopted', lambda x: sum(x == 0))).reset_index()"
   ]
  }
 ],
 "metadata": {
  "kernelspec": {
   "display_name": "Python 3 (ipykernel)",
   "language": "python",
   "name": "python3"
  },
  "language_info": {
   "codemirror_mode": {
    "name": "ipython",
    "version": 3
   },
   "file_extension": ".py",
   "mimetype": "text/x-python",
   "name": "python",
   "nbconvert_exporter": "python",
   "pygments_lexer": "ipython3",
   "version": "3.9.7"
  }
 },
 "nbformat": 4,
 "nbformat_minor": 5
}
