{
 "cells": [
  {
   "cell_type": "code",
   "execution_count": 1,
   "id": "3a3eaebb",
   "metadata": {},
   "outputs": [],
   "source": [
    "import os\n",
    "\n",
    "import pandas as pd\n",
    "import numpy as np\n",
    "import statsmodels.api as sm\n",
    "from scipy.optimize import minimize\n",
    "from scipy.stats import norm\n",
    "import math\n",
    "import matplotlib.pyplot as plt\n",
    "from scipy import stats\n",
    "import scipy.special as sc\n",
    "from scipy.special import beta"
   ]
  },
  {
   "cell_type": "code",
   "execution_count": 10,
   "id": "66c4a1f3",
   "metadata": {},
   "outputs": [],
   "source": [
    "filename = 'C:/Users/User/OneDrive/Desktop/github-repo-folder/adv_bus_analytics/homework_2/retention_data_geometricmodel-1 (1).xlsx'\n",
    "data_in = pd.read_excel(filename, usecols='A:D')"
   ]
  },
  {
   "cell_type": "code",
   "execution_count": 11,
   "id": "9eb4fd0d",
   "metadata": {},
   "outputs": [],
   "source": [
    "data_in = data_in.rename(columns={'# Customers':'Customers', '% Alive':'Alive', 'retention rate':'retention'})"
   ]
  },
  {
   "cell_type": "code",
   "execution_count": 12,
   "id": "ad65a367",
   "metadata": {},
   "outputs": [
    {
     "data": {
      "text/html": [
       "<div>\n",
       "<style scoped>\n",
       "    .dataframe tbody tr th:only-of-type {\n",
       "        vertical-align: middle;\n",
       "    }\n",
       "\n",
       "    .dataframe tbody tr th {\n",
       "        vertical-align: top;\n",
       "    }\n",
       "\n",
       "    .dataframe thead th {\n",
       "        text-align: right;\n",
       "    }\n",
       "</style>\n",
       "<table border=\"1\" class=\"dataframe\">\n",
       "  <thead>\n",
       "    <tr style=\"text-align: right;\">\n",
       "      <th></th>\n",
       "      <th>Year</th>\n",
       "      <th>Customers</th>\n",
       "      <th>Alive</th>\n",
       "      <th>retention</th>\n",
       "    </tr>\n",
       "  </thead>\n",
       "  <tbody>\n",
       "    <tr>\n",
       "      <th>0</th>\n",
       "      <td>0</td>\n",
       "      <td>1000</td>\n",
       "      <td>1.000</td>\n",
       "      <td>NaN</td>\n",
       "    </tr>\n",
       "    <tr>\n",
       "      <th>1</th>\n",
       "      <td>1</td>\n",
       "      <td>631</td>\n",
       "      <td>0.631</td>\n",
       "      <td>0.631000</td>\n",
       "    </tr>\n",
       "    <tr>\n",
       "      <th>2</th>\n",
       "      <td>2</td>\n",
       "      <td>468</td>\n",
       "      <td>0.468</td>\n",
       "      <td>0.741680</td>\n",
       "    </tr>\n",
       "    <tr>\n",
       "      <th>3</th>\n",
       "      <td>3</td>\n",
       "      <td>382</td>\n",
       "      <td>0.382</td>\n",
       "      <td>0.816239</td>\n",
       "    </tr>\n",
       "    <tr>\n",
       "      <th>4</th>\n",
       "      <td>4</td>\n",
       "      <td>326</td>\n",
       "      <td>0.326</td>\n",
       "      <td>0.853403</td>\n",
       "    </tr>\n",
       "    <tr>\n",
       "      <th>5</th>\n",
       "      <td>5</td>\n",
       "      <td>289</td>\n",
       "      <td>0.289</td>\n",
       "      <td>0.886503</td>\n",
       "    </tr>\n",
       "    <tr>\n",
       "      <th>6</th>\n",
       "      <td>6</td>\n",
       "      <td>262</td>\n",
       "      <td>0.262</td>\n",
       "      <td>0.906574</td>\n",
       "    </tr>\n",
       "    <tr>\n",
       "      <th>7</th>\n",
       "      <td>7</td>\n",
       "      <td>241</td>\n",
       "      <td>0.241</td>\n",
       "      <td>0.919847</td>\n",
       "    </tr>\n",
       "    <tr>\n",
       "      <th>8</th>\n",
       "      <td>8</td>\n",
       "      <td>223</td>\n",
       "      <td>0.223</td>\n",
       "      <td>0.925311</td>\n",
       "    </tr>\n",
       "    <tr>\n",
       "      <th>9</th>\n",
       "      <td>9</td>\n",
       "      <td>207</td>\n",
       "      <td>0.207</td>\n",
       "      <td>0.928251</td>\n",
       "    </tr>\n",
       "    <tr>\n",
       "      <th>10</th>\n",
       "      <td>10</td>\n",
       "      <td>194</td>\n",
       "      <td>0.194</td>\n",
       "      <td>0.937198</td>\n",
       "    </tr>\n",
       "    <tr>\n",
       "      <th>11</th>\n",
       "      <td>11</td>\n",
       "      <td>183</td>\n",
       "      <td>0.183</td>\n",
       "      <td>0.943299</td>\n",
       "    </tr>\n",
       "    <tr>\n",
       "      <th>12</th>\n",
       "      <td>12</td>\n",
       "      <td>173</td>\n",
       "      <td>0.173</td>\n",
       "      <td>0.945355</td>\n",
       "    </tr>\n",
       "  </tbody>\n",
       "</table>\n",
       "</div>"
      ],
      "text/plain": [
       "    Year  Customers  Alive  retention\n",
       "0      0       1000  1.000        NaN\n",
       "1      1        631  0.631   0.631000\n",
       "2      2        468  0.468   0.741680\n",
       "3      3        382  0.382   0.816239\n",
       "4      4        326  0.326   0.853403\n",
       "5      5        289  0.289   0.886503\n",
       "6      6        262  0.262   0.906574\n",
       "7      7        241  0.241   0.919847\n",
       "8      8        223  0.223   0.925311\n",
       "9      9        207  0.207   0.928251\n",
       "10    10        194  0.194   0.937198\n",
       "11    11        183  0.183   0.943299\n",
       "12    12        173  0.173   0.945355"
      ]
     },
     "execution_count": 12,
     "metadata": {},
     "output_type": "execute_result"
    }
   ],
   "source": [
    "data_in"
   ]
  },
  {
   "cell_type": "markdown",
   "id": "6289b59d",
   "metadata": {},
   "source": [
    "This is *aggregated* data. It lists the total number of people retained at each time point. If it listed every person separately, it would be *individual* data."
   ]
  },
  {
   "cell_type": "markdown",
   "id": "e922863a",
   "metadata": {},
   "source": [
    "Let's consider the first 8 years, because that's what will be used to train the model. Plot the retention rate."
   ]
  },
  {
   "cell_type": "code",
   "execution_count": 5,
   "id": "ed09669c",
   "metadata": {},
   "outputs": [
    {
     "data": {
      "text/plain": [
       "Text(0, 0.5, 'Retention Rate')"
      ]
     },
     "execution_count": 5,
     "metadata": {},
     "output_type": "execute_result"
    },
    {
     "data": {
      "image/png": "[encoded data removed]",
      "text/plain": [
       "<Figure size 640x480 with 1 Axes>"
      ]
     },
     "metadata": {},
     "output_type": "display_data"
    }
   ],
   "source": [
    "plt.plot(data_in[0:8].Year, data_in[0:8].retention)\n",
    "plt.title('Retention')\n",
    "plt.xlabel('Year')\n",
    "plt.ylabel('Retention Rate')"
   ]
  },
  {
   "cell_type": "markdown",
   "id": "29354f45",
   "metadata": {},
   "source": [
    "and the number of customers per year"
   ]
  },
  {
   "cell_type": "code",
   "execution_count": 6,
   "id": "5d68a023",
   "metadata": {},
   "outputs": [
    {
     "data": {
      "text/plain": [
       "Text(0, 0.5, 'Customers')"
      ]
     },
     "execution_count": 6,
     "metadata": {},
     "output_type": "execute_result"
    },
    {
     "data": {
      "image/png": "[encoded data removed]",
      "text/plain": [
       "<Figure size 640x480 with 1 Axes>"
      ]
     },
     "metadata": {},
     "output_type": "display_data"
    }
   ],
   "source": [
    "plt.plot(data_in[0:8].Year, data_in[0:8].Customers)\n",
    "plt.title('Churn Behavior')\n",
    "plt.xlabel('Year')\n",
    "plt.ylabel('Customers')"
   ]
  },
  {
   "cell_type": "markdown",
   "id": "ac17b746",
   "metadata": {},
   "source": [
    "Now create a column with how many people churn every year. The 1 in the first row is just filler."
   ]
  },
  {
   "cell_type": "code",
   "execution_count": 7,
   "id": "b2a9790a",
   "metadata": {},
   "outputs": [],
   "source": [
    "data_in['lost'] = 1\n",
    "for i in range(0,12):\n",
    "    data_in.loc[i+1, 'lost'] = data_in.Customers[i] - data_in.Customers[i+1]"
   ]
  },
  {
   "cell_type": "code",
   "execution_count": 8,
   "id": "270185cc",
   "metadata": {},
   "outputs": [
    {
     "data": {
      "text/html": [
       "<div>\n",
       "<style scoped>\n",
       "    .dataframe tbody tr th:only-of-type {\n",
       "        vertical-align: middle;\n",
       "    }\n",
       "\n",
       "    .dataframe tbody tr th {\n",
       "        vertical-align: top;\n",
       "    }\n",
       "\n",
       "    .dataframe thead th {\n",
       "        text-align: right;\n",
       "    }\n",
       "</style>\n",
       "<table border=\"1\" class=\"dataframe\">\n",
       "  <thead>\n",
       "    <tr style=\"text-align: right;\">\n",
       "      <th></th>\n",
       "      <th>Year</th>\n",
       "      <th>Customers</th>\n",
       "      <th>Alive</th>\n",
       "      <th>retention</th>\n",
       "      <th>lost</th>\n",
       "    </tr>\n",
       "  </thead>\n",
       "  <tbody>\n",
       "    <tr>\n",
       "      <th>0</th>\n",
       "      <td>0</td>\n",
       "      <td>1000</td>\n",
       "      <td>1.000</td>\n",
       "      <td>NaN</td>\n",
       "      <td>1</td>\n",
       "    </tr>\n",
       "    <tr>\n",
       "      <th>1</th>\n",
       "      <td>1</td>\n",
       "      <td>631</td>\n",
       "      <td>0.631</td>\n",
       "      <td>0.631000</td>\n",
       "      <td>369</td>\n",
       "    </tr>\n",
       "    <tr>\n",
       "      <th>2</th>\n",
       "      <td>2</td>\n",
       "      <td>468</td>\n",
       "      <td>0.468</td>\n",
       "      <td>0.741680</td>\n",
       "      <td>163</td>\n",
       "    </tr>\n",
       "    <tr>\n",
       "      <th>3</th>\n",
       "      <td>3</td>\n",
       "      <td>382</td>\n",
       "      <td>0.382</td>\n",
       "      <td>0.816239</td>\n",
       "      <td>86</td>\n",
       "    </tr>\n",
       "    <tr>\n",
       "      <th>4</th>\n",
       "      <td>4</td>\n",
       "      <td>326</td>\n",
       "      <td>0.326</td>\n",
       "      <td>0.853403</td>\n",
       "      <td>56</td>\n",
       "    </tr>\n",
       "    <tr>\n",
       "      <th>5</th>\n",
       "      <td>5</td>\n",
       "      <td>289</td>\n",
       "      <td>0.289</td>\n",
       "      <td>0.886503</td>\n",
       "      <td>37</td>\n",
       "    </tr>\n",
       "    <tr>\n",
       "      <th>6</th>\n",
       "      <td>6</td>\n",
       "      <td>262</td>\n",
       "      <td>0.262</td>\n",
       "      <td>0.906574</td>\n",
       "      <td>27</td>\n",
       "    </tr>\n",
       "    <tr>\n",
       "      <th>7</th>\n",
       "      <td>7</td>\n",
       "      <td>241</td>\n",
       "      <td>0.241</td>\n",
       "      <td>0.919847</td>\n",
       "      <td>21</td>\n",
       "    </tr>\n",
       "    <tr>\n",
       "      <th>8</th>\n",
       "      <td>8</td>\n",
       "      <td>223</td>\n",
       "      <td>0.223</td>\n",
       "      <td>0.925311</td>\n",
       "      <td>18</td>\n",
       "    </tr>\n",
       "    <tr>\n",
       "      <th>9</th>\n",
       "      <td>9</td>\n",
       "      <td>207</td>\n",
       "      <td>0.207</td>\n",
       "      <td>0.928251</td>\n",
       "      <td>16</td>\n",
       "    </tr>\n",
       "    <tr>\n",
       "      <th>10</th>\n",
       "      <td>10</td>\n",
       "      <td>194</td>\n",
       "      <td>0.194</td>\n",
       "      <td>0.937198</td>\n",
       "      <td>13</td>\n",
       "    </tr>\n",
       "    <tr>\n",
       "      <th>11</th>\n",
       "      <td>11</td>\n",
       "      <td>183</td>\n",
       "      <td>0.183</td>\n",
       "      <td>0.943299</td>\n",
       "      <td>11</td>\n",
       "    </tr>\n",
       "    <tr>\n",
       "      <th>12</th>\n",
       "      <td>12</td>\n",
       "      <td>173</td>\n",
       "      <td>0.173</td>\n",
       "      <td>0.945355</td>\n",
       "      <td>10</td>\n",
       "    </tr>\n",
       "  </tbody>\n",
       "</table>\n",
       "</div>"
      ],
      "text/plain": [
       "    Year  Customers  Alive  retention  lost\n",
       "0      0       1000  1.000        NaN     1\n",
       "1      1        631  0.631   0.631000   369\n",
       "2      2        468  0.468   0.741680   163\n",
       "3      3        382  0.382   0.816239    86\n",
       "4      4        326  0.326   0.853403    56\n",
       "5      5        289  0.289   0.886503    37\n",
       "6      6        262  0.262   0.906574    27\n",
       "7      7        241  0.241   0.919847    21\n",
       "8      8        223  0.223   0.925311    18\n",
       "9      9        207  0.207   0.928251    16\n",
       "10    10        194  0.194   0.937198    13\n",
       "11    11        183  0.183   0.943299    11\n",
       "12    12        173  0.173   0.945355    10"
      ]
     },
     "execution_count": 8,
     "metadata": {},
     "output_type": "execute_result"
    }
   ],
   "source": [
    "data_in"
   ]
  },
  {
   "cell_type": "markdown",
   "id": "4b0c0123",
   "metadata": {},
   "source": [
    "Train a model using the first 8 years. Then make predictions for the remaining years in the dataset."
   ]
  },
  {
   "cell_type": "markdown",
   "id": "b769fd4a",
   "metadata": {},
   "source": [
    "## Exponential Models"
   ]
  },
  {
   "cell_type": "markdown",
   "id": "e5596498",
   "metadata": {},
   "source": [
    "We use an exponential distribution rather than the discrete geometric that we used before. \n",
    "\n",
    "We make the approximation f(t) = F(t) - F(t-1)."
   ]
  },
  {
   "cell_type": "markdown",
   "id": "3fd6163b",
   "metadata": {},
   "source": [
    "#### One Segment"
   ]
  },
  {
   "cell_type": "code",
   "execution_count": 9,
   "id": "adf56331",
   "metadata": {},
   "outputs": [],
   "source": [
    "# we take the first 8 rows\n",
    "data = data_in.copy()\n",
    "data = data[0:8]"
   ]
  },
  {
   "cell_type": "code",
   "execution_count": 10,
   "id": "768321e3",
   "metadata": {},
   "outputs": [
    {
     "data": {
      "text/html": [
       "<div>\n",
       "<style scoped>\n",
       "    .dataframe tbody tr th:only-of-type {\n",
       "        vertical-align: middle;\n",
       "    }\n",
       "\n",
       "    .dataframe tbody tr th {\n",
       "        vertical-align: top;\n",
       "    }\n",
       "\n",
       "    .dataframe thead th {\n",
       "        text-align: right;\n",
       "    }\n",
       "</style>\n",
       "<table border=\"1\" class=\"dataframe\">\n",
       "  <thead>\n",
       "    <tr style=\"text-align: right;\">\n",
       "      <th></th>\n",
       "      <th>Year</th>\n",
       "      <th>Customers</th>\n",
       "      <th>Alive</th>\n",
       "      <th>retention</th>\n",
       "      <th>lost</th>\n",
       "    </tr>\n",
       "  </thead>\n",
       "  <tbody>\n",
       "    <tr>\n",
       "      <th>0</th>\n",
       "      <td>0</td>\n",
       "      <td>1000</td>\n",
       "      <td>1.000</td>\n",
       "      <td>NaN</td>\n",
       "      <td>1</td>\n",
       "    </tr>\n",
       "    <tr>\n",
       "      <th>1</th>\n",
       "      <td>1</td>\n",
       "      <td>631</td>\n",
       "      <td>0.631</td>\n",
       "      <td>0.631000</td>\n",
       "      <td>369</td>\n",
       "    </tr>\n",
       "    <tr>\n",
       "      <th>2</th>\n",
       "      <td>2</td>\n",
       "      <td>468</td>\n",
       "      <td>0.468</td>\n",
       "      <td>0.741680</td>\n",
       "      <td>163</td>\n",
       "    </tr>\n",
       "    <tr>\n",
       "      <th>3</th>\n",
       "      <td>3</td>\n",
       "      <td>382</td>\n",
       "      <td>0.382</td>\n",
       "      <td>0.816239</td>\n",
       "      <td>86</td>\n",
       "    </tr>\n",
       "    <tr>\n",
       "      <th>4</th>\n",
       "      <td>4</td>\n",
       "      <td>326</td>\n",
       "      <td>0.326</td>\n",
       "      <td>0.853403</td>\n",
       "      <td>56</td>\n",
       "    </tr>\n",
       "    <tr>\n",
       "      <th>5</th>\n",
       "      <td>5</td>\n",
       "      <td>289</td>\n",
       "      <td>0.289</td>\n",
       "      <td>0.886503</td>\n",
       "      <td>37</td>\n",
       "    </tr>\n",
       "    <tr>\n",
       "      <th>6</th>\n",
       "      <td>6</td>\n",
       "      <td>262</td>\n",
       "      <td>0.262</td>\n",
       "      <td>0.906574</td>\n",
       "      <td>27</td>\n",
       "    </tr>\n",
       "    <tr>\n",
       "      <th>7</th>\n",
       "      <td>7</td>\n",
       "      <td>241</td>\n",
       "      <td>0.241</td>\n",
       "      <td>0.919847</td>\n",
       "      <td>21</td>\n",
       "    </tr>\n",
       "  </tbody>\n",
       "</table>\n",
       "</div>"
      ],
      "text/plain": [
       "   Year  Customers  Alive  retention  lost\n",
       "0     0       1000  1.000        NaN     1\n",
       "1     1        631  0.631   0.631000   369\n",
       "2     2        468  0.468   0.741680   163\n",
       "3     3        382  0.382   0.816239    86\n",
       "4     4        326  0.326   0.853403    56\n",
       "5     5        289  0.289   0.886503    37\n",
       "6     6        262  0.262   0.906574    27\n",
       "7     7        241  0.241   0.919847    21"
      ]
     },
     "execution_count": 10,
     "metadata": {},
     "output_type": "execute_result"
    }
   ],
   "source": [
    "data"
   ]
  },
  {
   "cell_type": "code",
   "execution_count": 11,
   "id": "93c4064f",
   "metadata": {},
   "outputs": [],
   "source": [
    "def MLE_Exp(params):\n",
    "\n",
    "    lamda = params\n",
    "\n",
    "    F_t = 1 - np.exp(-lamda * data.Year)\n",
    "    F_t_minus_1 =  1 - np.exp(-lamda * (data.Year - 1))\n",
    "    prob_churn = F_t - F_t_minus_1\n",
    "\n",
    "    # Be careful - the value for year 0 is not realistic. It is calculated with a year -1,\n",
    "    # which doesn't appear in the dataset. Therefore, when finding the sum of log likelihoods,\n",
    "    # only use years 1 to 7.\n",
    "    log_like = np.sum(np.log(prob_churn[1:]) * data.lost[1:])\n",
    "\n",
    "    # Now we've found the sum of log likelihoods for all the people who churned.\n",
    "    # But what about the people who haven't churned? Add that in now.\n",
    "    prob_not_churn = 1 - F_t[7]\n",
    "    log_like = log_like + np.log(prob_not_churn) * data.Customers[7]\n",
    "\n",
    "    return -log_like"
   ]
  },
  {
   "cell_type": "code",
   "execution_count": 12,
   "id": "6d83ddbb",
   "metadata": {},
   "outputs": [
    {
     "name": "stdout",
     "output_type": "stream",
     "text": [
      "Optimization terminated successfully.\n",
      "         Current function value: 1794.620861\n",
      "         Iterations: 15\n",
      "         Function evaluations: 30\n"
     ]
    },
    {
     "data": {
      "text/plain": [
       " final_simplex: (array([[0.25625   ],\n",
       "       [0.25617188]]), array([1794.62086131, 1794.62086837]))\n",
       "           fun: 1794.6208613052322\n",
       "       message: 'Optimization terminated successfully.'\n",
       "          nfev: 30\n",
       "           nit: 15\n",
       "        status: 0\n",
       "       success: True\n",
       "             x: array([0.25625])"
      ]
     },
     "execution_count": 12,
     "metadata": {},
     "output_type": "execute_result"
    }
   ],
   "source": [
    "x0 = [0.1]\n",
    "bounds = [(0, 100)]\n",
    "mle_exp = minimize(MLE_Exp, x0 = x0, method='Nelder-mead', bounds=bounds, options={'disp': True})\n",
    "mle_exp"
   ]
  },
  {
   "cell_type": "markdown",
   "id": "6af5652b",
   "metadata": {},
   "source": [
    "This estimate is very close to what we get with the geometric model. Now do prediction on all time points up to t=12."
   ]
  },
  {
   "cell_type": "code",
   "execution_count": 13,
   "id": "f2a72237",
   "metadata": {},
   "outputs": [
    {
     "data": {
      "image/png": "[encoded data removed]",
      "text/plain": [
       "<Figure size 432x288 with 1 Axes>"
      ]
     },
     "metadata": {
      "needs_background": "light"
     },
     "output_type": "display_data"
    }
   ],
   "source": [
    "# Note that we use data_in because we want to study all 12 years.\n",
    "\n",
    "lamda = mle_exp.x[0]\n",
    "pop_size = data_in.Customers[0] # 1000 customers\n",
    "\n",
    "# Estimate how many churns at time t by taking (CDF(t+1) - CDF(t)) * N\n",
    "churn = ((1 - np.exp(-lamda * data_in.Year)) - (1 - np.exp(-lamda * (data_in.Year - 1)))) * pop_size\n",
    "\n",
    "pred_alive = [None] * 12\n",
    "pred_alive[0] = pop_size\n",
    "for i in range(1, 12):\n",
    "    pred_alive[i] = pred_alive[i-1] - churn[i]\n",
    "\n",
    "plt.plot(pred_alive, label='prediction')\n",
    "plt.plot(data_in.Customers[0:12], label='data')\n",
    "plt.legend()\n",
    "plt.title('Alive')\n",
    "plt.show()"
   ]
  },
  {
   "cell_type": "markdown",
   "id": "09c04070",
   "metadata": {},
   "source": [
    "It is as expected - a decent fit to the data with very parsimonious data."
   ]
  },
  {
   "cell_type": "markdown",
   "id": "165924a5",
   "metadata": {},
   "source": [
    "Plot hazard rate. Use the formula for hazard just to show that it can be done."
   ]
  },
  {
   "cell_type": "code",
   "execution_count": 9,
   "id": "67ab87e0",
   "metadata": {},
   "outputs": [
    {
     "ename": "NameError",
     "evalue": "name 'lamda' is not defined",
     "output_type": "error",
     "traceback": [
      "\u001b[1;31m---------------------------------------------------------------------------\u001b[0m",
      "\u001b[1;31mNameError\u001b[0m                                 Traceback (most recent call last)",
      "Cell \u001b[1;32mIn[9], line 2\u001b[0m\n\u001b[0;32m      1\u001b[0m c \u001b[38;5;241m=\u001b[39m \u001b[38;5;241m1\u001b[39m\n\u001b[1;32m----> 2\u001b[0m haz \u001b[38;5;241m=\u001b[39m c\u001b[38;5;241m*\u001b[39m\u001b[43mlamda\u001b[49m\u001b[38;5;241m*\u001b[39mdata_in\u001b[38;5;241m.\u001b[39mYear\u001b[38;5;241m*\u001b[39m\u001b[38;5;241m*\u001b[39m(c\u001b[38;5;241m-\u001b[39m\u001b[38;5;241m1\u001b[39m)\n\u001b[0;32m      4\u001b[0m emp_haz \u001b[38;5;241m=\u001b[39m [\u001b[38;5;28;01mNone\u001b[39;00m]\u001b[38;5;241m*\u001b[39m\u001b[38;5;241m13\u001b[39m\n\u001b[0;32m      5\u001b[0m \u001b[38;5;28;01mfor\u001b[39;00m t \u001b[38;5;129;01min\u001b[39;00m \u001b[38;5;28mrange\u001b[39m(\u001b[38;5;241m1\u001b[39m, \u001b[38;5;241m13\u001b[39m):\n",
      "\u001b[1;31mNameError\u001b[0m: name 'lamda' is not defined"
     ]
    }
   ],
   "source": [
    "c = 1\n",
    "haz = c*lamda*data_in.Year**(c-1)\n",
    "\n",
    "emp_haz = [None]*13\n",
    "for t in range(1, 13):\n",
    "    emp_haz[t] = data_in.lost[t]/data_in.Customers[t-1]\n",
    "\n",
    "plt.plot(haz, label='exponential')\n",
    "plt.plot(emp_haz, label='empirical')\n",
    "plt.title('hazard')\n",
    "plt.legend()\n",
    "plt.show()\n",
    "\n",
    "print(data_in)"
   ]
  },
  {
   "cell_type": "markdown",
   "id": "d3e6b5d1",
   "metadata": {},
   "source": [
    "It's a constant hazard model, as expected."
   ]
  },
  {
   "cell_type": "code",
   "execution_count": 15,
   "id": "ee587925",
   "metadata": {},
   "outputs": [
    {
     "data": {
      "text/plain": [
       "3596.1494778894466"
      ]
     },
     "execution_count": 15,
     "metadata": {},
     "output_type": "execute_result"
    }
   ],
   "source": [
    "num_params = 1\n",
    "BIC = num_params * np.log(pop_size) - 2 * (-mle_exp.fun) \n",
    "BIC"
   ]
  },
  {
   "cell_type": "markdown",
   "id": "4467b85c",
   "metadata": {},
   "source": [
    "#### Two Discrete Segments"
   ]
  },
  {
   "cell_type": "markdown",
   "id": "35f98cab",
   "metadata": {},
   "source": [
    "We can estimate two segments. Remember that continuous distribution to discrete data introduces errors since we are trying to disaggregate discrete data.\n",
    "\n",
    "So, to get the two segments, we calculate the probability of churn by F(t)-F(t-1) and the probability of belonging to segment 1, called p. So below we calculate for segment 1 and segment 2. Again, recall we have few data points which are discrete and we are fitting a continuous distribution."
   ]
  },
  {
   "cell_type": "code",
   "execution_count": 23,
   "id": "24422f60",
   "metadata": {},
   "outputs": [],
   "source": [
    "# we take the first 8 rows\n",
    "data = data_in.copy()\n",
    "data = data[0:8]\n",
    "\n",
    "def MLE_Exp2Seg(params):\n",
    "\n",
    "    lamda1 = params[0]\n",
    "    lamda2 = params[1]\n",
    "    p = params[2]\n",
    "\n",
    "    # Find the probability of churning if the customer is from group 1 and if they\n",
    "    # are from group 2.\n",
    "    Prob1 = (1 - np.exp(-lamda1 * data.Year)) - (1 - np.exp(-lamda1 * (data.Year - 1)))\n",
    "    Prob2 = (1 - np.exp(-lamda2 * data.Year)) - (1 - np.exp(-lamda2 * (data.Year - 1)))\n",
    "\n",
    "    # Use the law of total probability.\n",
    "    Prob = p * Prob1 + (1-p) * Prob2\n",
    "\n",
    "    # Now find the probability of not churning. It is one minus the sum of all\n",
    "    # the prior probabilities of churning.\n",
    "    Prob_not_churn_1 = 1 - np.sum(Prob1[1:])\n",
    "    Prob_not_churn_2 = 1 - np.sum(Prob2[1:])\n",
    "    \n",
    "    # Use the law of total probability.\n",
    "    Prob_not_churn = p * Prob_not_churn_1 + (1-p) * Prob_not_churn_2\n",
    "\n",
    "    # Find the sum of log-likelihoods. Be sure to weight by the number of customers\n",
    "    # churning at each time point. Remember that time t=0 doesn't have a realistic\n",
    "    # value and should be ignored.\n",
    "    LL = np.sum(np.log(Prob[1:]) * data_in.lost[1:])\n",
    "\n",
    "    # Add in the log-likelihood for the people who hadn't churned by year 7.\n",
    "    LL += np.log(Prob_not_churn) * data_in.Customers[7]\n",
    "\n",
    "    return -LL"
   ]
  },
  {
   "cell_type": "code",
   "execution_count": 24,
   "id": "77f61c09",
   "metadata": {},
   "outputs": [
    {
     "name": "stdout",
     "output_type": "stream",
     "text": [
      "Optimization terminated successfully.\n",
      "         Current function value: 1680.045548\n",
      "         Iterations: 84\n",
      "         Function evaluations: 149\n"
     ]
    },
    {
     "data": {
      "text/plain": [
       " final_simplex: (array([[0.08668166, 0.88193256, 0.43938035],\n",
       "       [0.08666415, 0.88185462, 0.43934607],\n",
       "       [0.08666546, 0.8818423 , 0.43932442],\n",
       "       [0.08667712, 0.88186565, 0.4393678 ]]), array([1680.04554816, 1680.04554843, 1680.04554843, 1680.0455486 ]))\n",
       "           fun: 1680.0455481565066\n",
       "       message: 'Optimization terminated successfully.'\n",
       "          nfev: 149\n",
       "           nit: 84\n",
       "        status: 0\n",
       "       success: True\n",
       "             x: array([0.08668166, 0.88193256, 0.43938035])"
      ]
     },
     "execution_count": 24,
     "metadata": {},
     "output_type": "execute_result"
    }
   ],
   "source": [
    "bounds = [(0, 100), (0, 100), (0.001, 0.99)]\n",
    "x0 = [0.2, 0.4, 0.5]\n",
    "mle_model = minimize(MLE_Exp2Seg, x0 = x0, method='Nelder-mead', bounds=bounds, options={'disp': True})\n",
    "mle_model"
   ]
  },
  {
   "cell_type": "markdown",
   "id": "d27c25bb",
   "metadata": {},
   "source": [
    "The estimate look reasonable except churn probability 0.88 looks high. But recall in the exponential model the estimate does not make a huge different to churn. Earlier we have 0.58, but the probability of churning in first few periods remain very high (90% or more) in both estimates.\n",
    "\n",
    "This is the potential limitation to applying continuous to discrete data when number of observations are small."
   ]
  },
  {
   "cell_type": "code",
   "execution_count": 25,
   "id": "5e53acc1",
   "metadata": {},
   "outputs": [
    {
     "data": {
      "image/png": "[encoded data removed]",
      "text/plain": [
       "<Figure size 432x288 with 1 Axes>"
      ]
     },
     "metadata": {
      "needs_background": "light"
     },
     "output_type": "display_data"
    }
   ],
   "source": [
    "# Note that we use data_in because we want to study all 12 years.\n",
    "\n",
    "lamda1, lamda2, p = mle_model.x\n",
    "pop_size = data_in.Customers[0] # 1000 customers\n",
    "\n",
    "# Estimate how many churns at time t by taking (CDF(t+1) - CDF(t)) * N\n",
    "Prob1 = (1 - np.exp(-lamda1 * data_in.Year)) - (1 - np.exp(-lamda1 * (data_in.Year - 1)))\n",
    "Prob2 = (1 - np.exp(-lamda2 * data_in.Year)) - (1 - np.exp(-lamda2 * (data_in.Year - 1)))\n",
    "\n",
    "# Use the law of total probability.\n",
    "Prob = p * Prob1 + (1-p) * Prob2\n",
    "\n",
    "churn = Prob * pop_size\n",
    "\n",
    "pred_alive = [None] * 12\n",
    "pred_alive[0] = pop_size\n",
    "for i in range(1, 12):\n",
    "    pred_alive[i] = pred_alive[i-1] - churn[i]\n",
    "\n",
    "plt.plot(pred_alive, label='prediction')\n",
    "plt.plot(data_in.Customers[0:12], label='data')\n",
    "plt.legend()\n",
    "plt.title('Alive')\n",
    "plt.show()"
   ]
  },
  {
   "cell_type": "code",
   "execution_count": 26,
   "id": "a2e60d92",
   "metadata": {},
   "outputs": [
    {
     "data": {
      "image/png": "[encoded data removed]",
      "text/plain": [
       "<Figure size 432x288 with 1 Axes>"
      ]
     },
     "metadata": {
      "needs_background": "light"
     },
     "output_type": "display_data"
    }
   ],
   "source": [
    "pred_haz = [None]*13\n",
    "for t in range(1, 13):\n",
    "    pred_haz[t] = churn[t]/pred_alive[t-1]\n",
    "\n",
    "emp_haz = [None]*13\n",
    "for t in range(1, 13):\n",
    "    emp_haz[t] = data_in.lost[t]/data_in.Customers[t-1]\n",
    "\n",
    "plt.plot(pred_haz, label='weibull')\n",
    "plt.plot(emp_haz, label='empirical')\n",
    "plt.title('hazard')\n",
    "plt.legend()\n",
    "plt.show()"
   ]
  },
  {
   "cell_type": "code",
   "execution_count": 27,
   "id": "f9f32eeb",
   "metadata": {},
   "outputs": [
    {
     "data": {
      "text/plain": [
       "3380.8143621499594"
      ]
     },
     "execution_count": 27,
     "metadata": {},
     "output_type": "execute_result"
    }
   ],
   "source": [
    "num_params = 3\n",
    "BIC = num_params * np.log(pop_size) - 2 * (-mle_model.fun) \n",
    "BIC"
   ]
  },
  {
   "cell_type": "markdown",
   "id": "a20f2c34",
   "metadata": {},
   "source": [
    "#### Infinite Segments - Exponential Gamma Model"
   ]
  },
  {
   "cell_type": "code",
   "execution_count": 33,
   "id": "709b391c",
   "metadata": {},
   "outputs": [],
   "source": [
    "# we take the first 8 rows\n",
    "data = data_in.copy()\n",
    "data = data[0:8]\n",
    "\n",
    "def MLE_Exp_Gamma(params):\n",
    "\n",
    "    alpha = params[0]\n",
    "    r = params[1]\n",
    "\n",
    "    # Find the probability of churning.\n",
    "    F_t = 1 - (alpha/(alpha + data.Year))**r\n",
    "    F_t_minus_1 = 1 - (alpha/(alpha + (data.Year - 1)))**r\n",
    "    Prob = F_t - F_t_minus_1\n",
    "\n",
    "    # Now find the probability of not churning. It is one minus the sum of all\n",
    "    # the prior probabilities of churning.\n",
    "    Prob_not_churn = 1 - np.sum(Prob[1:])\n",
    "\n",
    "    # Find the sum of log-likelihoods. Be sure to weight by the number of customers\n",
    "    # churning at each time point. Remember that time t=0 doesn't have a realistic\n",
    "    # value and should be ignored.\n",
    "    LL = np.sum(np.log(Prob[1:]) * data_in.lost[1:])\n",
    "\n",
    "    # Add in the log-likelihood for the people who hadn't churned by year 7.\n",
    "    LL += np.log(Prob_not_churn) * data_in.Customers[7]\n",
    "\n",
    "    return -LL"
   ]
  },
  {
   "cell_type": "markdown",
   "id": "ae078450",
   "metadata": {},
   "source": [
    "$\\alpha$ and $r$ must be greater than 0 but are otherwise unbounded."
   ]
  },
  {
   "cell_type": "code",
   "execution_count": 34,
   "id": "77aece0c",
   "metadata": {},
   "outputs": [
    {
     "name": "stdout",
     "output_type": "stream",
     "text": [
      "Optimization terminated successfully.\n",
      "         Current function value: 1680.296740\n",
      "         Iterations: 38\n",
      "         Function evaluations: 74\n"
     ]
    },
    {
     "data": {
      "text/plain": [
       " final_simplex: (array([[1.07276998, 0.70942845],\n",
       "       [1.07268241, 0.70938772],\n",
       "       [1.07277696, 0.70940447]]), array([1680.29674025, 1680.29674027, 1680.29674028]))\n",
       "           fun: 1680.296740254128\n",
       "       message: 'Optimization terminated successfully.'\n",
       "          nfev: 74\n",
       "           nit: 38\n",
       "        status: 0\n",
       "       success: True\n",
       "             x: array([1.07276998, 0.70942845])"
      ]
     },
     "execution_count": 34,
     "metadata": {},
     "output_type": "execute_result"
    }
   ],
   "source": [
    "bounds = [(0, 100), (0, 100)]\n",
    "x0 = [1, 1]\n",
    "mle_model = minimize(MLE_Exp_Gamma, x0 = x0, method='Nelder-mead', bounds=bounds, options={'disp': True})\n",
    "mle_model"
   ]
  },
  {
   "cell_type": "code",
   "execution_count": 35,
   "id": "82e61cb2",
   "metadata": {},
   "outputs": [
    {
     "data": {
      "image/png": "[encoded data removed]",
      "text/plain": [
       "<Figure size 432x288 with 1 Axes>"
      ]
     },
     "metadata": {
      "needs_background": "light"
     },
     "output_type": "display_data"
    }
   ],
   "source": [
    "# Note that we use data_in because we want to study all 12 years.\n",
    "pop_size = data_in.Customers[0] # 1000 customers\n",
    "\n",
    "alpha = mle_model.x[0]\n",
    "r = mle_model.x[1]\n",
    "\n",
    "# Find the probability of churning.\n",
    "F_t = 1 - (alpha/(alpha + data_in.Year))**r\n",
    "F_t_minus_1 = 1 - (alpha/(alpha + (data_in.Year - 1)))**r\n",
    "Prob = F_t - F_t_minus_1\n",
    "\n",
    "churn = Prob * pop_size\n",
    "\n",
    "pred_alive = [None] * 12\n",
    "pred_alive[0] = pop_size\n",
    "for i in range(1, 12):\n",
    "    pred_alive[i] = pred_alive[i-1] - churn[i]\n",
    "\n",
    "plt.plot(pred_alive, label='prediction')\n",
    "plt.plot(data_in.Customers[0:12], label='data')\n",
    "plt.legend()\n",
    "plt.title('Alive')\n",
    "plt.show()"
   ]
  },
  {
   "cell_type": "code",
   "execution_count": 36,
   "id": "a09c3627",
   "metadata": {},
   "outputs": [
    {
     "data": {
      "image/png": "[encoded data removed]",
      "text/plain": [
       "<Figure size 432x288 with 1 Axes>"
      ]
     },
     "metadata": {
      "needs_background": "light"
     },
     "output_type": "display_data"
    }
   ],
   "source": [
    "pred_haz = [None]*13\n",
    "for t in range(1, 13):\n",
    "    pred_haz[t] = churn[t]/pred_alive[t-1]\n",
    "\n",
    "emp_haz = [None]*13\n",
    "for t in range(1, 13):\n",
    "    emp_haz[t] = data_in.lost[t]/data_in.Customers[t-1]\n",
    "\n",
    "plt.plot(pred_haz, label='weibull')\n",
    "plt.plot(emp_haz, label='empirical')\n",
    "plt.title('hazard')\n",
    "plt.legend()\n",
    "plt.show()"
   ]
  },
  {
   "cell_type": "code",
   "execution_count": 37,
   "id": "283774b2",
   "metadata": {},
   "outputs": [
    {
     "data": {
      "text/plain": [
       "3374.4089910662206"
      ]
     },
     "execution_count": 37,
     "metadata": {},
     "output_type": "execute_result"
    }
   ],
   "source": [
    "num_params = 2\n",
    "BIC = num_params * np.log(pop_size) - 2 * (-mle_model.fun) \n",
    "BIC"
   ]
  },
  {
   "cell_type": "markdown",
   "id": "3738ead0",
   "metadata": {},
   "source": [
    "## Weibull models"
   ]
  },
  {
   "cell_type": "markdown",
   "id": "76286cf2",
   "metadata": {},
   "source": [
    "Now use the Weibull family of distributions."
   ]
  },
  {
   "cell_type": "markdown",
   "id": "ab6efc3f",
   "metadata": {},
   "source": [
    "#### One Segment"
   ]
  },
  {
   "cell_type": "code",
   "execution_count": 16,
   "id": "904d103f",
   "metadata": {},
   "outputs": [],
   "source": [
    "# we take the first 8 rows\n",
    "data = data_in.copy()\n",
    "data = data[0:8]"
   ]
  },
  {
   "cell_type": "code",
   "execution_count": 17,
   "id": "290952e7",
   "metadata": {},
   "outputs": [
    {
     "data": {
      "text/html": [
       "<div>\n",
       "<style scoped>\n",
       "    .dataframe tbody tr th:only-of-type {\n",
       "        vertical-align: middle;\n",
       "    }\n",
       "\n",
       "    .dataframe tbody tr th {\n",
       "        vertical-align: top;\n",
       "    }\n",
       "\n",
       "    .dataframe thead th {\n",
       "        text-align: right;\n",
       "    }\n",
       "</style>\n",
       "<table border=\"1\" class=\"dataframe\">\n",
       "  <thead>\n",
       "    <tr style=\"text-align: right;\">\n",
       "      <th></th>\n",
       "      <th>Year</th>\n",
       "      <th>Customers</th>\n",
       "      <th>Alive</th>\n",
       "      <th>retention</th>\n",
       "      <th>lost</th>\n",
       "    </tr>\n",
       "  </thead>\n",
       "  <tbody>\n",
       "    <tr>\n",
       "      <th>0</th>\n",
       "      <td>0</td>\n",
       "      <td>1000</td>\n",
       "      <td>1.000</td>\n",
       "      <td>NaN</td>\n",
       "      <td>1</td>\n",
       "    </tr>\n",
       "    <tr>\n",
       "      <th>1</th>\n",
       "      <td>1</td>\n",
       "      <td>631</td>\n",
       "      <td>0.631</td>\n",
       "      <td>0.631000</td>\n",
       "      <td>369</td>\n",
       "    </tr>\n",
       "    <tr>\n",
       "      <th>2</th>\n",
       "      <td>2</td>\n",
       "      <td>468</td>\n",
       "      <td>0.468</td>\n",
       "      <td>0.741680</td>\n",
       "      <td>163</td>\n",
       "    </tr>\n",
       "    <tr>\n",
       "      <th>3</th>\n",
       "      <td>3</td>\n",
       "      <td>382</td>\n",
       "      <td>0.382</td>\n",
       "      <td>0.816239</td>\n",
       "      <td>86</td>\n",
       "    </tr>\n",
       "    <tr>\n",
       "      <th>4</th>\n",
       "      <td>4</td>\n",
       "      <td>326</td>\n",
       "      <td>0.326</td>\n",
       "      <td>0.853403</td>\n",
       "      <td>56</td>\n",
       "    </tr>\n",
       "    <tr>\n",
       "      <th>5</th>\n",
       "      <td>5</td>\n",
       "      <td>289</td>\n",
       "      <td>0.289</td>\n",
       "      <td>0.886503</td>\n",
       "      <td>37</td>\n",
       "    </tr>\n",
       "    <tr>\n",
       "      <th>6</th>\n",
       "      <td>6</td>\n",
       "      <td>262</td>\n",
       "      <td>0.262</td>\n",
       "      <td>0.906574</td>\n",
       "      <td>27</td>\n",
       "    </tr>\n",
       "    <tr>\n",
       "      <th>7</th>\n",
       "      <td>7</td>\n",
       "      <td>241</td>\n",
       "      <td>0.241</td>\n",
       "      <td>0.919847</td>\n",
       "      <td>21</td>\n",
       "    </tr>\n",
       "  </tbody>\n",
       "</table>\n",
       "</div>"
      ],
      "text/plain": [
       "   Year  Customers  Alive  retention  lost\n",
       "0     0       1000  1.000        NaN     1\n",
       "1     1        631  0.631   0.631000   369\n",
       "2     2        468  0.468   0.741680   163\n",
       "3     3        382  0.382   0.816239    86\n",
       "4     4        326  0.326   0.853403    56\n",
       "5     5        289  0.289   0.886503    37\n",
       "6     6        262  0.262   0.906574    27\n",
       "7     7        241  0.241   0.919847    21"
      ]
     },
     "execution_count": 17,
     "metadata": {},
     "output_type": "execute_result"
    }
   ],
   "source": [
    "data"
   ]
  },
  {
   "cell_type": "code",
   "execution_count": 18,
   "id": "b5bd5f6d",
   "metadata": {},
   "outputs": [],
   "source": [
    "def MLE_Weib(params):\n",
    "\n",
    "    lamda, c = params\n",
    "\n",
    "    F_t = 1 - np.exp(-lamda * data.Year**c)\n",
    "    F_t_minus_1 =  1 - np.exp(-lamda * (data.Year - 1)**c)\n",
    "    prob_churn = F_t - F_t_minus_1\n",
    "\n",
    "    # Be careful - the value for year 0 is not realistic. It is calculated with a year -1,\n",
    "    # which doesn't appear in the dataset. Therefore, when finding the sum of log likelihoods,\n",
    "    # only use years 1 to 7.\n",
    "    log_like = np.sum(np.log(prob_churn[1:]) * data.lost[1:])\n",
    "\n",
    "    # Now we've found the sum of log likelihoods for all the people who churned.\n",
    "    # But what about the people who haven't churned? Add that in now.\n",
    "    prob_not_churn = 1 - F_t[7]\n",
    "    log_like = log_like + np.log(prob_not_churn) * data.Customers[7]\n",
    "\n",
    "    return -log_like"
   ]
  },
  {
   "cell_type": "code",
   "execution_count": 19,
   "id": "02ab973e",
   "metadata": {
    "scrolled": false
   },
   "outputs": [
    {
     "name": "stdout",
     "output_type": "stream",
     "text": [
      "Optimization terminated successfully.\n",
      "         Current function value: 1688.520242\n",
      "         Iterations: 40\n",
      "         Function evaluations: 76\n"
     ]
    },
    {
     "name": "stderr",
     "output_type": "stream",
     "text": [
      "C:\\Users\\rston\\anaconda3\\lib\\site-packages\\pandas\\core\\arraylike.py:364: RuntimeWarning: divide by zero encountered in log\n",
      "  result = getattr(ufunc, method)(*inputs, **kwargs)\n"
     ]
    },
    {
     "data": {
      "text/plain": [
       " final_simplex: (array([[0.47992934, 0.57160843],\n",
       "       [0.479972  , 0.57152658],\n",
       "       [0.48001037, 0.57156474]]), array([1688.52024179, 1688.52024188, 1688.52024731]))\n",
       "           fun: 1688.5202417884097\n",
       "       message: 'Optimization terminated successfully.'\n",
       "          nfev: 76\n",
       "           nit: 40\n",
       "        status: 0\n",
       "       success: True\n",
       "             x: array([0.47992934, 0.57160843])"
      ]
     },
     "execution_count": 19,
     "metadata": {},
     "output_type": "execute_result"
    }
   ],
   "source": [
    "x0 = [1, 1]\n",
    "bounds = [(0, 100), (0, 100)]\n",
    "mle_weib = minimize(MLE_Weib, x0 = x0, method='Nelder-mead', bounds=bounds, options={'disp': True})\n",
    "mle_weib"
   ]
  },
  {
   "cell_type": "markdown",
   "id": "34bd2aff",
   "metadata": {},
   "source": [
    "Now do prediction on all time points up to t=12."
   ]
  },
  {
   "cell_type": "code",
   "execution_count": 20,
   "id": "5733a0d2",
   "metadata": {},
   "outputs": [
    {
     "data": {
      "image/png": "[encoded data removed]",
      "text/plain": [
       "<Figure size 432x288 with 1 Axes>"
      ]
     },
     "metadata": {
      "needs_background": "light"
     },
     "output_type": "display_data"
    }
   ],
   "source": [
    "# Note that we use data_in because we want to study all 12 years.\n",
    "\n",
    "lamda, c = mle_weib.x\n",
    "pop_size = data_in.Customers[0] # 1000 customers\n",
    "\n",
    "# Estimate how many churns at time t by taking (CDF(t+1) - CDF(t)) * N\n",
    "churn = ((1 - np.exp(-lamda * data_in.Year**c)) - (1 - np.exp(-lamda * (data_in.Year - 1)**c))) * pop_size\n",
    "\n",
    "pred_alive = [None] * 12\n",
    "pred_alive[0] = pop_size\n",
    "for i in range(1, 12):\n",
    "    pred_alive[i] = pred_alive[i-1] - churn[i]\n",
    "\n",
    "plt.plot(pred_alive, label='prediction')\n",
    "plt.plot(data_in.Customers[0:12], label='data')\n",
    "plt.legend()\n",
    "plt.title('Alive')\n",
    "plt.show()"
   ]
  },
  {
   "cell_type": "markdown",
   "id": "87e5733d",
   "metadata": {},
   "source": [
    "Plot the hazard. Use the equation for hazard just to show that it can be done."
   ]
  },
  {
   "cell_type": "code",
   "execution_count": 21,
   "id": "87bd816b",
   "metadata": {},
   "outputs": [
    {
     "data": {
      "image/png": "[encoded data removed]",
      "text/plain": [
       "<Figure size 432x288 with 1 Axes>"
      ]
     },
     "metadata": {
      "needs_background": "light"
     },
     "output_type": "display_data"
    }
   ],
   "source": [
    "haz = c*lamda*data_in.Year**(c-1)\n",
    "\n",
    "emp_haz = [None]*13\n",
    "for t in range(1, 13):\n",
    "    emp_haz[t] = data_in.lost[t]/data_in.Customers[t-1]\n",
    "\n",
    "plt.plot(haz, label='weibull')\n",
    "plt.plot(emp_haz, label='empirical')\n",
    "plt.title('hazard')\n",
    "plt.legend()\n",
    "plt.show()"
   ]
  },
  {
   "cell_type": "code",
   "execution_count": 22,
   "id": "be15e7d3",
   "metadata": {},
   "outputs": [
    {
     "data": {
      "text/plain": [
       "3603.057233168429"
      ]
     },
     "execution_count": 22,
     "metadata": {},
     "output_type": "execute_result"
    }
   ],
   "source": [
    "num_params = 2\n",
    "BIC = num_params * np.log(pop_size) - 2 * (-mle_exp.fun) \n",
    "BIC"
   ]
  },
  {
   "cell_type": "markdown",
   "id": "3f121fe6",
   "metadata": {},
   "source": [
    "This is a bit better than the 1-segment exponential model."
   ]
  },
  {
   "cell_type": "markdown",
   "id": "f20ce525",
   "metadata": {},
   "source": [
    "#### Two Discrete Segments"
   ]
  },
  {
   "cell_type": "code",
   "execution_count": 28,
   "id": "6c670959",
   "metadata": {},
   "outputs": [],
   "source": [
    "# we take the first 8 rows\n",
    "data = data_in.copy()\n",
    "data = data[0:8]\n",
    "\n",
    "def MLE_Weib2Seg(params):\n",
    "\n",
    "    lamda1 = params[0]\n",
    "    c1 = params[1]\n",
    "    lamda2 = params[2]\n",
    "    c2 = params[3]\n",
    "    p = params[4]\n",
    "\n",
    "    # Find the probability of churning if the customer is from group 1 and if they\n",
    "    # are from group 2.\n",
    "    Prob1 = (1 - np.exp(-lamda1 * data.Year**c1)) - (1 - np.exp(-lamda1 * (data.Year - 1)**c1))\n",
    "    Prob2 = (1 - np.exp(-lamda2 * data.Year**c2)) - (1 - np.exp(-lamda2 * (data.Year - 1)**c2))\n",
    "\n",
    "    # Use the law of total probability.\n",
    "    Prob = p * Prob1 + (1-p) * Prob2\n",
    "\n",
    "    # Now find the probability of not churning. It is one minus the sum of all\n",
    "    # the prior probabilities of churning.\n",
    "    Prob_not_churn_1 = 1 - np.sum(Prob1[1:])\n",
    "    Prob_not_churn_2 = 1 - np.sum(Prob2[1:])\n",
    "    \n",
    "    # Use the law of total probability.\n",
    "    Prob_not_churn = p * Prob_not_churn_1 + (1-p) * Prob_not_churn_2\n",
    "\n",
    "    # Find the sum of log-likelihoods. Be sure to weight by the number of customers\n",
    "    # churning at each time point. Remember that time t=0 doesn't have a realistic\n",
    "    # value and should be ignored.\n",
    "    LL = np.sum(np.log(Prob[1:]) * data_in.lost[1:])\n",
    "\n",
    "    # Add in the log-likelihood for the people who hadn't churned by year 7.\n",
    "    LL += np.log(Prob_not_churn) * data_in.Customers[7]\n",
    "\n",
    "    return -LL"
   ]
  },
  {
   "cell_type": "code",
   "execution_count": 29,
   "id": "a1207321",
   "metadata": {},
   "outputs": [
    {
     "name": "stdout",
     "output_type": "stream",
     "text": [
      "Optimization terminated successfully.\n",
      "         Current function value: 1679.608029\n",
      "         Iterations: 434\n",
      "         Function evaluations: 690\n"
     ]
    },
    {
     "data": {
      "text/plain": [
       " final_simplex: (array([[0.1388536 , 0.77056961, 0.81412573, 0.9013621 , 0.43939368],\n",
       "       [0.13888559, 0.77050695, 0.8141321 , 0.90137171, 0.43942394],\n",
       "       [0.13887685, 0.77052155, 0.81412688, 0.90136685, 0.43941438],\n",
       "       [0.13888783, 0.77050467, 0.8141325 , 0.9013738 , 0.43942753],\n",
       "       [0.13883945, 0.77060059, 0.81412893, 0.90135436, 0.4393805 ],\n",
       "       [0.13887417, 0.77053519, 0.81413616, 0.90137031, 0.43941714]]), array([1679.60802949, 1679.60802949, 1679.60802949, 1679.60802949,\n",
       "       1679.60802949, 1679.60802949]))\n",
       "           fun: 1679.6080294925596\n",
       "       message: 'Optimization terminated successfully.'\n",
       "          nfev: 690\n",
       "           nit: 434\n",
       "        status: 0\n",
       "       success: True\n",
       "             x: array([0.1388536 , 0.77056961, 0.81412573, 0.9013621 , 0.43939368])"
      ]
     },
     "execution_count": 29,
     "metadata": {},
     "output_type": "execute_result"
    }
   ],
   "source": [
    "bounds = [(0, 100), (0, 100), (0, 100), (0, 100), (0.001, 0.99)]\n",
    "x0 = [0.5, 0.5, 1, 1, 0.5]\n",
    "mle_model = minimize(MLE_Weib2Seg, x0 = x0, method='Nelder-mead', bounds=bounds, options={'disp': True})\n",
    "mle_model"
   ]
  },
  {
   "cell_type": "code",
   "execution_count": 30,
   "id": "f12819ce",
   "metadata": {},
   "outputs": [
    {
     "data": {
      "image/png": "[encoded data removed]",
      "text/plain": [
       "<Figure size 432x288 with 1 Axes>"
      ]
     },
     "metadata": {
      "needs_background": "light"
     },
     "output_type": "display_data"
    }
   ],
   "source": [
    "# Note that we use data_in because we want to study all 12 years.\n",
    "\n",
    "lamda1 = mle_model.x[0]\n",
    "c1 = mle_model.x[1]\n",
    "lamda2 = mle_model.x[2]\n",
    "c2 = mle_model.x[3]\n",
    "p = mle_model.x[4]\n",
    "\n",
    "pop_size = data_in.Customers[0] # 1000 customers\n",
    "\n",
    "# Find the probability of churning if the customer is from group 1 and if they\n",
    "# are from group 2.\n",
    "Prob1 = (1 - np.exp(-lamda1 * data_in.Year**c1)) - (1 - np.exp(-lamda1 * (data_in.Year - 1)**c1))\n",
    "Prob2 = (1 - np.exp(-lamda2 * data_in.Year**c2)) - (1 - np.exp(-lamda2 * (data_in.Year - 1)**c2))\n",
    "\n",
    "# Use the law of total probability.\n",
    "Prob = p * Prob1 + (1-p) * Prob2\n",
    "\n",
    "churn = Prob * pop_size\n",
    "\n",
    "pred_alive = [None] * 12\n",
    "pred_alive[0] = pop_size\n",
    "for i in range(1, 12):\n",
    "    pred_alive[i] = pred_alive[i-1] - churn[i]\n",
    "\n",
    "plt.plot(pred_alive, label='prediction')\n",
    "plt.plot(data_in.Customers[0:12], label='data')\n",
    "plt.legend()\n",
    "plt.title('Alive')\n",
    "plt.show()"
   ]
  },
  {
   "cell_type": "markdown",
   "id": "aeb1f426",
   "metadata": {},
   "source": [
    "Plot the hazard. "
   ]
  },
  {
   "cell_type": "code",
   "execution_count": 31,
   "id": "6181a9bd",
   "metadata": {},
   "outputs": [
    {
     "data": {
      "image/png": "[encoded data removed]",
      "text/plain": [
       "<Figure size 432x288 with 1 Axes>"
      ]
     },
     "metadata": {
      "needs_background": "light"
     },
     "output_type": "display_data"
    }
   ],
   "source": [
    "pred_haz = [None]*13\n",
    "for t in range(1, 13):\n",
    "    pred_haz[t] = churn[t]/pred_alive[t-1]\n",
    "\n",
    "emp_haz = [None]*13\n",
    "for t in range(1, 13):\n",
    "    emp_haz[t] = data_in.lost[t]/data_in.Customers[t-1]\n",
    "\n",
    "plt.plot(pred_haz, label='weibull')\n",
    "plt.plot(emp_haz, label='empirical')\n",
    "plt.title('hazard')\n",
    "plt.legend()\n",
    "plt.show()"
   ]
  },
  {
   "cell_type": "code",
   "execution_count": 32,
   "id": "9f9ae0c2",
   "metadata": {},
   "outputs": [
    {
     "data": {
      "text/plain": [
       "3393.75483538003"
      ]
     },
     "execution_count": 32,
     "metadata": {},
     "output_type": "execute_result"
    }
   ],
   "source": [
    "num_params = 5\n",
    "BIC = num_params * np.log(pop_size) - 2 * (-mle_model.fun) \n",
    "BIC"
   ]
  },
  {
   "cell_type": "markdown",
   "id": "3c6514e2",
   "metadata": {},
   "source": [
    "This is worse than the 2-segment exponential model."
   ]
  },
  {
   "cell_type": "markdown",
   "id": "f192b580",
   "metadata": {},
   "source": [
    "#### Infinite Segments - Weibull Gamma Model"
   ]
  },
  {
   "cell_type": "code",
   "execution_count": 38,
   "id": "e22f9200",
   "metadata": {},
   "outputs": [],
   "source": [
    "# we take the first 8 rows\n",
    "data = data_in.copy()\n",
    "data = data[0:8]\n",
    "\n",
    "def MLE_Weib_Gamma(params):\n",
    "\n",
    "    alpha = params[0]\n",
    "    r = params[1]\n",
    "    c = params[2]\n",
    "\n",
    "    # Find the probability of churning.\n",
    "    F_t = 1 - (alpha/(alpha + data.Year**c))**r\n",
    "    F_t_minus_1 = 1 - (alpha/(alpha + (data.Year - 1)**c))**r\n",
    "    Prob = F_t - F_t_minus_1\n",
    "\n",
    "    # Now find the probability of not churning. It is one minus the sum of all\n",
    "    # the prior probabilities of churning.\n",
    "    Prob_not_churn = 1 - np.sum(Prob[1:])\n",
    "\n",
    "    # Find the sum of log-likelihoods. Be sure to weight by the number of customers\n",
    "    # churning at each time point. Remember that time t=0 doesn't have a realistic\n",
    "    # value and should be ignored.\n",
    "    LL = np.sum(np.log(Prob[1:]) * data_in.lost[1:])\n",
    "\n",
    "    # Add in the log-likelihood for the people who hadn't churned by year 7.\n",
    "    LL += np.log(Prob_not_churn) * data_in.Customers[7]\n",
    "\n",
    "    return -LL"
   ]
  },
  {
   "cell_type": "markdown",
   "id": "2dd8114e",
   "metadata": {},
   "source": [
    "$\\alpha$, $r$, and $c$ must be greater than 0 but are otherwise unbounded."
   ]
  },
  {
   "cell_type": "code",
   "execution_count": 39,
   "id": "00d105d2",
   "metadata": {},
   "outputs": [
    {
     "name": "stdout",
     "output_type": "stream",
     "text": [
      "Optimization terminated successfully.\n",
      "         Current function value: 1679.603558\n",
      "         Iterations: 110\n",
      "         Function evaluations: 199\n"
     ]
    },
    {
     "data": {
      "text/plain": [
       " final_simplex: (array([[0.54409802, 0.44134042, 1.32432582],\n",
       "       [0.54418742, 0.44138093, 1.32425786],\n",
       "       [0.54414296, 0.44136274, 1.32427637],\n",
       "       [0.54412404, 0.44135738, 1.32430716]]), array([1679.60355827, 1679.60355828, 1679.60355828, 1679.60355832]))\n",
       "           fun: 1679.603558274835\n",
       "       message: 'Optimization terminated successfully.'\n",
       "          nfev: 199\n",
       "           nit: 110\n",
       "        status: 0\n",
       "       success: True\n",
       "             x: array([0.54409802, 0.44134042, 1.32432582])"
      ]
     },
     "execution_count": 39,
     "metadata": {},
     "output_type": "execute_result"
    }
   ],
   "source": [
    "bounds = [(0, 100), (0, 100), (0, 100)]\n",
    "x0 = [1, 1, 1]\n",
    "mle_model = minimize(MLE_Weib_Gamma, x0 = x0, method='Nelder-mead', bounds=bounds, options={'disp': True})\n",
    "mle_model"
   ]
  },
  {
   "cell_type": "code",
   "execution_count": 40,
   "id": "90d52ccc",
   "metadata": {},
   "outputs": [
    {
     "data": {
      "image/png": "[encoded data removed]",
      "text/plain": [
       "<Figure size 432x288 with 1 Axes>"
      ]
     },
     "metadata": {
      "needs_background": "light"
     },
     "output_type": "display_data"
    }
   ],
   "source": [
    "# Note that we use data_in because we want to study all 12 years.\n",
    "pop_size = data_in.Customers[0] # 1000 customers\n",
    "\n",
    "alpha = mle_model.x[0]\n",
    "r = mle_model.x[1]\n",
    "c = mle_model.x[2]\n",
    "\n",
    "# Find the probability of churning.\n",
    "F_t = 1 - (alpha/(alpha + data_in.Year**c))**r\n",
    "F_t_minus_1 = 1 - (alpha/(alpha + (data_in.Year - 1)**c))**r\n",
    "Prob = F_t - F_t_minus_1\n",
    "\n",
    "churn = Prob * pop_size\n",
    "\n",
    "pred_alive = [None] * 12\n",
    "pred_alive[0] = pop_size\n",
    "for i in range(1, 12):\n",
    "    pred_alive[i] = pred_alive[i-1] - churn[i]\n",
    "\n",
    "plt.plot(pred_alive, label='prediction')\n",
    "plt.plot(data_in.Customers[0:12], label='data')\n",
    "plt.legend()\n",
    "plt.title('Alive')\n",
    "plt.show()"
   ]
  },
  {
   "cell_type": "code",
   "execution_count": 41,
   "id": "bd3bed1b",
   "metadata": {},
   "outputs": [
    {
     "data": {
      "image/png": "[encoded data removed]",
      "text/plain": [
       "<Figure size 432x288 with 1 Axes>"
      ]
     },
     "metadata": {
      "needs_background": "light"
     },
     "output_type": "display_data"
    }
   ],
   "source": [
    "pred_haz = [None]*13\n",
    "for t in range(1, 13):\n",
    "    pred_haz[t] = churn[t]/pred_alive[t-1]\n",
    "\n",
    "emp_haz = [None]*13\n",
    "for t in range(1, 13):\n",
    "    emp_haz[t] = data_in.lost[t]/data_in.Customers[t-1]\n",
    "\n",
    "plt.plot(pred_haz, label='weibull')\n",
    "plt.plot(emp_haz, label='empirical')\n",
    "plt.title('hazard')\n",
    "plt.legend()\n",
    "plt.show()"
   ]
  },
  {
   "cell_type": "code",
   "execution_count": 42,
   "id": "885aae69",
   "metadata": {},
   "outputs": [
    {
     "data": {
      "text/plain": [
       "3379.930382386616"
      ]
     },
     "execution_count": 42,
     "metadata": {},
     "output_type": "execute_result"
    }
   ],
   "source": [
    "num_params = 3\n",
    "BIC = num_params * np.log(pop_size) - 2 * (-mle_model.fun) \n",
    "BIC"
   ]
  },
  {
   "cell_type": "markdown",
   "id": "9d30b166",
   "metadata": {},
   "source": [
    "This is worse than the exponential gamma model."
   ]
  }
 ],
 "metadata": {
  "kernelspec": {
   "display_name": "env_312",
   "language": "python",
   "name": "python3"
  },
  "language_info": {
   "codemirror_mode": {
    "name": "ipython",
    "version": 3
   },
   "file_extension": ".py",
   "mimetype": "text/x-python",
   "name": "python",
   "nbconvert_exporter": "python",
   "pygments_lexer": "ipython3",
   "version": "3.13.0"
  }
 },
 "nbformat": 4,
 "nbformat_minor": 5
}
