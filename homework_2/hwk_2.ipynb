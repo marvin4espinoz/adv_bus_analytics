{
 "cells": [
  {
   "cell_type": "markdown",
   "metadata": {},
   "source": [
    "## Homework 2 - Advanced Business Analytics\n",
    "\n"
   ]
  },
  {
   "cell_type": "code",
   "execution_count": 5,
   "metadata": {},
   "outputs": [],
   "source": [
    "import os\n",
    "import pandas as pd\n",
    "import numpy as np\n",
    "import statsmodels.api as sm\n",
    "from scipy.optimize import minimize\n",
    "from scipy.stats import norm\n",
    "import math\n",
    "import matplotlib.pyplot as plt\n",
    "from scipy import stats\n",
    "import scipy.special as sc\n",
    "from scipy.special import beta"
   ]
  },
  {
   "cell_type": "code",
   "execution_count": 6,
   "metadata": {},
   "outputs": [
    {
     "data": {
      "text/html": [
       "<div>\n",
       "<style scoped>\n",
       "    .dataframe tbody tr th:only-of-type {\n",
       "        vertical-align: middle;\n",
       "    }\n",
       "\n",
       "    .dataframe tbody tr th {\n",
       "        vertical-align: top;\n",
       "    }\n",
       "\n",
       "    .dataframe thead th {\n",
       "        text-align: right;\n",
       "    }\n",
       "</style>\n",
       "<table border=\"1\" class=\"dataframe\">\n",
       "  <thead>\n",
       "    <tr style=\"text-align: right;\">\n",
       "      <th></th>\n",
       "      <th>seq</th>\n",
       "      <th>id</th>\n",
       "      <th>survive</th>\n",
       "    </tr>\n",
       "  </thead>\n",
       "  <tbody>\n",
       "    <tr>\n",
       "      <th>0</th>\n",
       "      <td>1</td>\n",
       "      <td>1999_33</td>\n",
       "      <td>14</td>\n",
       "    </tr>\n",
       "    <tr>\n",
       "      <th>1</th>\n",
       "      <td>2</td>\n",
       "      <td>1996_122</td>\n",
       "      <td>19</td>\n",
       "    </tr>\n",
       "    <tr>\n",
       "      <th>2</th>\n",
       "      <td>3</td>\n",
       "      <td>1995_43</td>\n",
       "      <td>25+</td>\n",
       "    </tr>\n",
       "    <tr>\n",
       "      <th>3</th>\n",
       "      <td>4</td>\n",
       "      <td>1997_78</td>\n",
       "      <td>2</td>\n",
       "    </tr>\n",
       "    <tr>\n",
       "      <th>4</th>\n",
       "      <td>5</td>\n",
       "      <td>1997_199</td>\n",
       "      <td>3</td>\n",
       "    </tr>\n",
       "  </tbody>\n",
       "</table>\n",
       "</div>"
      ],
      "text/plain": [
       "   seq        id survive\n",
       "0    1   1999_33      14\n",
       "1    2  1996_122      19\n",
       "2    3   1995_43     25+\n",
       "3    4   1997_78       2\n",
       "4    5  1997_199       3"
      ]
     },
     "execution_count": 6,
     "metadata": {},
     "output_type": "execute_result"
    }
   ],
   "source": [
    "#Bring in data\n",
    "df = pd.read_excel('C:/Users/User/OneDrive/Desktop/github-repo-folder/adv_bus_analytics/homework_2/hw2_survive_data-2.xlsx')\n",
    "df.head()"
   ]
  },
  {
   "cell_type": "markdown",
   "metadata": {},
   "source": [
    "### Problem 1"
   ]
  },
  {
   "cell_type": "code",
   "execution_count": 7,
   "metadata": {},
   "outputs": [
    {
     "data": {
      "text/html": [
       "<div>\n",
       "<style scoped>\n",
       "    .dataframe tbody tr th:only-of-type {\n",
       "        vertical-align: middle;\n",
       "    }\n",
       "\n",
       "    .dataframe tbody tr th {\n",
       "        vertical-align: top;\n",
       "    }\n",
       "\n",
       "    .dataframe thead th {\n",
       "        text-align: right;\n",
       "    }\n",
       "</style>\n",
       "<table border=\"1\" class=\"dataframe\">\n",
       "  <thead>\n",
       "    <tr style=\"text-align: right;\">\n",
       "      <th></th>\n",
       "      <th>seq</th>\n",
       "      <th>lost</th>\n",
       "      <th>week</th>\n",
       "    </tr>\n",
       "  </thead>\n",
       "  <tbody>\n",
       "    <tr>\n",
       "      <th>0</th>\n",
       "      <td>1</td>\n",
       "      <td>1999_33</td>\n",
       "      <td>14</td>\n",
       "    </tr>\n",
       "    <tr>\n",
       "      <th>1</th>\n",
       "      <td>2</td>\n",
       "      <td>1996_122</td>\n",
       "      <td>19</td>\n",
       "    </tr>\n",
       "    <tr>\n",
       "      <th>2</th>\n",
       "      <td>3</td>\n",
       "      <td>1995_43</td>\n",
       "      <td>25</td>\n",
       "    </tr>\n",
       "    <tr>\n",
       "      <th>3</th>\n",
       "      <td>4</td>\n",
       "      <td>1997_78</td>\n",
       "      <td>2</td>\n",
       "    </tr>\n",
       "    <tr>\n",
       "      <th>4</th>\n",
       "      <td>5</td>\n",
       "      <td>1997_199</td>\n",
       "      <td>3</td>\n",
       "    </tr>\n",
       "  </tbody>\n",
       "</table>\n",
       "</div>"
      ],
      "text/plain": [
       "   seq      lost  week\n",
       "0    1   1999_33    14\n",
       "1    2  1996_122    19\n",
       "2    3   1995_43    25\n",
       "3    4   1997_78     2\n",
       "4    5  1997_199     3"
      ]
     },
     "execution_count": 7,
     "metadata": {},
     "output_type": "execute_result"
    }
   ],
   "source": [
    "#convert survive column into numeric\n",
    "# First, clean the survive column by replacing \"25+\" with \"25\"\n",
    "df['survive'] = df['survive'].replace('25+', '25')\n",
    "\n",
    "# Then convert to numeric\n",
    "df['survive'] = pd.to_numeric(df['survive'])\n",
    "\n",
    "#change names of columns\n",
    "df = df.rename(columns = {\n",
    "                            'survive': 'week',\n",
    "                            'id' : 'lost'\n",
    "                            })\n",
    "\n",
    "df.head()"
   ]
  },
  {
   "cell_type": "code",
   "execution_count": 8,
   "metadata": {},
   "outputs": [
    {
     "name": "stdout",
     "output_type": "stream",
     "text": [
      "       seq      lost  week\n",
      "1734  1735   2002_36    15\n",
      "1735  1736  1999_227     9\n",
      "1736  1737   1997_45    25\n",
      "1737  1738   1995_15     3\n",
      "1738  1739   1999_17     1\n",
      "...    ...       ...   ...\n",
      "2029  2030   1998_51     6\n",
      "2030  2031  1999_211     1\n",
      "2031  2032  2001_124    20\n",
      "2032  2033   1999_23     6\n",
      "2033  2034  2002_230    25\n",
      "\n",
      "[300 rows x 3 columns]\n"
     ]
    }
   ],
   "source": [
    "#split data into training and testing dataset\n",
    "\n",
    "#training set:\n",
    "train = df[df['seq'] <= 1734]\n",
    "test = df[df['seq'] > 1734]\n",
    "\n",
    "print(test)"
   ]
  },
  {
   "cell_type": "code",
   "execution_count": 9,
   "metadata": {},
   "outputs": [
    {
     "name": "stdout",
     "output_type": "stream",
     "text": [
      "    week   lost  remaining\n",
      "0      0    NaN     1734.0\n",
      "1      1  325.0     1409.0\n",
      "2      2  177.0     1232.0\n",
      "3      3  131.0     1101.0\n",
      "4      4  113.0      988.0\n",
      "5      5   83.0      905.0\n",
      "6      6   72.0      833.0\n",
      "7      7   68.0      765.0\n",
      "8      8   58.0      707.0\n",
      "9      9   49.0      658.0\n",
      "10    10   51.0      607.0\n",
      "11    11   40.0      567.0\n",
      "12    12   40.0      527.0\n",
      "13    13   39.0      488.0\n",
      "14    14   31.0      457.0\n",
      "15    15   28.0      429.0\n",
      "16    16   36.0      393.0\n",
      "17    17   25.0      368.0\n",
      "18    18   24.0      344.0\n",
      "19    19   19.0      325.0\n",
      "20    20   17.0      308.0\n",
      "21    21   19.0      289.0\n",
      "22    22   19.0      270.0\n",
      "23    23   15.0      255.0\n",
      "24    24   15.0      240.0\n",
      "25    25  240.0        0.0\n"
     ]
    }
   ],
   "source": [
    "#aggregate datasets by column, 'week' values\n",
    "\n",
    "#testing dataset\n",
    "train_agg = train.groupby('week').agg({'lost': 'count'})\n",
    "train_agg = train_agg.reset_index()\n",
    "\n",
    "# Create new row\n",
    "new_row = pd.DataFrame({'week': [0], 'lost': [np.nan]})\n",
    "\n",
    "# Concatenate with existing df, reset the index\n",
    "train_agg = pd.concat([new_row, train_agg]).reset_index(drop=True)\n",
    "\n",
    "# Create a new column with remaining records\n",
    "train_agg['remaining'] = train_agg['lost'].sum() - train_agg['lost'].cumsum()\n",
    "\n",
    "#add the specific value at begining\n",
    "#train_agg['lost'][0] = train_agg['lost'].sum()\n",
    "train_agg.loc[0, \"remaining\"] = train_agg['lost'].sum()\n",
    "\n",
    "print(train_agg)\n",
    "\n",
    "t = train_agg['week']\n",
    "lost = train_agg['lost']"
   ]
  },
  {
   "cell_type": "markdown",
   "metadata": {},
   "source": [
    "#### Problem 1 - Part a - DELIVERABLE:\n",
    "The number of albums dropped from top 100 at:\n",
    "\n",
    "End of Week 1: 325\n",
    "\n",
    "End of Week 2: 177\n",
    "\n",
    "End of Week 3: 131"
   ]
  },
  {
   "cell_type": "code",
   "execution_count": 71,
   "metadata": {},
   "outputs": [
    {
     "name": "stdout",
     "output_type": "stream",
     "text": [
      "    week  lost  remaining\n",
      "0      0   NaN      300.0\n",
      "1      1  53.0      247.0\n",
      "2      2  34.0      213.0\n",
      "3      3  19.0      194.0\n",
      "4      4  15.0      179.0\n",
      "5      5  18.0      161.0\n",
      "6      6  11.0      150.0\n",
      "7      7  10.0      140.0\n",
      "8      8   9.0      131.0\n",
      "9      9  10.0      121.0\n",
      "10    10   5.0      116.0\n",
      "11    11  13.0      103.0\n",
      "12    12   5.0       98.0\n",
      "13    13   4.0       94.0\n",
      "14    14   5.0       89.0\n",
      "15    15   7.0       82.0\n",
      "16    16   1.0       81.0\n",
      "17    17   8.0       73.0\n",
      "18    18   3.0       70.0\n",
      "19    19   5.0       65.0\n",
      "20    20   5.0       60.0\n",
      "21    21   7.0       53.0\n",
      "22    22   4.0       49.0\n",
      "23    23   2.0       47.0\n",
      "24    24   2.0       45.0\n",
      "25    25  45.0        0.0\n"
     ]
    }
   ],
   "source": [
    "#aggregate datasets by column, 'week' values\n",
    "\n",
    "#testing dataset\n",
    "test_agg = test.groupby('week').agg({'lost': 'count'})\n",
    "\n",
    "test_agg = test_agg.reset_index()\n",
    "\n",
    "# Create new row\n",
    "new_row = pd.DataFrame({'week': [0], 'lost': [np.nan]})\n",
    "\n",
    "# Concatenate with existing df, reset the index\n",
    "test_agg = pd.concat([new_row, test_agg]).reset_index(drop=True)\n",
    "\n",
    "# Create a new column with remaining records\n",
    "test_agg['remaining'] = test_agg['lost'].sum() - test_agg['lost'].cumsum()\n",
    "\n",
    "#add the specific value at begining\n",
    "#train_agg['lost'][0] = train_agg['lost'].sum()\n",
    "test_agg.loc[0, \"remaining\"] = test_agg['lost'].sum()\n",
    "\n",
    "print(test_agg)\n"
   ]
  },
  {
   "cell_type": "code",
   "execution_count": 11,
   "metadata": {},
   "outputs": [],
   "source": [
    "#define the function for a geometric distribution with infinite heterogeneity\n",
    "\n",
    "def mle_geometric_beta(params):\n",
    "    a = params[0]\n",
    "    b = params[1]\n",
    "\n",
    "    #define the BETA FUNCTION\n",
    "    #define starting lists\n",
    "    L = [None]*25     #place holder for the log(probabilities)\n",
    "    Prob = [None]*25\n",
    "    t = train_agg['week']\n",
    "    lost = train_agg['lost']\n",
    "\n",
    "    # Get total initial population (sum of all lost values)\n",
    "    N0 = lost.sum()\n",
    "\n",
    "    for i in range(0, 25):\n",
    "        if i < 24:\n",
    "            # Calculate the Probability that you churn at t: P(t) using beta function\n",
    "            Prob[i] = beta(a + 1, b + t[i+1] - 1) / beta(a, b)\n",
    "            L[i] = np.log(Prob[i])*lost[i+1]\n",
    "        else:\n",
    "            Prob_surv = 1 - sum(Prob[0:24])\n",
    "            L[i] = np.log(Prob_surv)*train_agg['remaining'][i]\n",
    "    \n",
    "    LL = -sum(L)\n",
    "    return LL"
   ]
  },
  {
   "cell_type": "code",
   "execution_count": 12,
   "metadata": {},
   "outputs": [
    {
     "name": "stdout",
     "output_type": "stream",
     "text": [
      "Optimization terminated successfully.\n",
      "         Current function value: 4863.519009\n",
      "         Iterations: 56\n",
      "         Function evaluations: 107\n"
     ]
    },
    {
     "data": {
      "text/plain": [
       "       message: Optimization terminated successfully.\n",
       "       success: True\n",
       "        status: 0\n",
       "           fun: 4863.519009316078\n",
       "             x: [ 1.333e+00  7.379e+00]\n",
       "           nit: 56\n",
       "          nfev: 107\n",
       " final_simplex: (array([[ 1.333e+00,  7.379e+00],\n",
       "                       [ 1.333e+00,  7.380e+00],\n",
       "                       [ 1.333e+00,  7.379e+00]]), array([ 4.864e+03,  4.864e+03,  4.864e+03]))"
      ]
     },
     "execution_count": 12,
     "metadata": {},
     "output_type": "execute_result"
    }
   ],
   "source": [
    "#now we need to estimate parameters a and b by minimizing the negative of the summed up log probabilities\n",
    "starting_values = [1, 1]    #starting values for a and b\n",
    "bounds = [(0,100), (0,100)]\n",
    "mle_model = minimize(mle_geometric_beta,\n",
    "                     x0 = starting_values,\n",
    "                     method = 'Nelder-mead',\n",
    "                     options = {'disp': True},\n",
    "                     bounds = bounds)\n",
    "mle_model"
   ]
  },
  {
   "cell_type": "markdown",
   "metadata": {},
   "source": [
    "##### Problem 1.2.a - Report the coefficients\n",
    "\n",
    "alpha = 1.33\n",
    "\n",
    "beta = 7.38"
   ]
  },
  {
   "cell_type": "markdown",
   "metadata": {},
   "source": [
    "##### Problem 1.2.b - Testing Set Predicted Remaining vs Actual Remaining"
   ]
  },
  {
   "cell_type": "code",
   "execution_count": 13,
   "metadata": {},
   "outputs": [],
   "source": [
    "# extracting parameters to make predictions\n",
    "alpha = mle_model.x[0]\n",
    "betaa = mle_model.x[1]\n",
    "\n",
    "Prob1 = [None]*25\n",
    "\n",
    "for i in range(0, 25):\n",
    "    if i < 25:\n",
    "        #calculating the probability of churn at end of time period i, given there would be a churn\n",
    "        Prob1[i] = beta(alpha + 1, betaa + test_agg['week'][i+1] - 1) / beta(alpha, betaa)\n",
    "    else:\n",
    "        #calculate: probablity of churning at time i given that you stayed until time i\n",
    "        Prob_surv = 1 - sum(Prob1[0:25])\n",
    "        Prob1[i] = Prob_surv\n",
    "\n",
    "pred_alive = [None]*25\n",
    "pred_alive[0] = 300\n",
    "\n",
    "for i in range(1, 25):\n",
    "    pred_alive[i] = pred_alive[i-1] - Prob1[i-1]*300"
   ]
  },
  {
   "cell_type": "code",
   "execution_count": 14,
   "metadata": {},
   "outputs": [
    {
     "data": {
      "image/png": "[encoded data removed]",
      "text/plain": [
       "<Figure size 640x480 with 1 Axes>"
      ]
     },
     "metadata": {},
     "output_type": "display_data"
    }
   ],
   "source": [
    "#Actual Dropped Albums\n",
    "plt.plot(test_agg['week'][0:25], #x-axis\n",
    "         test_agg['remaining'][0:25], #y-axis\n",
    "         color='red', \n",
    "         label='data')\n",
    "\n",
    "#Predicted Dropped Albums\n",
    "plt.plot(test_agg['week'][0:25], #x-axis \n",
    "         pred_alive, #y-axis \n",
    "         '--',  color='blue', \n",
    "         label='prediction')\n",
    "\n",
    "plt.legend()\n",
    "plt.show()\n"
   ]
  },
  {
   "cell_type": "markdown",
   "metadata": {},
   "source": [
    "#### Problem 1.3 - Exponential Model with 2 Segments on Training Set"
   ]
  },
  {
   "cell_type": "code",
   "execution_count": 15,
   "metadata": {},
   "outputs": [
    {
     "name": "stdout",
     "output_type": "stream",
     "text": [
      "    week   lost  remaining\n",
      "0      0    NaN     1734.0\n",
      "1      1  325.0     1409.0\n",
      "2      2  177.0     1232.0\n",
      "3      3  131.0     1101.0\n",
      "4      4  113.0      988.0\n",
      "5      5   83.0      905.0\n",
      "6      6   72.0      833.0\n",
      "7      7   68.0      765.0\n",
      "8      8   58.0      707.0\n",
      "9      9   49.0      658.0\n",
      "10    10   51.0      607.0\n",
      "11    11   40.0      567.0\n",
      "12    12   40.0      527.0\n",
      "13    13   39.0      488.0\n",
      "14    14   31.0      457.0\n",
      "15    15   28.0      429.0\n",
      "16    16   36.0      393.0\n",
      "17    17   25.0      368.0\n",
      "18    18   24.0      344.0\n",
      "19    19   19.0      325.0\n",
      "20    20   17.0      308.0\n",
      "21    21   19.0      289.0\n",
      "22    22   19.0      270.0\n",
      "23    23   15.0      255.0\n",
      "24    24   15.0      240.0\n",
      "25    25  240.0        0.0\n"
     ]
    }
   ],
   "source": [
    "print(train_agg)"
   ]
  },
  {
   "cell_type": "code",
   "execution_count": null,
   "metadata": {},
   "outputs": [],
   "source": [
    "# we take the first 24 rows\n",
    "data = train_agg.copy()\n",
    "data = data[0:24]\n",
    "\n",
    "def MLE_Exp2Seg(params):\n",
    "    lamda1 = params[0]\n",
    "    lamda2 = params[1]\n",
    "    p = params[2]\n",
    "\n",
    "    # Find the probability of churning if the customer is from group 1 and if they\n",
    "    # are from group 2.\n",
    "    Prob1 = (1 - np.exp(-lamda1 * data.week)) - (1 - np.exp(-lamda1 * (data.week - 1)))\n",
    "    Prob2 = (1 - np.exp(-lamda2 * data.week)) - (1 - np.exp(-lamda2 * (data.week - 1)))\n",
    "\n",
    "    # Use the law of total probability.\n",
    "    Prob = p * Prob1 + (1-p) * Prob2\n",
    "\n",
    "    # Now find the probability of not churning. It is one minus the sum of all\n",
    "    # the prior probabilities of churning because 1 - F(t) = 1 - cumulative probability of failure before t\n",
    "    Prob_not_churn_1 = 1 - np.sum(Prob1[1:])\n",
    "    Prob_not_churn_2 = 1 - np.sum(Prob2[1:])\n",
    "    \n",
    "    # Use the law of total probability.\n",
    "    Prob_not_churn = p * Prob_not_churn_1 + (1-p) * Prob_not_churn_2\n",
    "\n",
    "    # Find the sum of log-likelihoods. Be sure to weight by the number of customers\n",
    "    # churning at each time point. Remember that time t=0 doesn't have a realistic\n",
    "    # value and should be ignored.\n",
    "    LL = np.sum(np.log(Prob[1:]) * data.lost[1:])\n",
    "\n",
    "    # Add in the log-likelihood for the people who hadn't churned by week 24.\n",
    "    LL += np.log(Prob_not_churn) * train_agg.remaining[24]\n",
    "\n",
    "    return -LL"
   ]
  },
  {
   "cell_type": "code",
   "execution_count": 33,
   "metadata": {},
   "outputs": [
    {
     "name": "stdout",
     "output_type": "stream",
     "text": [
      "Optimization terminated successfully.\n",
      "         Current function value: 4758.748600\n",
      "         Iterations: 95\n",
      "         Function evaluations: 179\n"
     ]
    },
    {
     "data": {
      "text/plain": [
       "       message: Optimization terminated successfully.\n",
       "       success: True\n",
       "        status: 0\n",
       "           fun: 4758.748599632631\n",
       "             x: [ 7.376e-02  6.774e-01  7.369e-01]\n",
       "           nit: 95\n",
       "          nfev: 179\n",
       " final_simplex: (array([[ 7.376e-02,  6.774e-01,  7.369e-01],\n",
       "                       [ 7.377e-02,  6.775e-01,  7.370e-01],\n",
       "                       [ 7.377e-02,  6.774e-01,  7.369e-01],\n",
       "                       [ 7.376e-02,  6.774e-01,  7.370e-01]]), array([ 4.759e+03,  4.759e+03,  4.759e+03,  4.759e+03]))"
      ]
     },
     "execution_count": 33,
     "metadata": {},
     "output_type": "execute_result"
    }
   ],
   "source": [
    "bounds = [(0, 100), (0, 100), (0.001, 0.99)]\n",
    "x0 = [0.2, 0.4, 0.5]\n",
    "mle_model = minimize(MLE_Exp2Seg, x0 = x0, method='Nelder-mead', bounds=bounds, options={'disp': True})\n",
    "mle_model"
   ]
  },
  {
   "cell_type": "markdown",
   "metadata": {},
   "source": [
    "#### Problem 1.3.a - Report Coefficients\n",
    "\n",
    "Coefficients:\n",
    "\n",
    "lamda1 = 0.074\n",
    "\n",
    "lamda2 = 0.677\n",
    "\n",
    "p = 0.737\n"
   ]
  },
  {
   "cell_type": "code",
   "execution_count": 72,
   "metadata": {},
   "outputs": [
    {
     "data": {
      "image/png": "[encoded data removed]",
      "text/plain": [
       "<Figure size 640x480 with 1 Axes>"
      ]
     },
     "metadata": {},
     "output_type": "display_data"
    }
   ],
   "source": [
    "#compare observed hazard with predicted hazard by using estimated parameters with the TESTING dataset\n",
    "\n",
    "# Note that we use data_in because we want to study all 12 years.\n",
    "\n",
    "lamda1, lamda2, p = mle_model.x\n",
    "pop_size = test_agg.remaining[0] # 300 albums was starting population (estimated)\n",
    "\n",
    "# Estimate how many churns at time t by taking (CDF(t+1) - CDF(t)) * N\n",
    "Prob1 = (1 - np.exp(-lamda1 * test_agg.week)) - (1 - np.exp(-lamda1 * (test_agg.week - 1)))\n",
    "Prob2 = (1 - np.exp(-lamda2 * test_agg.week)) - (1 - np.exp(-lamda2 * (test_agg.week - 1)))\n",
    "\n",
    "# Use the law of total probability.\n",
    "Prob = p * Prob1 + (1-p) * Prob2\n",
    "\n",
    "churn = Prob * pop_size\n",
    "pred_alive = [None] * 25\n",
    "pred_alive[0] = pop_size\n",
    "\n",
    "for i in range(1, 25):\n",
    "    pred_alive[i] = pred_alive[i-1] - churn[i]\n",
    "\n",
    "plt.plot(pred_alive, label='prediction')\n",
    "plt.plot(test_agg.remaining[0:25], label='data')\n",
    "plt.legend()\n",
    "plt.title('Alive')\n",
    "plt.show()"
   ]
  },
  {
   "cell_type": "markdown",
   "metadata": {},
   "source": [
    "#### Problem 1.3.b - DELIVERABLE - Predicted vs Actual Hazard"
   ]
  },
  {
   "cell_type": "code",
   "execution_count": 76,
   "metadata": {},
   "outputs": [
    {
     "data": {
      "image/png": "[encoded data removed]",
      "text/plain": [
       "<Figure size 640x480 with 1 Axes>"
      ]
     },
     "metadata": {},
     "output_type": "display_data"
    },
    {
     "data": {
      "text/html": [
       "<div>\n",
       "<style scoped>\n",
       "    .dataframe tbody tr th:only-of-type {\n",
       "        vertical-align: middle;\n",
       "    }\n",
       "\n",
       "    .dataframe tbody tr th {\n",
       "        vertical-align: top;\n",
       "    }\n",
       "\n",
       "    .dataframe thead th {\n",
       "        text-align: right;\n",
       "    }\n",
       "</style>\n",
       "<table border=\"1\" class=\"dataframe\">\n",
       "  <thead>\n",
       "    <tr style=\"text-align: right;\">\n",
       "      <th></th>\n",
       "      <th>week</th>\n",
       "      <th>lost</th>\n",
       "      <th>remaining</th>\n",
       "      <th>churn</th>\n",
       "      <th>emp_hazard</th>\n",
       "      <th>pred_hazard</th>\n",
       "    </tr>\n",
       "  </thead>\n",
       "  <tbody>\n",
       "    <tr>\n",
       "      <th>0</th>\n",
       "      <td>0</td>\n",
       "      <td>NaN</td>\n",
       "      <td>300.0</td>\n",
       "      <td>NaN</td>\n",
       "      <td>None</td>\n",
       "      <td>None</td>\n",
       "    </tr>\n",
       "    <tr>\n",
       "      <th>1</th>\n",
       "      <td>1</td>\n",
       "      <td>53.0</td>\n",
       "      <td>247.0</td>\n",
       "      <td>54.553635</td>\n",
       "      <td>0.176667</td>\n",
       "      <td>0.181845</td>\n",
       "    </tr>\n",
       "    <tr>\n",
       "      <th>2</th>\n",
       "      <td>2</td>\n",
       "      <td>34.0</td>\n",
       "      <td>213.0</td>\n",
       "      <td>34.326906</td>\n",
       "      <td>0.137652</td>\n",
       "      <td>0.139855</td>\n",
       "    </tr>\n",
       "    <tr>\n",
       "      <th>3</th>\n",
       "      <td>3</td>\n",
       "      <td>19.0</td>\n",
       "      <td>194.0</td>\n",
       "      <td>23.582671</td>\n",
       "      <td>0.089202</td>\n",
       "      <td>0.111703</td>\n",
       "    </tr>\n",
       "    <tr>\n",
       "      <th>4</th>\n",
       "      <td>4</td>\n",
       "      <td>15.0</td>\n",
       "      <td>179.0</td>\n",
       "      <td>17.688300</td>\n",
       "      <td>0.07732</td>\n",
       "      <td>0.094319</td>\n",
       "    </tr>\n",
       "    <tr>\n",
       "      <th>5</th>\n",
       "      <td>5</td>\n",
       "      <td>18.0</td>\n",
       "      <td>161.0</td>\n",
       "      <td>14.288379</td>\n",
       "      <td>0.100559</td>\n",
       "      <td>0.084124</td>\n",
       "    </tr>\n",
       "    <tr>\n",
       "      <th>6</th>\n",
       "      <td>6</td>\n",
       "      <td>11.0</td>\n",
       "      <td>150.0</td>\n",
       "      <td>12.184324</td>\n",
       "      <td>0.068323</td>\n",
       "      <td>0.078326</td>\n",
       "    </tr>\n",
       "    <tr>\n",
       "      <th>7</th>\n",
       "      <td>7</td>\n",
       "      <td>10.0</td>\n",
       "      <td>140.0</td>\n",
       "      <td>10.765291</td>\n",
       "      <td>0.066667</td>\n",
       "      <td>0.075084</td>\n",
       "    </tr>\n",
       "    <tr>\n",
       "      <th>8</th>\n",
       "      <td>8</td>\n",
       "      <td>9.0</td>\n",
       "      <td>131.0</td>\n",
       "      <td>9.719108</td>\n",
       "      <td>0.064286</td>\n",
       "      <td>0.073291</td>\n",
       "    </tr>\n",
       "    <tr>\n",
       "      <th>9</th>\n",
       "      <td>9</td>\n",
       "      <td>10.0</td>\n",
       "      <td>121.0</td>\n",
       "      <td>8.885445</td>\n",
       "      <td>0.076336</td>\n",
       "      <td>0.072303</td>\n",
       "    </tr>\n",
       "    <tr>\n",
       "      <th>10</th>\n",
       "      <td>10</td>\n",
       "      <td>5.0</td>\n",
       "      <td>116.0</td>\n",
       "      <td>8.181220</td>\n",
       "      <td>0.041322</td>\n",
       "      <td>0.071761</td>\n",
       "    </tr>\n",
       "    <tr>\n",
       "      <th>11</th>\n",
       "      <td>11</td>\n",
       "      <td>13.0</td>\n",
       "      <td>103.0</td>\n",
       "      <td>7.562705</td>\n",
       "      <td>0.112069</td>\n",
       "      <td>0.071464</td>\n",
       "    </tr>\n",
       "    <tr>\n",
       "      <th>12</th>\n",
       "      <td>12</td>\n",
       "      <td>5.0</td>\n",
       "      <td>98.0</td>\n",
       "      <td>7.006270</td>\n",
       "      <td>0.048544</td>\n",
       "      <td>0.071302</td>\n",
       "    </tr>\n",
       "    <tr>\n",
       "      <th>13</th>\n",
       "      <td>13</td>\n",
       "      <td>4.0</td>\n",
       "      <td>94.0</td>\n",
       "      <td>6.498595</td>\n",
       "      <td>0.040816</td>\n",
       "      <td>0.071213</td>\n",
       "    </tr>\n",
       "    <tr>\n",
       "      <th>14</th>\n",
       "      <td>14</td>\n",
       "      <td>5.0</td>\n",
       "      <td>89.0</td>\n",
       "      <td>6.031688</td>\n",
       "      <td>0.053191</td>\n",
       "      <td>0.071164</td>\n",
       "    </tr>\n",
       "    <tr>\n",
       "      <th>15</th>\n",
       "      <td>15</td>\n",
       "      <td>7.0</td>\n",
       "      <td>82.0</td>\n",
       "      <td>5.600353</td>\n",
       "      <td>0.078652</td>\n",
       "      <td>0.071138</td>\n",
       "    </tr>\n",
       "    <tr>\n",
       "      <th>16</th>\n",
       "      <td>16</td>\n",
       "      <td>1.0</td>\n",
       "      <td>81.0</td>\n",
       "      <td>5.200892</td>\n",
       "      <td>0.012195</td>\n",
       "      <td>0.071123</td>\n",
       "    </tr>\n",
       "    <tr>\n",
       "      <th>17</th>\n",
       "      <td>17</td>\n",
       "      <td>8.0</td>\n",
       "      <td>73.0</td>\n",
       "      <td>4.830448</td>\n",
       "      <td>0.098765</td>\n",
       "      <td>0.071115</td>\n",
       "    </tr>\n",
       "    <tr>\n",
       "      <th>18</th>\n",
       "      <td>18</td>\n",
       "      <td>3.0</td>\n",
       "      <td>70.0</td>\n",
       "      <td>4.486655</td>\n",
       "      <td>0.041096</td>\n",
       "      <td>0.071111</td>\n",
       "    </tr>\n",
       "    <tr>\n",
       "      <th>19</th>\n",
       "      <td>19</td>\n",
       "      <td>5.0</td>\n",
       "      <td>65.0</td>\n",
       "      <td>4.167465</td>\n",
       "      <td>0.071429</td>\n",
       "      <td>0.071109</td>\n",
       "    </tr>\n",
       "    <tr>\n",
       "      <th>20</th>\n",
       "      <td>20</td>\n",
       "      <td>5.0</td>\n",
       "      <td>60.0</td>\n",
       "      <td>3.871052</td>\n",
       "      <td>0.076923</td>\n",
       "      <td>0.071107</td>\n",
       "    </tr>\n",
       "    <tr>\n",
       "      <th>21</th>\n",
       "      <td>21</td>\n",
       "      <td>7.0</td>\n",
       "      <td>53.0</td>\n",
       "      <td>3.595757</td>\n",
       "      <td>0.116667</td>\n",
       "      <td>0.071107</td>\n",
       "    </tr>\n",
       "    <tr>\n",
       "      <th>22</th>\n",
       "      <td>22</td>\n",
       "      <td>4.0</td>\n",
       "      <td>49.0</td>\n",
       "      <td>3.340057</td>\n",
       "      <td>0.075472</td>\n",
       "      <td>0.071106</td>\n",
       "    </tr>\n",
       "    <tr>\n",
       "      <th>23</th>\n",
       "      <td>23</td>\n",
       "      <td>2.0</td>\n",
       "      <td>47.0</td>\n",
       "      <td>3.102549</td>\n",
       "      <td>0.040816</td>\n",
       "      <td>0.071106</td>\n",
       "    </tr>\n",
       "    <tr>\n",
       "      <th>24</th>\n",
       "      <td>24</td>\n",
       "      <td>2.0</td>\n",
       "      <td>45.0</td>\n",
       "      <td>2.881935</td>\n",
       "      <td>0.042553</td>\n",
       "      <td>0.071106</td>\n",
       "    </tr>\n",
       "    <tr>\n",
       "      <th>25</th>\n",
       "      <td>25</td>\n",
       "      <td>45.0</td>\n",
       "      <td>0.0</td>\n",
       "      <td>2.677010</td>\n",
       "      <td>NaN</td>\n",
       "      <td>NaN</td>\n",
       "    </tr>\n",
       "  </tbody>\n",
       "</table>\n",
       "</div>"
      ],
      "text/plain": [
       "    week  lost  remaining      churn emp_hazard pred_hazard\n",
       "0      0   NaN      300.0        NaN       None        None\n",
       "1      1  53.0      247.0  54.553635   0.176667    0.181845\n",
       "2      2  34.0      213.0  34.326906   0.137652    0.139855\n",
       "3      3  19.0      194.0  23.582671   0.089202    0.111703\n",
       "4      4  15.0      179.0  17.688300    0.07732    0.094319\n",
       "5      5  18.0      161.0  14.288379   0.100559    0.084124\n",
       "6      6  11.0      150.0  12.184324   0.068323    0.078326\n",
       "7      7  10.0      140.0  10.765291   0.066667    0.075084\n",
       "8      8   9.0      131.0   9.719108   0.064286    0.073291\n",
       "9      9  10.0      121.0   8.885445   0.076336    0.072303\n",
       "10    10   5.0      116.0   8.181220   0.041322    0.071761\n",
       "11    11  13.0      103.0   7.562705   0.112069    0.071464\n",
       "12    12   5.0       98.0   7.006270   0.048544    0.071302\n",
       "13    13   4.0       94.0   6.498595   0.040816    0.071213\n",
       "14    14   5.0       89.0   6.031688   0.053191    0.071164\n",
       "15    15   7.0       82.0   5.600353   0.078652    0.071138\n",
       "16    16   1.0       81.0   5.200892   0.012195    0.071123\n",
       "17    17   8.0       73.0   4.830448   0.098765    0.071115\n",
       "18    18   3.0       70.0   4.486655   0.041096    0.071111\n",
       "19    19   5.0       65.0   4.167465   0.071429    0.071109\n",
       "20    20   5.0       60.0   3.871052   0.076923    0.071107\n",
       "21    21   7.0       53.0   3.595757   0.116667    0.071107\n",
       "22    22   4.0       49.0   3.340057   0.075472    0.071106\n",
       "23    23   2.0       47.0   3.102549   0.040816    0.071106\n",
       "24    24   2.0       45.0   2.881935   0.042553    0.071106\n",
       "25    25  45.0        0.0   2.677010        NaN         NaN"
      ]
     },
     "execution_count": 76,
     "metadata": {},
     "output_type": "execute_result"
    }
   ],
   "source": [
    "# compare actual hazard with predicted hazard using TEST dastaset\n",
    "\n",
    "pred_haz = [None]*25\n",
    "for t in range(1, 25):\n",
    "    pred_haz[t] = churn[t]/pred_alive[t-1]\n",
    "\n",
    "emp_haz = [None]*25\n",
    "for t in range(1, 25):\n",
    "    emp_haz[t] = test_agg.lost[t]/test_agg.remaining[t-1]\n",
    "\n",
    "plt.plot(pred_haz, label='exponential')\n",
    "plt.plot(emp_haz, label='empirical')\n",
    "plt.title('hazard')\n",
    "plt.legend()\n",
    "plt.show()\n",
    "\n",
    "#add columns for visual check\n",
    "test_agg.loc[1:25, 'churn'] = churn[1:26]\n",
    "test_agg.loc[0:24, 'emp_hazard'] = emp_haz\n",
    "test_agg.loc[0:24, 'pred_hazard'] = pred_haz\n",
    "\n",
    "test_agg"
   ]
  },
  {
   "cell_type": "markdown",
   "metadata": {},
   "source": [
    "#### Problem 1.4 - Weibull-Gamma Model"
   ]
  },
  {
   "cell_type": "code",
   "execution_count": 78,
   "metadata": {},
   "outputs": [
    {
     "data": {
      "text/html": [
       "<div>\n",
       "<style scoped>\n",
       "    .dataframe tbody tr th:only-of-type {\n",
       "        vertical-align: middle;\n",
       "    }\n",
       "\n",
       "    .dataframe tbody tr th {\n",
       "        vertical-align: top;\n",
       "    }\n",
       "\n",
       "    .dataframe thead th {\n",
       "        text-align: right;\n",
       "    }\n",
       "</style>\n",
       "<table border=\"1\" class=\"dataframe\">\n",
       "  <thead>\n",
       "    <tr style=\"text-align: right;\">\n",
       "      <th></th>\n",
       "      <th>week</th>\n",
       "      <th>lost</th>\n",
       "      <th>remaining</th>\n",
       "    </tr>\n",
       "  </thead>\n",
       "  <tbody>\n",
       "    <tr>\n",
       "      <th>0</th>\n",
       "      <td>0</td>\n",
       "      <td>NaN</td>\n",
       "      <td>1734.0</td>\n",
       "    </tr>\n",
       "    <tr>\n",
       "      <th>1</th>\n",
       "      <td>1</td>\n",
       "      <td>325.0</td>\n",
       "      <td>1409.0</td>\n",
       "    </tr>\n",
       "    <tr>\n",
       "      <th>2</th>\n",
       "      <td>2</td>\n",
       "      <td>177.0</td>\n",
       "      <td>1232.0</td>\n",
       "    </tr>\n",
       "    <tr>\n",
       "      <th>3</th>\n",
       "      <td>3</td>\n",
       "      <td>131.0</td>\n",
       "      <td>1101.0</td>\n",
       "    </tr>\n",
       "    <tr>\n",
       "      <th>4</th>\n",
       "      <td>4</td>\n",
       "      <td>113.0</td>\n",
       "      <td>988.0</td>\n",
       "    </tr>\n",
       "  </tbody>\n",
       "</table>\n",
       "</div>"
      ],
      "text/plain": [
       "   week   lost  remaining\n",
       "0     0    NaN     1734.0\n",
       "1     1  325.0     1409.0\n",
       "2     2  177.0     1232.0\n",
       "3     3  131.0     1101.0\n",
       "4     4  113.0      988.0"
      ]
     },
     "execution_count": 78,
     "metadata": {},
     "output_type": "execute_result"
    }
   ],
   "source": [
    "train_agg.head()"
   ]
  },
  {
   "cell_type": "code",
   "execution_count": 79,
   "metadata": {},
   "outputs": [],
   "source": [
    "# we take the first 24 rows\n",
    "data1 = train_agg.copy()\n",
    "data1 = data[0:24]\n",
    "\n",
    "def MLE_Weib_Gamma(params):\n",
    "\n",
    "    alpha = params[0]\n",
    "    r = params[1]\n",
    "    c = params[2]\n",
    "\n",
    "    # Find the probability of churning.\n",
    "    F_t = 1 - (alpha/(alpha + data1.week**c))**r\n",
    "    F_t_minus_1 = 1 - (alpha/(alpha + (data1.week - 1)**c))**r\n",
    "    Prob = F_t - F_t_minus_1\n",
    "\n",
    "    # Now find the probability of not churning. It is one minus the sum of all\n",
    "    # the prior probabilities of churning.\n",
    "    Prob_not_churn = 1 - np.sum(Prob[1:])\n",
    "\n",
    "    # Find the sum of log-likelihoods. Be sure to weight by the number of customers\n",
    "    # churning at each time point. Remember that time t=0 doesn't have a realistic\n",
    "    # value and should be ignored.\n",
    "    LL = np.sum(np.log(Prob[1:]) * train_agg.lost[1:])\n",
    "\n",
    "    # Add in the log-likelihood for the people who hadn't churned by year 7.\n",
    "    LL += np.log(Prob_not_churn) * train_agg.remaining[24]\n",
    "\n",
    "    return -LL"
   ]
  },
  {
   "cell_type": "code",
   "execution_count": 80,
   "metadata": {},
   "outputs": [
    {
     "name": "stdout",
     "output_type": "stream",
     "text": [
      "Optimization terminated successfully.\n",
      "         Current function value: 4756.785749\n",
      "         Iterations: 250\n",
      "         Function evaluations: 422\n"
     ]
    },
    {
     "data": {
      "text/plain": [
       "       message: Optimization terminated successfully.\n",
       "       success: True\n",
       "        status: 0\n",
       "           fun: 4756.785748688937\n",
       "             x: [ 1.000e+02  2.080e+01  7.285e-01]\n",
       "           nit: 250\n",
       "          nfev: 422\n",
       " final_simplex: (array([[ 1.000e+02,  2.080e+01,  7.285e-01],\n",
       "                       [ 1.000e+02,  2.080e+01,  7.285e-01],\n",
       "                       [ 1.000e+02,  2.080e+01,  7.285e-01],\n",
       "                       [ 1.000e+02,  2.080e+01,  7.285e-01]]), array([ 4.757e+03,  4.757e+03,  4.757e+03,  4.757e+03]))"
      ]
     },
     "execution_count": 80,
     "metadata": {},
     "output_type": "execute_result"
    }
   ],
   "source": [
    "bounds = [(0, 100), (0, 100), (0, 100)]\n",
    "x0 = [1, 1, 1]\n",
    "mle_model = minimize(MLE_Weib_Gamma, x0 = x0, method='Nelder-mead', bounds=bounds, options={'disp': True})\n",
    "mle_model"
   ]
  },
  {
   "cell_type": "markdown",
   "metadata": {},
   "source": [
    "##### Problem 1.4.a -DELIVERABLE - Report on Coefficients\n",
    "\n",
    "Coefficients:\n",
    "\n",
    "alpha = 100\n",
    "\n",
    "r = 20.8\n",
    "\n",
    "c = 0.729"
   ]
  },
  {
   "cell_type": "markdown",
   "metadata": {},
   "source": [
    "#### Problem 1.5.b - DELIVERABLE - Plot Actual Number of Alubums Dropped with Predicted Dropped at End of Each Week"
   ]
  },
  {
   "cell_type": "code",
   "execution_count": 82,
   "metadata": {},
   "outputs": [
    {
     "data": {
      "image/png": "[encoded data removed]",
      "text/plain": [
       "<Figure size 640x480 with 1 Axes>"
      ]
     },
     "metadata": {},
     "output_type": "display_data"
    }
   ],
   "source": [
    "# Note that we use train_agg because we want to study all 25 weeks.\n",
    "pop_size = train_agg.remaining[0] # 1734 customers\n",
    "\n",
    "alpha = mle_model.x[0]\n",
    "r = mle_model.x[1]\n",
    "c = mle_model.x[2]\n",
    "\n",
    "# Find the probability of churning.\n",
    "F_t = 1 - (alpha/(alpha + train_agg.week**c))**r\n",
    "F_t_minus_1 = 1 - (alpha/(alpha + (train_agg.week - 1)**c))**r\n",
    "Prob = F_t - F_t_minus_1\n",
    "\n",
    "churn = Prob * pop_size\n",
    "\n",
    "pred_alive = [None] * 25\n",
    "pred_alive[0] = pop_size\n",
    "\n",
    "for i in range(1, 25):\n",
    "    pred_alive[i] = pred_alive[i-1] - churn[i]\n",
    "\n",
    "plt.plot(pred_alive, label='prediction')\n",
    "plt.plot(train_agg.remaining[0:25], label='data')\n",
    "plt.legend()\n",
    "plt.title('Alive')\n",
    "plt.show()"
   ]
  },
  {
   "cell_type": "code",
   "execution_count": 84,
   "metadata": {},
   "outputs": [
    {
     "data": {
      "image/png": "[encoded data removed]",
      "text/plain": [
       "<Figure size 640x480 with 1 Axes>"
      ]
     },
     "metadata": {},
     "output_type": "display_data"
    }
   ],
   "source": [
    "pred_haz = [None]*25\n",
    "for t in range(1, 25):\n",
    "    pred_haz[t] = churn[t]/pred_alive[t-1]\n",
    "\n",
    "emp_haz = [None]*25\n",
    "for t in range(1, 25):\n",
    "    emp_haz[t] = train_agg.lost[t]/train_agg.remaining[t-1]\n",
    "\n",
    "plt.plot(pred_haz, label='weibull-gamma')\n",
    "plt.plot(emp_haz, label='empirical')\n",
    "plt.title('hazard')\n",
    "plt.legend()\n",
    "plt.show()"
   ]
  },
  {
   "cell_type": "markdown",
   "metadata": {},
   "source": [
    "## Problem 2 - Survival Momdel - Marriage"
   ]
  },
  {
   "cell_type": "code",
   "execution_count": 86,
   "metadata": {},
   "outputs": [
    {
     "data": {
      "text/html": [
       "<div>\n",
       "<style scoped>\n",
       "    .dataframe tbody tr th:only-of-type {\n",
       "        vertical-align: middle;\n",
       "    }\n",
       "\n",
       "    .dataframe tbody tr th {\n",
       "        vertical-align: top;\n",
       "    }\n",
       "\n",
       "    .dataframe thead th {\n",
       "        text-align: right;\n",
       "    }\n",
       "</style>\n",
       "<table border=\"1\" class=\"dataframe\">\n",
       "  <thead>\n",
       "    <tr style=\"text-align: right;\">\n",
       "      <th></th>\n",
       "      <th>id</th>\n",
       "      <th>education</th>\n",
       "      <th>race</th>\n",
       "      <th>years</th>\n",
       "      <th>divorce</th>\n",
       "    </tr>\n",
       "  </thead>\n",
       "  <tbody>\n",
       "    <tr>\n",
       "      <th>0</th>\n",
       "      <td>10016</td>\n",
       "      <td>2</td>\n",
       "      <td>1</td>\n",
       "      <td>1</td>\n",
       "      <td>0</td>\n",
       "    </tr>\n",
       "    <tr>\n",
       "      <th>1</th>\n",
       "      <td>33</td>\n",
       "      <td>2</td>\n",
       "      <td>0</td>\n",
       "      <td>1</td>\n",
       "      <td>0</td>\n",
       "    </tr>\n",
       "    <tr>\n",
       "      <th>2</th>\n",
       "      <td>141</td>\n",
       "      <td>1</td>\n",
       "      <td>0</td>\n",
       "      <td>1</td>\n",
       "      <td>0</td>\n",
       "    </tr>\n",
       "    <tr>\n",
       "      <th>3</th>\n",
       "      <td>310</td>\n",
       "      <td>1</td>\n",
       "      <td>0</td>\n",
       "      <td>1</td>\n",
       "      <td>0</td>\n",
       "    </tr>\n",
       "    <tr>\n",
       "      <th>4</th>\n",
       "      <td>537</td>\n",
       "      <td>2</td>\n",
       "      <td>0</td>\n",
       "      <td>1</td>\n",
       "      <td>0</td>\n",
       "    </tr>\n",
       "    <tr>\n",
       "      <th>5</th>\n",
       "      <td>551</td>\n",
       "      <td>2</td>\n",
       "      <td>0</td>\n",
       "      <td>1</td>\n",
       "      <td>0</td>\n",
       "    </tr>\n",
       "    <tr>\n",
       "      <th>6</th>\n",
       "      <td>566</td>\n",
       "      <td>2</td>\n",
       "      <td>0</td>\n",
       "      <td>1</td>\n",
       "      <td>0</td>\n",
       "    </tr>\n",
       "    <tr>\n",
       "      <th>7</th>\n",
       "      <td>786</td>\n",
       "      <td>2</td>\n",
       "      <td>0</td>\n",
       "      <td>1</td>\n",
       "      <td>0</td>\n",
       "    </tr>\n",
       "    <tr>\n",
       "      <th>8</th>\n",
       "      <td>798</td>\n",
       "      <td>2</td>\n",
       "      <td>0</td>\n",
       "      <td>1</td>\n",
       "      <td>0</td>\n",
       "    </tr>\n",
       "    <tr>\n",
       "      <th>9</th>\n",
       "      <td>856</td>\n",
       "      <td>1</td>\n",
       "      <td>0</td>\n",
       "      <td>1</td>\n",
       "      <td>1</td>\n",
       "    </tr>\n",
       "  </tbody>\n",
       "</table>\n",
       "</div>"
      ],
      "text/plain": [
       "      id  education  race  years  divorce\n",
       "0  10016          2     1      1        0\n",
       "1     33          2     0      1        0\n",
       "2    141          1     0      1        0\n",
       "3    310          1     0      1        0\n",
       "4    537          2     0      1        0\n",
       "5    551          2     0      1        0\n",
       "6    566          2     0      1        0\n",
       "7    786          2     0      1        0\n",
       "8    798          2     0      1        0\n",
       "9    856          1     0      1        1"
      ]
     },
     "execution_count": 86,
     "metadata": {},
     "output_type": "execute_result"
    }
   ],
   "source": [
    "#load in the data\n",
    "df = pd.read_excel('C:/Users/User/OneDrive/Desktop/github-repo-folder/adv_bus_analytics/homework_2/hw2_marriage_data-3.xlsx')\n",
    "df.head(10)"
   ]
  },
  {
   "cell_type": "markdown",
   "metadata": {},
   "source": [
    "#### Problem 2.1 - weibull with covariates without heterogeneity"
   ]
  },
  {
   "cell_type": "code",
   "execution_count": 95,
   "metadata": {},
   "outputs": [
    {
     "data": {
      "text/html": [
       "<div>\n",
       "<style scoped>\n",
       "    .dataframe tbody tr th:only-of-type {\n",
       "        vertical-align: middle;\n",
       "    }\n",
       "\n",
       "    .dataframe tbody tr th {\n",
       "        vertical-align: top;\n",
       "    }\n",
       "\n",
       "    .dataframe thead th {\n",
       "        text-align: right;\n",
       "    }\n",
       "</style>\n",
       "<table border=\"1\" class=\"dataframe\">\n",
       "  <thead>\n",
       "    <tr style=\"text-align: right;\">\n",
       "      <th></th>\n",
       "      <th>education</th>\n",
       "      <th>race</th>\n",
       "      <th>years</th>\n",
       "      <th>divorce</th>\n",
       "    </tr>\n",
       "    <tr>\n",
       "      <th>id</th>\n",
       "      <th></th>\n",
       "      <th></th>\n",
       "      <th></th>\n",
       "      <th></th>\n",
       "    </tr>\n",
       "  </thead>\n",
       "  <tbody>\n",
       "    <tr>\n",
       "      <th>9</th>\n",
       "      <td>2</td>\n",
       "      <td>0</td>\n",
       "      <td>10</td>\n",
       "      <td>0</td>\n",
       "    </tr>\n",
       "    <tr>\n",
       "      <th>11</th>\n",
       "      <td>1</td>\n",
       "      <td>0</td>\n",
       "      <td>34</td>\n",
       "      <td>0</td>\n",
       "    </tr>\n",
       "    <tr>\n",
       "      <th>13</th>\n",
       "      <td>1</td>\n",
       "      <td>0</td>\n",
       "      <td>2</td>\n",
       "      <td>1</td>\n",
       "    </tr>\n",
       "    <tr>\n",
       "      <th>15</th>\n",
       "      <td>1</td>\n",
       "      <td>0</td>\n",
       "      <td>17</td>\n",
       "      <td>1</td>\n",
       "    </tr>\n",
       "    <tr>\n",
       "      <th>33</th>\n",
       "      <td>2</td>\n",
       "      <td>0</td>\n",
       "      <td>1</td>\n",
       "      <td>0</td>\n",
       "    </tr>\n",
       "    <tr>\n",
       "      <th>36</th>\n",
       "      <td>1</td>\n",
       "      <td>0</td>\n",
       "      <td>48</td>\n",
       "      <td>0</td>\n",
       "    </tr>\n",
       "    <tr>\n",
       "      <th>43</th>\n",
       "      <td>3</td>\n",
       "      <td>0</td>\n",
       "      <td>16</td>\n",
       "      <td>0</td>\n",
       "    </tr>\n",
       "    <tr>\n",
       "      <th>47</th>\n",
       "      <td>1</td>\n",
       "      <td>0</td>\n",
       "      <td>24</td>\n",
       "      <td>0</td>\n",
       "    </tr>\n",
       "    <tr>\n",
       "      <th>50</th>\n",
       "      <td>1</td>\n",
       "      <td>0</td>\n",
       "      <td>24</td>\n",
       "      <td>0</td>\n",
       "    </tr>\n",
       "    <tr>\n",
       "      <th>56</th>\n",
       "      <td>1</td>\n",
       "      <td>1</td>\n",
       "      <td>3</td>\n",
       "      <td>0</td>\n",
       "    </tr>\n",
       "  </tbody>\n",
       "</table>\n",
       "</div>"
      ],
      "text/plain": [
       "    education  race  years  divorce\n",
       "id                                 \n",
       "9           2     0     10        0\n",
       "11          1     0     34        0\n",
       "13          1     0      2        1\n",
       "15          1     0     17        1\n",
       "33          2     0      1        0\n",
       "36          1     0     48        0\n",
       "43          3     0     16        0\n",
       "47          1     0     24        0\n",
       "50          1     0     24        0\n",
       "56          1     1      3        0"
      ]
     },
     "execution_count": 95,
     "metadata": {},
     "output_type": "execute_result"
    }
   ],
   "source": [
    "#setup dataset\n",
    "n_user = df.groupby('id')[['education','race','years','divorce']].max()\n",
    "\n",
    "n_user.head(10)"
   ]
  },
  {
   "cell_type": "code",
   "execution_count": 97,
   "metadata": {},
   "outputs": [
    {
     "data": {
      "text/plain": [
       "count    3371.000000\n",
       "mean       17.937704\n",
       "std        14.863103\n",
       "min         1.000000\n",
       "25%         6.000000\n",
       "50%        14.000000\n",
       "75%        26.000000\n",
       "max        73.000000\n",
       "Name: years, dtype: float64"
      ]
     },
     "execution_count": 97,
     "metadata": {},
     "output_type": "execute_result"
    }
   ],
   "source": [
    "n_user.years.describe()"
   ]
  },
  {
   "cell_type": "code",
   "execution_count": 99,
   "metadata": {},
   "outputs": [
    {
     "data": {
      "text/plain": [
       "count    3371.000000\n",
       "mean        1.744883\n",
       "std         0.666404\n",
       "min         1.000000\n",
       "25%         1.000000\n",
       "50%         2.000000\n",
       "75%         2.000000\n",
       "max         3.000000\n",
       "Name: education, dtype: float64"
      ]
     },
     "execution_count": 99,
     "metadata": {},
     "output_type": "execute_result"
    }
   ],
   "source": [
    "n_user.education.describe()"
   ]
  },
  {
   "cell_type": "code",
   "execution_count": 100,
   "metadata": {},
   "outputs": [],
   "source": [
    "#define function to maximize\n",
    "\n",
    "def weibull_exp_cov(param):\n",
    "    \n",
    "    lamda=param[0]\n",
    "    b_educ = param[1]\n",
    "    b_race = param[2]\n",
    "    \n",
    "    #create covariate\n",
    "    Cov = np.exp(b_educ*n_user.education + b_race*n_user.race)\n",
    "    new_lambda = Cov * lamda\n",
    "    Ft = 1-np.exp(-new_lambda*n_user.years)\n",
    "    Ft1  = 1-np.exp(-new_lambda*(n_user.years-1))\n",
    "\n",
    "    #For people who adopt we take (Ft-Ft1)\n",
    "    prob_churn = Ft - Ft1\n",
    "    L = np.sum(np.log(prob_churn[n_user.divorce==1]))\n",
    "\n",
    "    #For those who survive we take (1-Ft)\n",
    "    prob_not_churn = 1 - Ft\n",
    "    L += np.sum(np.log(prob_not_churn[n_user.divorce==0]))\n",
    "\n",
    "    return -L"
   ]
  },
  {
   "cell_type": "code",
   "execution_count": 102,
   "metadata": {},
   "outputs": [
    {
     "name": "stderr",
     "output_type": "stream",
     "text": [
      "c:\\Users\\User\\OneDrive\\Desktop\\github-repo-folder\\adv_bus_analytics\\env_312\\Lib\\site-packages\\pandas\\core\\arraylike.py:399: RuntimeWarning: divide by zero encountered in log\n",
      "  result = getattr(ufunc, method)(*inputs, **kwargs)\n",
      "c:\\Users\\User\\OneDrive\\Desktop\\github-repo-folder\\adv_bus_analytics\\env_312\\Lib\\site-packages\\pandas\\core\\arraylike.py:399: RuntimeWarning: divide by zero encountered in log\n",
      "  result = getattr(ufunc, method)(*inputs, **kwargs)\n",
      "c:\\Users\\User\\OneDrive\\Desktop\\github-repo-folder\\adv_bus_analytics\\env_312\\Lib\\site-packages\\pandas\\core\\arraylike.py:399: RuntimeWarning: divide by zero encountered in log\n",
      "  result = getattr(ufunc, method)(*inputs, **kwargs)\n",
      "c:\\Users\\User\\OneDrive\\Desktop\\github-repo-folder\\adv_bus_analytics\\env_312\\Lib\\site-packages\\pandas\\core\\arraylike.py:399: RuntimeWarning: divide by zero encountered in log\n",
      "  result = getattr(ufunc, method)(*inputs, **kwargs)\n",
      "c:\\Users\\User\\OneDrive\\Desktop\\github-repo-folder\\adv_bus_analytics\\env_312\\Lib\\site-packages\\pandas\\core\\arraylike.py:399: RuntimeWarning: divide by zero encountered in log\n",
      "  result = getattr(ufunc, method)(*inputs, **kwargs)\n",
      "c:\\Users\\User\\OneDrive\\Desktop\\github-repo-folder\\adv_bus_analytics\\env_312\\Lib\\site-packages\\pandas\\core\\arraylike.py:399: RuntimeWarning: divide by zero encountered in log\n",
      "  result = getattr(ufunc, method)(*inputs, **kwargs)\n",
      "c:\\Users\\User\\OneDrive\\Desktop\\github-repo-folder\\adv_bus_analytics\\env_312\\Lib\\site-packages\\pandas\\core\\arraylike.py:399: RuntimeWarning: divide by zero encountered in log\n",
      "  result = getattr(ufunc, method)(*inputs, **kwargs)\n",
      "c:\\Users\\User\\OneDrive\\Desktop\\github-repo-folder\\adv_bus_analytics\\env_312\\Lib\\site-packages\\pandas\\core\\arraylike.py:399: RuntimeWarning: divide by zero encountered in log\n",
      "  result = getattr(ufunc, method)(*inputs, **kwargs)\n",
      "c:\\Users\\User\\OneDrive\\Desktop\\github-repo-folder\\adv_bus_analytics\\env_312\\Lib\\site-packages\\pandas\\core\\arraylike.py:399: RuntimeWarning: divide by zero encountered in log\n",
      "  result = getattr(ufunc, method)(*inputs, **kwargs)\n"
     ]
    },
    {
     "data": {
      "text/plain": [
       "       message: Optimization terminated successfully.\n",
       "       success: True\n",
       "        status: 0\n",
       "           fun: 5214.623402770199\n",
       "             x: [ 1.366e-02  1.217e-01  1.359e-01]\n",
       "           nit: 97\n",
       "          nfev: 181\n",
       " final_simplex: (array([[ 1.366e-02,  1.217e-01,  1.359e-01],\n",
       "                       [ 1.366e-02,  1.218e-01,  1.359e-01],\n",
       "                       [ 1.366e-02,  1.218e-01,  1.359e-01],\n",
       "                       [ 1.366e-02,  1.216e-01,  1.359e-01]]), array([ 5.215e+03,  5.215e+03,  5.215e+03,  5.215e+03]))"
      ]
     },
     "execution_count": 102,
     "metadata": {},
     "output_type": "execute_result"
    }
   ],
   "source": [
    "mle_out=minimize(weibull_exp_cov,\n",
    "                 np.array([0.2,0.2,0.1]), \n",
    "                 method='Nelder-mead', \n",
    "                 bounds=[{0,10000},{-10000,5},{-10000,5}])\n",
    "\n",
    "mle_out"
   ]
  },
  {
   "cell_type": "markdown",
   "metadata": {},
   "source": [
    "#### Problem 2.1.a - DELIVERABLE - Report the coefficients\n",
    "\n",
    "Coefficients:\n",
    "1. lambda = 0.0014\n",
    "2. b_educ = 0.1217\n",
    "3. b_race = 0.1359"
   ]
  },
  {
   "cell_type": "code",
   "execution_count": 126,
   "metadata": {},
   "outputs": [
    {
     "name": "stdout",
     "output_type": "stream",
     "text": [
      "The probability that a couple in their second year of marriage (t = 2) \n",
      "and husband is race = 1, education = 2 is:\n",
      "3.91 %\n"
     ]
    }
   ],
   "source": [
    "#find probability of divorce for:\n",
    "\n",
    "#inputs\n",
    "t = 2\n",
    "educ = 2\n",
    "race = 1\n",
    "\n",
    "#coefficients\n",
    "lamdba_value = mle_out.x[0]\n",
    "b_ed_coeff = mle_out.x[1]\n",
    "b_race_coeff = mle_out.x[2]\n",
    "\n",
    "#write out the function: F(t) = 1-np.exp(-new_lambda*n_user.years)\n",
    "\n",
    "cov = np.exp(b_ed_coeff*educ + b_race_coeff*race)\n",
    "new_lambda = cov * lamdba_value\n",
    "Ft = 1-np.exp(-new_lambda*t)\n",
    "\n",
    "print('The probability that a couple in their second year of marriage (t = 2) \\nand husband is race = 1, education = 2 is:')\n",
    "print(round(Ft*100,2), '%')\n"
   ]
  },
  {
   "cell_type": "markdown",
   "metadata": {},
   "source": [
    "#### Problem 2.1.b - DELIVERABLE - probability of divroce for couple\n",
    "The probability that a couple in their second year of marriage (t = 2) \n",
    "and husband is race = 1, education = 2 is:\n",
    "3.91 %"
   ]
  },
  {
   "cell_type": "markdown",
   "metadata": {},
   "source": [
    "#### Problem 2.2 - weibull-gamma with covariates"
   ]
  },
  {
   "cell_type": "code",
   "execution_count": 112,
   "metadata": {},
   "outputs": [],
   "source": [
    "#setup for Weibull-Gamma model with covariates\n",
    "\n",
    "def weib_cov(param):\n",
    "    c=param[0]\n",
    "    lamda=param[1]\n",
    "    b1_educ = param[2]\n",
    "    b2_race = param[3]\n",
    "    #create covariate\n",
    "    Cov = np.exp(b1_educ*n_user.education + b2_race*n_user.race)\n",
    "    new_lambda = Cov*lamda\n",
    "    Ft = 1-np.exp(-new_lambda*(n_user.years)**c)\n",
    "    Ft1  = 1-np.exp(-new_lambda*(n_user.years-1)**c)\n",
    "\n",
    "    #For people who adopt we take (Ft-Ft1)\n",
    "    prob_churn = Ft - Ft1\n",
    "    L = np.sum(np.log(prob_churn[n_user.divorce==1]))\n",
    "\n",
    "    #For those who survive we take (1-Ft)\n",
    "    prob_not_churn = 1 - Ft\n",
    "    L += np.sum(np.log(prob_not_churn[n_user.divorce==0]))\n",
    "\n",
    "    return -L"
   ]
  },
  {
   "cell_type": "code",
   "execution_count": null,
   "metadata": {},
   "outputs": [
    {
     "name": "stderr",
     "output_type": "stream",
     "text": [
      "c:\\Users\\User\\OneDrive\\Desktop\\github-repo-folder\\adv_bus_analytics\\env_312\\Lib\\site-packages\\pandas\\core\\arraylike.py:399: RuntimeWarning: divide by zero encountered in log\n",
      "  result = getattr(ufunc, method)(*inputs, **kwargs)\n",
      "c:\\Users\\User\\OneDrive\\Desktop\\github-repo-folder\\adv_bus_analytics\\env_312\\Lib\\site-packages\\pandas\\core\\arraylike.py:399: RuntimeWarning: divide by zero encountered in log\n",
      "  result = getattr(ufunc, method)(*inputs, **kwargs)\n",
      "c:\\Users\\User\\OneDrive\\Desktop\\github-repo-folder\\adv_bus_analytics\\env_312\\Lib\\site-packages\\pandas\\core\\arraylike.py:399: RuntimeWarning: divide by zero encountered in log\n",
      "  result = getattr(ufunc, method)(*inputs, **kwargs)\n",
      "c:\\Users\\User\\OneDrive\\Desktop\\github-repo-folder\\adv_bus_analytics\\env_312\\Lib\\site-packages\\pandas\\core\\arraylike.py:399: RuntimeWarning: divide by zero encountered in log\n",
      "  result = getattr(ufunc, method)(*inputs, **kwargs)\n",
      "c:\\Users\\User\\OneDrive\\Desktop\\github-repo-folder\\adv_bus_analytics\\env_312\\Lib\\site-packages\\pandas\\core\\arraylike.py:399: RuntimeWarning: divide by zero encountered in log\n",
      "  result = getattr(ufunc, method)(*inputs, **kwargs)\n",
      "c:\\Users\\User\\OneDrive\\Desktop\\github-repo-folder\\adv_bus_analytics\\env_312\\Lib\\site-packages\\pandas\\core\\arraylike.py:399: RuntimeWarning: divide by zero encountered in log\n",
      "  result = getattr(ufunc, method)(*inputs, **kwargs)\n",
      "c:\\Users\\User\\OneDrive\\Desktop\\github-repo-folder\\adv_bus_analytics\\env_312\\Lib\\site-packages\\pandas\\core\\arraylike.py:399: RuntimeWarning: divide by zero encountered in log\n",
      "  result = getattr(ufunc, method)(*inputs, **kwargs)\n",
      "c:\\Users\\User\\OneDrive\\Desktop\\github-repo-folder\\adv_bus_analytics\\env_312\\Lib\\site-packages\\pandas\\core\\arraylike.py:399: RuntimeWarning: divide by zero encountered in log\n",
      "  result = getattr(ufunc, method)(*inputs, **kwargs)\n",
      "c:\\Users\\User\\OneDrive\\Desktop\\github-repo-folder\\adv_bus_analytics\\env_312\\Lib\\site-packages\\pandas\\core\\arraylike.py:399: RuntimeWarning: divide by zero encountered in log\n",
      "  result = getattr(ufunc, method)(*inputs, **kwargs)\n",
      "c:\\Users\\User\\OneDrive\\Desktop\\github-repo-folder\\adv_bus_analytics\\env_312\\Lib\\site-packages\\pandas\\core\\arraylike.py:399: RuntimeWarning: divide by zero encountered in log\n",
      "  result = getattr(ufunc, method)(*inputs, **kwargs)\n",
      "c:\\Users\\User\\OneDrive\\Desktop\\github-repo-folder\\adv_bus_analytics\\env_312\\Lib\\site-packages\\pandas\\core\\arraylike.py:399: RuntimeWarning: divide by zero encountered in log\n",
      "  result = getattr(ufunc, method)(*inputs, **kwargs)\n",
      "c:\\Users\\User\\OneDrive\\Desktop\\github-repo-folder\\adv_bus_analytics\\env_312\\Lib\\site-packages\\pandas\\core\\arraylike.py:399: RuntimeWarning: divide by zero encountered in log\n",
      "  result = getattr(ufunc, method)(*inputs, **kwargs)\n",
      "c:\\Users\\User\\OneDrive\\Desktop\\github-repo-folder\\adv_bus_analytics\\env_312\\Lib\\site-packages\\pandas\\core\\arraylike.py:399: RuntimeWarning: divide by zero encountered in log\n",
      "  result = getattr(ufunc, method)(*inputs, **kwargs)\n"
     ]
    },
    {
     "data": {
      "text/plain": [
       " message: Optimization terminated successfully\n",
       " success: True\n",
       "  status: 0\n",
       "     fun: 5155.789206927841\n",
       "       x: [ 7.597e-01  2.913e-02  1.041e-01  2.768e-01]\n",
       "     nit: 21\n",
       "     jac: [-9.094e-03 -3.607e-02 -4.456e-03  5.493e-04]\n",
       "    nfev: 123\n",
       "    njev: 21"
      ]
     },
     "execution_count": 122,
     "metadata": {},
     "output_type": "execute_result"
    }
   ],
   "source": [
    "#do the opimization\n",
    "mle_out_weibull_gamma_cov=minimize(weib_cov,\n",
    "                 np.array([0.1, #c > 0\n",
    "                           0.1, #lambda > 0\n",
    "                           0.1, #b1_educ -> any number\n",
    "                           0.1  #b2_race -> any number\n",
    "                           ]), \n",
    "                 method='SLSQP', \n",
    "                 bounds=[{0,None},\n",
    "                         {0,None},\n",
    "                         {0,100},\n",
    "                         {0,100}])\n",
    "\n",
    "mle_out_weibull_gamma_cov"
   ]
  },
  {
   "cell_type": "markdown",
   "metadata": {},
   "source": [
    "#### Problem 2.1.a - Report on coefficients\n",
    "\n",
    "Coefficients:\n",
    "1. lambda = 0.760\n",
    "2. c = 0.029, \n",
    "3. b1_education = 0.104\n",
    "4. b2_race = 0.277"
   ]
  },
  {
   "cell_type": "code",
   "execution_count": 125,
   "metadata": {},
   "outputs": [
    {
     "name": "stdout",
     "output_type": "stream",
     "text": [
      "Using Weibull-Gamma with Covariates Modelling: \n",
      "The probability that a couple in their second year of marriage (t = 2) \n",
      "and husband is race = 1, education = 2 is:\n",
      "9.03 %\n"
     ]
    }
   ],
   "source": [
    "#find probability of divorce for:\n",
    "\n",
    "#inputs\n",
    "t = 2\n",
    "educ = 2\n",
    "race = 1\n",
    "\n",
    "#coefficients\n",
    "c_value = mle_out_weibull_gamma_cov.x[0]\n",
    "lamdba2_value = mle_out_weibull_gamma_cov.x[1]\n",
    "b_ed_coeff2 = mle_out_weibull_gamma_cov.x[2]\n",
    "b_race_coeff2 = mle_out_weibull_gamma_cov.x[3]\n",
    "\n",
    "#write out the function: F(t) = 1-np.exp(-new_lambda*n_user.years)\n",
    "\n",
    "cov2 = np.exp(b_ed_coeff2*educ + b_race_coeff2*race)\n",
    "new_lambda2 = cov2 * lamdba2_value\n",
    "Ft2 = 1-np.exp(-new_lambda2*t)\n",
    "\n",
    "print('Using Weibull-Gamma with Covariates Modelling: \\nThe probability that a couple in their second year of marriage (t = 2) \\nand husband is race = 1, education = 2 is:')\n",
    "print(round(Ft2*100,2), '%')"
   ]
  },
  {
   "cell_type": "markdown",
   "metadata": {},
   "source": [
    "#### Problem 2.2.b - Probability of Divorce with Weibull-Gamma with Covariates Model\n",
    "\n",
    "Using Weibull-Gamma with Covariates Modelling: \n",
    "The probability that a couple in their second year of marriage (t = 2) \n",
    "and husband is race = 1, education = 2 is:\n",
    "9.03 %"
   ]
  },
  {
   "cell_type": "code",
   "execution_count": null,
   "metadata": {},
   "outputs": [
    {
     "name": "stdout",
     "output_type": "stream",
     "text": [
      "population size is: 3371\n",
      "BIC for Weibull Exponential with Covariates Model: 10453.615699686101\n",
      "BIC for Weibull Gamma with Covariates Model: 10344.070272716619\n"
     ]
    }
   ],
   "source": [
    "#Calculate BIC for both models\n",
    "pop_size = n_user.shape[0]\n",
    "print('population size is:', pop_size)\n",
    "\n",
    "#weibull exponential with covariates\n",
    "num_params = 3\n",
    "BIC_weibull_exp_cov = num_params * np.log(pop_size) - 2 * (-mle_out.fun)\n",
    "print('BIC for Weibull Exponential with Covariates Model:', BIC_weibull_exp_cov)\n",
    "\n",
    "#weibull gamma with covariates:\n",
    "num_params = 4\n",
    "BIC_weibull_gamma_cov = num_params * np.log(pop_size) - 2 * (-mle_out_weibull_gamma_cov.fun)\n",
    "print('BIC for Weibull Gamma with Covariates Model:', BIC_weibull_gamma_cov)\n",
    "\n",
    "print('\\n')\n",
    "print('The better model is the Weibull-Gamma Model with Covariates.  It has a smaller BIC.')"
   ]
  }
 ],
 "metadata": {
  "kernelspec": {
   "display_name": "env_312",
   "language": "python",
   "name": "python3"
  },
  "language_info": {
   "codemirror_mode": {
    "name": "ipython",
    "version": 3
   },
   "file_extension": ".py",
   "mimetype": "text/x-python",
   "name": "python",
   "nbconvert_exporter": "python",
   "pygments_lexer": "ipython3",
   "version": "3.13.0"
  }
 },
 "nbformat": 4,
 "nbformat_minor": 2
}
