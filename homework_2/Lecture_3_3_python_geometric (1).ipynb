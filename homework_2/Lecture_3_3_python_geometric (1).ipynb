{
 "cells": [
  {
   "cell_type": "markdown",
   "id": "0ae19e0e",
   "metadata": {},
   "source": [
    "This notebook demonstrates how to use the Geometric Model. "
   ]
  },
  {
   "cell_type": "code",
   "execution_count": 2,
   "id": "3a3eaebb",
   "metadata": {},
   "outputs": [],
   "source": [
    "import os\n",
    "\n",
    "import pandas as pd\n",
    "import numpy as np\n",
    "import statsmodels.api as sm\n",
    "from scipy.optimize import minimize\n",
    "from scipy.stats import norm\n",
    "import math\n",
    "import matplotlib.pyplot as plt\n",
    "from scipy import stats\n",
    "import scipy.special as sc\n",
    "from scipy.special import beta"
   ]
  },
  {
   "cell_type": "code",
   "execution_count": 4,
   "id": "66c4a1f3",
   "metadata": {},
   "outputs": [],
   "source": [
    "filename = 'C:/Users/User/OneDrive/Desktop/github-repo-folder/adv_bus_analytics/homework_2/retention_data_geometricmodel-1 (1).xlsx'\n",
    "data_in = pd.read_excel(filename, usecols='A:D')"
   ]
  },
  {
   "cell_type": "code",
   "execution_count": 5,
   "id": "9eb4fd0d",
   "metadata": {},
   "outputs": [],
   "source": [
    "data_in = data_in.rename(columns={'# Customers':'Customers', '% Alive':'Alive', 'retention rate':'retention'})"
   ]
  },
  {
   "cell_type": "code",
   "execution_count": 7,
   "id": "2dde4efa",
   "metadata": {},
   "outputs": [
    {
     "name": "stdout",
     "output_type": "stream",
     "text": [
      "    Year  Customers  Alive  retention\n",
      "0      0       1000  1.000        NaN\n",
      "1      1        631  0.631   0.631000\n",
      "2      2        468  0.468   0.741680\n",
      "3      3        382  0.382   0.816239\n",
      "4      4        326  0.326   0.853403\n",
      "5      5        289  0.289   0.886503\n",
      "6      6        262  0.262   0.906574\n",
      "7      7        241  0.241   0.919847\n",
      "8      8        223  0.223   0.925311\n",
      "9      9        207  0.207   0.928251\n",
      "10    10        194  0.194   0.937198\n",
      "11    11        183  0.183   0.943299\n",
      "12    12        173  0.173   0.945355\n"
     ]
    }
   ],
   "source": [
    "print(data_in)"
   ]
  },
  {
   "cell_type": "markdown",
   "id": "e922863a",
   "metadata": {},
   "source": [
    "Plot retention rate. It is just 1 - hazard."
   ]
  },
  {
   "cell_type": "code",
   "execution_count": 42,
   "id": "ed09669c",
   "metadata": {},
   "outputs": [
    {
     "data": {
      "text/plain": [
       "Text(0, 0.5, 'Retention Rate')"
      ]
     },
     "execution_count": 42,
     "metadata": {},
     "output_type": "execute_result"
    },
    {
     "data": {
      "image/png": "[encoded data removed]",
      "text/plain": [
       "<Figure size 432x288 with 1 Axes>"
      ]
     },
     "metadata": {
      "needs_background": "light"
     },
     "output_type": "display_data"
    }
   ],
   "source": [
    "plt.plot(data_in[0:8].Year, data_in[0:8].retention)\n",
    "plt.title('Retention')\n",
    "plt.xlabel('Year')\n",
    "plt.ylabel('Retention Rate')"
   ]
  },
  {
   "cell_type": "markdown",
   "id": "d59c5afc",
   "metadata": {},
   "source": [
    "Plot the hazard."
   ]
  },
  {
   "cell_type": "code",
   "execution_count": 43,
   "id": "a88415d9",
   "metadata": {},
   "outputs": [
    {
     "data": {
      "text/plain": [
       "Text(0, 0.5, 'Hazard Rate')"
      ]
     },
     "execution_count": 43,
     "metadata": {},
     "output_type": "execute_result"
    },
    {
     "data": {
      "image/png": "[encoded data removed]",
      "text/plain": [
       "<Figure size 432x288 with 1 Axes>"
      ]
     },
     "metadata": {
      "needs_background": "light"
     },
     "output_type": "display_data"
    }
   ],
   "source": [
    "data_in['hazard'] = 1 - data_in.retention\n",
    "plt.plot(data_in[0:8].Year, data_in[0:8].hazard)\n",
    "plt.title('hazard')\n",
    "plt.xlabel('Year')\n",
    "plt.ylabel('Hazard Rate')"
   ]
  },
  {
   "cell_type": "code",
   "execution_count": 44,
   "id": "37da048e",
   "metadata": {},
   "outputs": [
    {
     "data": {
      "text/html": [
       "<div>\n",
       "<style scoped>\n",
       "    .dataframe tbody tr th:only-of-type {\n",
       "        vertical-align: middle;\n",
       "    }\n",
       "\n",
       "    .dataframe tbody tr th {\n",
       "        vertical-align: top;\n",
       "    }\n",
       "\n",
       "    .dataframe thead th {\n",
       "        text-align: right;\n",
       "    }\n",
       "</style>\n",
       "<table border=\"1\" class=\"dataframe\">\n",
       "  <thead>\n",
       "    <tr style=\"text-align: right;\">\n",
       "      <th></th>\n",
       "      <th>Year</th>\n",
       "      <th>Customers</th>\n",
       "      <th>Alive</th>\n",
       "      <th>retention</th>\n",
       "      <th>hazard</th>\n",
       "    </tr>\n",
       "  </thead>\n",
       "  <tbody>\n",
       "    <tr>\n",
       "      <th>0</th>\n",
       "      <td>0</td>\n",
       "      <td>1000</td>\n",
       "      <td>1.000</td>\n",
       "      <td>NaN</td>\n",
       "      <td>NaN</td>\n",
       "    </tr>\n",
       "    <tr>\n",
       "      <th>1</th>\n",
       "      <td>1</td>\n",
       "      <td>631</td>\n",
       "      <td>0.631</td>\n",
       "      <td>0.631000</td>\n",
       "      <td>0.369000</td>\n",
       "    </tr>\n",
       "    <tr>\n",
       "      <th>2</th>\n",
       "      <td>2</td>\n",
       "      <td>468</td>\n",
       "      <td>0.468</td>\n",
       "      <td>0.741680</td>\n",
       "      <td>0.258320</td>\n",
       "    </tr>\n",
       "    <tr>\n",
       "      <th>3</th>\n",
       "      <td>3</td>\n",
       "      <td>382</td>\n",
       "      <td>0.382</td>\n",
       "      <td>0.816239</td>\n",
       "      <td>0.183761</td>\n",
       "    </tr>\n",
       "    <tr>\n",
       "      <th>4</th>\n",
       "      <td>4</td>\n",
       "      <td>326</td>\n",
       "      <td>0.326</td>\n",
       "      <td>0.853403</td>\n",
       "      <td>0.146597</td>\n",
       "    </tr>\n",
       "  </tbody>\n",
       "</table>\n",
       "</div>"
      ],
      "text/plain": [
       "   Year  Customers  Alive  retention    hazard\n",
       "0     0       1000  1.000        NaN       NaN\n",
       "1     1        631  0.631   0.631000  0.369000\n",
       "2     2        468  0.468   0.741680  0.258320\n",
       "3     3        382  0.382   0.816239  0.183761\n",
       "4     4        326  0.326   0.853403  0.146597"
      ]
     },
     "execution_count": 44,
     "metadata": {},
     "output_type": "execute_result"
    }
   ],
   "source": [
    "data_in['hazard'] = 1 - data_in.retention\n",
    "data_in.head()"
   ]
  },
  {
   "cell_type": "markdown",
   "id": "29354f45",
   "metadata": {},
   "source": [
    "Plot the churn rate."
   ]
  },
  {
   "cell_type": "code",
   "execution_count": 45,
   "id": "5d68a023",
   "metadata": {},
   "outputs": [
    {
     "data": {
      "text/plain": [
       "Text(0, 0.5, 'Customers')"
      ]
     },
     "execution_count": 45,
     "metadata": {},
     "output_type": "execute_result"
    },
    {
     "data": {
      "image/png": "[encoded data removed]",
      "text/plain": [
       "<Figure size 432x288 with 1 Axes>"
      ]
     },
     "metadata": {
      "needs_background": "light"
     },
     "output_type": "display_data"
    }
   ],
   "source": [
    "plt.plot(data_in[0:8].Year, data_in[0:8].Customers)\n",
    "plt.title('Churn Behavior')\n",
    "plt.xlabel('Year')\n",
    "plt.ylabel('Customers')"
   ]
  },
  {
   "cell_type": "markdown",
   "id": "30eb526d",
   "metadata": {},
   "source": [
    "First try the simplest fit - an OLS with respect to time."
   ]
  },
  {
   "cell_type": "code",
   "execution_count": 46,
   "id": "d471430a",
   "metadata": {},
   "outputs": [
    {
     "name": "stderr",
     "output_type": "stream",
     "text": [
      "C:\\Users\\rston\\anaconda3\\lib\\site-packages\\statsmodels\\tsa\\tsatools.py:142: FutureWarning: In a future version of pandas all arguments of concat except for the argument 'objs' will be keyword-only\n",
      "  x = pd.concat(x[::order], 1)\n"
     ]
    }
   ],
   "source": [
    "X = sm.add_constant(data_in.Year)\n",
    "y = data_in[1:8].Alive\n",
    "output = sm.OLS(y, X[1:8]).fit()\n",
    "linear = output.predict(X[1:12])"
   ]
  },
  {
   "cell_type": "markdown",
   "id": "4112f576",
   "metadata": {},
   "source": [
    "Try some other simple variations of the least squares fit.\n",
    "\n",
    "Take log of time"
   ]
  },
  {
   "cell_type": "code",
   "execution_count": 47,
   "id": "3ed6767d",
   "metadata": {},
   "outputs": [],
   "source": [
    "#data_in['logtime'] = np.log(data_in.Year)\n",
    "X = sm.add_constant(data_in.Year)\n",
    "y = np.log(data_in[1:8].Alive)\n",
    "output = sm.OLS(y, X[1:8]).fit()\n",
    "loglinear = np.exp(output.predict(X[1:12]))"
   ]
  },
  {
   "cell_type": "markdown",
   "id": "9ab47a63",
   "metadata": {},
   "source": [
    "Take square of time"
   ]
  },
  {
   "cell_type": "code",
   "execution_count": 48,
   "id": "aebcaac9",
   "metadata": {},
   "outputs": [],
   "source": [
    "data_in['year2'] = data_in.Year**2\n",
    "X = np.transpose((data_in.Year, data_in.year2))\n",
    "X = sm.add_constant(X)\n",
    "y = data_in[1:8].Alive\n",
    "output = sm.OLS(y, X[1:8]).fit()\n",
    "square = output.predict(X[1:12])"
   ]
  },
  {
   "cell_type": "markdown",
   "id": "05e71b55",
   "metadata": {},
   "source": [
    "Now plot the predictions of linear, square, and loglinear regression and see the fit. The red line is the input data."
   ]
  },
  {
   "cell_type": "code",
   "execution_count": 49,
   "id": "a0e9319c",
   "metadata": {},
   "outputs": [
    {
     "data": {
      "text/plain": [
       "[<matplotlib.lines.Line2D at 0x239089d2040>]"
      ]
     },
     "execution_count": 49,
     "metadata": {},
     "output_type": "execute_result"
    },
    {
     "data": {
      "image/png": "[encoded data removed]",
      "text/plain": [
       "<Figure size 432x288 with 1 Axes>"
      ]
     },
     "metadata": {
      "needs_background": "light"
     },
     "output_type": "display_data"
    }
   ],
   "source": [
    "plt.plot(data_in.Year[1:12], loglinear, color='green', label='exponential')\n",
    "plt.plot(data_in.Year[1:12], square, color='black', label='square')\n",
    "plt.plot(data_in.Year[1:12], data_in.Alive[1:12], color='red', label='Data')\n",
    "plt.plot(data_in.Year[1:12], linear, color='blue', label='linear')\n"
   ]
  },
  {
   "cell_type": "markdown",
   "id": "950baf92",
   "metadata": {},
   "source": [
    "The loglinear model does the best job, but none is truly satisfactory. Moreoever, these models do OK with in sample data (up to t=7) but start doing poorly with new (later) data.\n",
    "\n",
    "A better solution is to use the geometric model."
   ]
  },
  {
   "cell_type": "markdown",
   "id": "ac17b746",
   "metadata": {},
   "source": [
    "Now create a column with how many people churn every year"
   ]
  },
  {
   "cell_type": "code",
   "execution_count": 51,
   "id": "b2a9790a",
   "metadata": {},
   "outputs": [],
   "source": [
    "data_in['lost'] = 1\n",
    "for i in range(0,7):\n",
    "    data_in.loc[i+1, 'lost'] = data_in.Customers[i] - data_in.Customers[i+1]"
   ]
  },
  {
   "cell_type": "code",
   "execution_count": 1,
   "id": "270185cc",
   "metadata": {},
   "outputs": [
    {
     "ename": "NameError",
     "evalue": "name 'data_in' is not defined",
     "output_type": "error",
     "traceback": [
      "\u001b[1;31m---------------------------------------------------------------------------\u001b[0m",
      "\u001b[1;31mNameError\u001b[0m                                 Traceback (most recent call last)",
      "Cell \u001b[1;32mIn[1], line 1\u001b[0m\n\u001b[1;32m----> 1\u001b[0m \u001b[38;5;28mprint\u001b[39m(\u001b[43mdata_in\u001b[49m)\n",
      "\u001b[1;31mNameError\u001b[0m: name 'data_in' is not defined"
     ]
    }
   ],
   "source": [
    "print(data_in)"
   ]
  },
  {
   "cell_type": "code",
   "execution_count": 53,
   "id": "93c4064f",
   "metadata": {},
   "outputs": [],
   "source": [
    "# Geometric model - we take the first 8 rows\n",
    "data1 = data_in[0:8].copy()\n",
    "\n",
    "def MLE_Geo(params):\n",
    "\n",
    "    theta1 = params\n",
    "\n",
    "    L = [None] * 8\n",
    "\n",
    "    # We ignore the first entry which is year=0 and start from year=1\n",
    "    # these users are churning until year 7\n",
    "    L[0:7] = np.log(theta1 * (1-theta1)**((data1.Year[1:8]) - 1)) * data1.lost[1:8]\n",
    "\n",
    "    # For the last year, year 8, there is no churn. These are the remaining\n",
    "    # users who might churn in the future.\n",
    "    # Now we have to accomodate their survival probability\n",
    "    L[7:8] = np.log((1 - theta1)**((data1.Year[7:8])))*data1.Customers[7:8]\n",
    "    LL = -sum(L)\n",
    "    return LL"
   ]
  },
  {
   "cell_type": "markdown",
   "id": "a648f028",
   "metadata": {},
   "source": [
    "We use Nelder-mead and define the bound to be between 0 and 1."
   ]
  },
  {
   "cell_type": "code",
   "execution_count": 54,
   "id": "6d83ddbb",
   "metadata": {},
   "outputs": [
    {
     "name": "stdout",
     "output_type": "stream",
     "text": [
      "Optimization terminated successfully.\n",
      "         Current function value: 1794.620857\n",
      "         Iterations: 14\n",
      "         Function evaluations: 28\n"
     ]
    },
    {
     "data": {
      "text/plain": [
       " final_simplex: (array([[0.22601563],\n",
       "       [0.22609375]]), array([1794.62085704, 1794.62089796]))\n",
       "           fun: 1794.6208570402935\n",
       "       message: 'Optimization terminated successfully.'\n",
       "          nfev: 28\n",
       "           nit: 14\n",
       "        status: 0\n",
       "       success: True\n",
       "             x: array([0.22601563])"
      ]
     },
     "execution_count": 54,
     "metadata": {},
     "output_type": "execute_result"
    }
   ],
   "source": [
    "bounds = [(0, 1)]\n",
    "mle_model = minimize(MLE_Geo, x0=0.1, method='Nelder-mead', options={'disp': True}, bounds=bounds)\n",
    "mle_model"
   ]
  },
  {
   "cell_type": "code",
   "execution_count": 55,
   "id": "40179fac",
   "metadata": {},
   "outputs": [],
   "source": [
    "# recover the parameters\n",
    "theta1 = mle_model.x"
   ]
  },
  {
   "cell_type": "markdown",
   "id": "542af0dc",
   "metadata": {},
   "source": [
    "probability of churn every year"
   ]
  },
  {
   "cell_type": "code",
   "execution_count": 56,
   "id": "2384796e",
   "metadata": {},
   "outputs": [],
   "source": [
    "churn_prob = (theta1 * (1-theta1)**((data_in.Year[1:12]) - 1))"
   ]
  },
  {
   "cell_type": "markdown",
   "id": "eb7c89da",
   "metadata": {},
   "source": [
    "people remaining after 11 periods"
   ]
  },
  {
   "cell_type": "code",
   "execution_count": 57,
   "id": "c1417e8f",
   "metadata": {},
   "outputs": [],
   "source": [
    "remaining = 1 - sum(churn_prob[1:11])"
   ]
  },
  {
   "cell_type": "markdown",
   "id": "c3bfdb0c",
   "metadata": {},
   "source": [
    "We now append churn_prob with remaining users to calculate the numbers."
   ]
  },
  {
   "cell_type": "code",
   "execution_count": 58,
   "id": "09483c12",
   "metadata": {},
   "outputs": [],
   "source": [
    "# probability of churning in time t\n",
    "pred_churn = np.append(churn_prob, remaining)"
   ]
  },
  {
   "cell_type": "markdown",
   "id": "1dedbb4d",
   "metadata": {},
   "source": [
    "Now we calculate how many remain after churning every time. "
   ]
  },
  {
   "cell_type": "code",
   "execution_count": 59,
   "id": "55f91ee1",
   "metadata": {},
   "outputs": [],
   "source": [
    "# Predictions\n",
    "pred_alive = [None]*12\n",
    "pred_alive[0] = 1000\n",
    "for i in range(1, 12):\n",
    "    pred_alive[i] = pred_alive[i-1] - pred_churn[i-1]*1000"
   ]
  },
  {
   "cell_type": "code",
   "execution_count": 60,
   "id": "00d85fc5",
   "metadata": {},
   "outputs": [
    {
     "data": {
      "image/png": "[encoded data removed]",
      "text/plain": [
       "<Figure size 432x288 with 1 Axes>"
      ]
     },
     "metadata": {
      "needs_background": "light"
     },
     "output_type": "display_data"
    }
   ],
   "source": [
    "plt.plot(data_in.Year[0:12], data_in.Customers[0:12], color='red', label='data')\n",
    "plt.plot(data_in.Year[0:12], np.round(pred_alive), '--',  color='blue', label='prediction')\n",
    "plt.legend()\n",
    "plt.show()"
   ]
  },
  {
   "cell_type": "markdown",
   "id": "c00ff0b7",
   "metadata": {},
   "source": [
    "Calculate the BIC."
   ]
  },
  {
   "cell_type": "code",
   "execution_count": 61,
   "id": "197e35b6",
   "metadata": {},
   "outputs": [
    {
     "data": {
      "text/plain": [
       "3596.149469359569"
      ]
     },
     "execution_count": 61,
     "metadata": {},
     "output_type": "execute_result"
    }
   ],
   "source": [
    "k = 1\n",
    "pop_size = 1000\n",
    "k * np.log(pop_size) - 2 * (-mle_model.fun)"
   ]
  },
  {
   "cell_type": "markdown",
   "id": "179eaf01",
   "metadata": {},
   "source": [
    "Now we estimate 2 segments for the data."
   ]
  },
  {
   "cell_type": "code",
   "execution_count": 62,
   "id": "0192e362",
   "metadata": {},
   "outputs": [],
   "source": [
    "def MLE_Geo_segment(params):\n",
    "    theta1 = params[0]\n",
    "    theta2 = params[1]\n",
    "    p = params[2]\n",
    "    L = [None]*8\n",
    "    Prob = [None]*8\n",
    "\n",
    "    # Due to 2 segments, we need to iterate over the loop.\n",
    "    for i in range(0, 8):\n",
    "        if i < 7:\n",
    "            Prob1 = theta1 * (1 - theta1)**((data1.Year[i+1]) - 1)\n",
    "            Prob2 = theta2 * (1 - theta2)**((data1.Year[i+1]) - 1)\n",
    "            Prob[i] = p * Prob1 + (1-p) * Prob2\n",
    "            L[i] = np.log(Prob[i])*data1.lost[i+1]\n",
    "        else:\n",
    "            Prob_surv = 1 - sum(Prob[0:7])\n",
    "            L[i] = np.log(Prob_surv)*data1.Customers[i]\n",
    "\n",
    "    LL = -sum(L)\n",
    "    params\n",
    "    return LL"
   ]
  },
  {
   "cell_type": "code",
   "execution_count": 63,
   "id": "0ae7e3f1",
   "metadata": {},
   "outputs": [
    {
     "name": "stdout",
     "output_type": "stream",
     "text": [
      "Optimization terminated successfully.\n",
      "         Current function value: 1680.045549\n",
      "         Iterations: 84\n",
      "         Function evaluations: 147\n"
     ]
    },
    {
     "data": {
      "text/plain": [
       " final_simplex: (array([[0.08303934, 0.58603404, 0.43941106],\n",
       "       [0.08302016, 0.585951  , 0.43932445],\n",
       "       [0.08300316, 0.58599213, 0.43933043],\n",
       "       [0.08304625, 0.58609712, 0.43942389]]), array([1680.04554872, 1680.04554993, 1680.04555003, 1680.04555044]))\n",
       "           fun: 1680.0455487209592\n",
       "       message: 'Optimization terminated successfully.'\n",
       "          nfev: 147\n",
       "           nit: 84\n",
       "        status: 0\n",
       "       success: True\n",
       "             x: array([0.08303934, 0.58603404, 0.43941106])"
      ]
     },
     "execution_count": 63,
     "metadata": {},
     "output_type": "execute_result"
    }
   ],
   "source": [
    "bounds = [(0.001, 0.99), (0.001, 0.99), (0.001, 0.99)]\n",
    "init = [0.2, 0.2, 0.2]\n",
    "mle_model = minimize(MLE_Geo_segment, x0=init, method='Nelder-mead', options={'disp': True}, bounds=bounds)\n",
    "mle_model"
   ]
  },
  {
   "cell_type": "markdown",
   "id": "0da46a64",
   "metadata": {},
   "source": [
    "We use these parameters to make a prediction about how many people \"survive\" every period as they churn every period. We do the same as before except we have to account for both segments."
   ]
  },
  {
   "cell_type": "code",
   "execution_count": 64,
   "id": "03a86da0",
   "metadata": {},
   "outputs": [],
   "source": [
    "theta1 = mle_model.x[0]\n",
    "theta2 = mle_model.x[1]\n",
    "p = mle_model.x[2]\n",
    "Prob1 = theta1 * (1 - theta1)**((data_in.Year[1:12]) - 1)\n",
    "Prob2 = theta2 * (1 - theta2)**((data_in.Year[1:12]) - 1)\n",
    "Prob = p * Prob1 + (1-p) * Prob2\n",
    "Prob_surv = 1 - sum(Prob)\n",
    "\n",
    "pred_alive = [None]*12\n",
    "pred_alive[0] = 1000\n",
    "Probb = np.append(Prob, Prob_surv)\n",
    "\n",
    "# Prob_surv\n",
    "for i in range(1, 12):\n",
    "    pred_alive[i] = pred_alive[i-1] - Probb[i-1]*1000"
   ]
  },
  {
   "cell_type": "code",
   "execution_count": 65,
   "id": "17432d6d",
   "metadata": {},
   "outputs": [
    {
     "data": {
      "image/png": "[encoded data removed]",
      "text/plain": [
       "<Figure size 432x288 with 1 Axes>"
      ]
     },
     "metadata": {
      "needs_background": "light"
     },
     "output_type": "display_data"
    }
   ],
   "source": [
    "plt.plot(data_in.Year[0:12], data_in.Customers[0:12], color='red', label='data')\n",
    "plt.plot(data_in.Year[0:12], np.round(pred_alive), '--',  color='blue', label='prediction')\n",
    "plt.legend()\n",
    "plt.show()"
   ]
  },
  {
   "cell_type": "markdown",
   "id": "47b69e5f",
   "metadata": {},
   "source": [
    "Calculate the BIC."
   ]
  },
  {
   "cell_type": "code",
   "execution_count": 66,
   "id": "56236068",
   "metadata": {},
   "outputs": [
    {
     "data": {
      "text/plain": [
       "3380.8143632788647"
      ]
     },
     "execution_count": 66,
     "metadata": {},
     "output_type": "execute_result"
    }
   ],
   "source": [
    "k = 3\n",
    "pop_size = 1000\n",
    "k * np.log(pop_size) - 2 * (-mle_model.fun)"
   ]
  },
  {
   "cell_type": "markdown",
   "id": "43ad59c6",
   "metadata": {},
   "source": [
    "What if the heterogeneity is not discrete but continuous? Here we assume $g(\\theta)$ follows a beta distribution. As before, we have to account for people who have not churned after 7 periods; this is in the \"else\" in the for loop."
   ]
  },
  {
   "cell_type": "code",
   "execution_count": 67,
   "id": "343b9bb6",
   "metadata": {},
   "outputs": [],
   "source": [
    "def MLE_Geo_beta(params):\n",
    "    alpha = params[0]\n",
    "    betaa = params[1]\n",
    "\n",
    "    L = [None]*8\n",
    "    Prob = [None]*8\n",
    "\n",
    "    for i in range(0, 8):\n",
    "        if i < 7:\n",
    "            Prob[i] = beta(alpha + 1, betaa + data1.Year[i+1] - 1)/beta(alpha, betaa)\n",
    "            L[i] = np.log(Prob[i])*data1.lost[i+1]\n",
    "        else:\n",
    "            Prob_surv = 1 - sum(Prob[0:7])\n",
    "            L[i] = np.log(Prob_surv)*data1.Customers[i]\n",
    "\n",
    "    LL = -sum(L)\n",
    "    params\n",
    "    return LL"
   ]
  },
  {
   "cell_type": "code",
   "execution_count": 68,
   "id": "1f7e7018",
   "metadata": {},
   "outputs": [
    {
     "name": "stdout",
     "output_type": "stream",
     "text": [
      "Optimization terminated successfully.\n",
      "         Current function value: 1680.265188\n",
      "         Iterations: 40\n",
      "         Function evaluations: 76\n"
     ]
    },
    {
     "data": {
      "text/plain": [
       " final_simplex: (array([[0.70408791, 1.18206402],\n",
       "       [0.70406642, 1.18201387],\n",
       "       [0.70407763, 1.18201229]]), array([1680.26518848, 1680.26518848, 1680.26518856]))\n",
       "           fun: 1680.2651884764566\n",
       "       message: 'Optimization terminated successfully.'\n",
       "          nfev: 76\n",
       "           nit: 40\n",
       "        status: 0\n",
       "       success: True\n",
       "             x: array([0.70408791, 1.18206402])"
      ]
     },
     "execution_count": 68,
     "metadata": {},
     "output_type": "execute_result"
    }
   ],
   "source": [
    "init = [1, 1]\n",
    "bounds=[(0, 100), (0, 100)]\n",
    "mle_model = minimize(MLE_Geo_beta, x0=init, method='Nelder-mead', options={'disp': True}, bounds=bounds)\n",
    "mle_model"
   ]
  },
  {
   "cell_type": "code",
   "execution_count": 69,
   "id": "e03883d8",
   "metadata": {},
   "outputs": [],
   "source": [
    "# extracting parameters to make predictions\n",
    "alpha = mle_model.x[0]\n",
    "betaa = mle_model.x[1]\n",
    "\n",
    "Prob1 = [None]*12\n",
    "\n",
    "for i in range(0, 12):\n",
    "    if i < 12:\n",
    "        Prob1[i] = beta(alpha + 1, betaa + data_in.Year[i+1] - 1)/beta(alpha, betaa)\n",
    "    else:\n",
    "        Prob_surv = 1 - sum(Prob1[0:11])\n",
    "        Prob1[i] = Prob_surv\n",
    "\n",
    "pred_alive = [None]*12\n",
    "pred_alive[0] = 1000\n",
    "\n",
    "for i in range(1, 12):\n",
    "    pred_alive[i] = pred_alive[i-1] - Prob1[i-1]*1000"
   ]
  },
  {
   "cell_type": "code",
   "execution_count": 70,
   "id": "ee01f6e3",
   "metadata": {},
   "outputs": [
    {
     "data": {
      "image/png": "[encoded data removed]",
      "text/plain": [
       "<Figure size 432x288 with 1 Axes>"
      ]
     },
     "metadata": {
      "needs_background": "light"
     },
     "output_type": "display_data"
    }
   ],
   "source": [
    "plt.plot(data_in.Year[0:12], data_in.Customers[0:12], color='red', label='data')\n",
    "plt.plot(data_in.Year[0:12], np.round(pred_alive), '--',  color='blue', label='prediction')\n",
    "plt.legend()\n",
    "plt.show()"
   ]
  },
  {
   "cell_type": "markdown",
   "id": "3a113cf3",
   "metadata": {},
   "source": [
    "Calculate the BIC."
   ]
  },
  {
   "cell_type": "code",
   "execution_count": 71,
   "id": "69bd3e4f",
   "metadata": {},
   "outputs": [
    {
     "data": {
      "text/plain": [
       "3374.3458875108777"
      ]
     },
     "execution_count": 71,
     "metadata": {},
     "output_type": "execute_result"
    }
   ],
   "source": [
    "k = 2\n",
    "pop_size = 1000\n",
    "k * np.log(pop_size) - 2 * (-mle_model.fun)"
   ]
  }
 ],
 "metadata": {
  "kernelspec": {
   "display_name": "env_312",
   "language": "python",
   "name": "python3"
  },
  "language_info": {
   "codemirror_mode": {
    "name": "ipython",
    "version": 3
   },
   "file_extension": ".py",
   "mimetype": "text/x-python",
   "name": "python",
   "nbconvert_exporter": "python",
   "pygments_lexer": "ipython3",
   "version": "3.13.0"
  }
 },
 "nbformat": 4,
 "nbformat_minor": 5
}
